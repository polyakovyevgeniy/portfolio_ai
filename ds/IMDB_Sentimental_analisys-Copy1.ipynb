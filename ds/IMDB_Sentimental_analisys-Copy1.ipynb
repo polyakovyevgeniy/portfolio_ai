{
 "cells": [
  {
   "cell_type": "markdown",
   "metadata": {},
   "source": [
    "<img src=\"imdb6.jpg\">"
   ]
  },
  {
   "cell_type": "markdown",
   "metadata": {},
   "source": [
    "<center>    \n",
    "# Предсказание тональности отзывов к фильмам портала IMDB\n",
    "\n",
    "<center>\n",
    "**Поляков Евгений**"
   ]
  },
  {
   "cell_type": "markdown",
   "metadata": {},
   "source": [
    "## Аннотация"
   ]
  },
  {
   "cell_type": "markdown",
   "metadata": {},
   "source": [
    "Предсказание тональности текста - полезная функциональность, которая может быть применена в различных областях. Например при оценивани коментариев к новостям об определенном персонаже или известной личности. Наиболее полезным может служить для политических лидеров, и в режиме реального времени по отзывам к новосям в социальных сетях, можно строить картину удовлетворенности пользователей работе... (че-то надо покрасивше придумать)"
   ]
  },
  {
   "cell_type": "markdown",
   "metadata": {},
   "source": [
    "В данной работе оценка тональности текста проводиться на основе рецензий к фильмам собранных с сайта IMDB... (тоже классно придумать описание)"
   ]
  },
  {
   "cell_type": "markdown",
   "metadata": {},
   "source": [
    "## Содержание"
   ]
  },
  {
   "cell_type": "markdown",
   "metadata": {},
   "source": [
    "1. Подготовка среды\n",
    "2. Описание набора данных и признаков\n",
    "3. Первичный анализ даных\n",
    "4. Первичный визуальный анализ данных\n",
    "5. Инсайты, найденные зависимости\n",
    "6. Выбор метрики\n",
    "7. Выбор модели\n",
    "8. Предобработка данных\n",
    "9. Кросс-валидация и настройка гиперпараметров модели\n",
    "10. Создание новых признаков и описание этого процесса\n",
    "11. Построение кривых валидации и обучения\n",
    "12. Прогноз для тестовой или отложенной выборки\n",
    "13. Выводы"
   ]
  },
  {
   "cell_type": "markdown",
   "metadata": {},
   "source": [
    "## 1. Подготовка среды"
   ]
  },
  {
   "cell_type": "markdown",
   "metadata": {},
   "source": [
    "**Подкдючения библиотек и скриптов**"
   ]
  },
  {
   "cell_type": "code",
   "execution_count": 219,
   "metadata": {},
   "outputs": [
    {
     "name": "stdout",
     "output_type": "stream",
     "text": [
      "The autoreload extension is already loaded. To reload it, use:\n",
      "  %reload_ext autoreload\n"
     ]
    }
   ],
   "source": [
    "# Экстеншен для обновления кода во внешних файлах\n",
    "%load_ext autoreload\n",
    "%autoreload 2\n",
    "\n",
    "# Подключаем пути для скриптов\n",
    "import sys\n",
    "sys.path.insert(0, 'scripts/data')\n",
    "\n",
    "# Обработка данных\n",
    "import data_hlp\n",
    "\n",
    "import pixiedust\n",
    "import keras\n",
    "from keras import preprocessing\n",
    "\n",
    "import pandas as pd\n",
    "import numpy as np\n",
    "from tqdm import tqdm_notebook\n",
    "from IPython.display import clear_output\n",
    "\n",
    "import os\n",
    "import time\n",
    "import nltk\n",
    "from nltk.stem import WordNetLemmatizer\n",
    "from collections import OrderedDict\n",
    "from py_linq import Enumerable\n",
    "from keras.models import Sequential\n",
    "from keras.layers import Flatten, Dense, Embedding\n",
    "from sklearn.feature_extraction.text import TfidfVectorizer\n",
    "\n",
    "from sklearn.linear_model import LogisticRegression\n",
    "from sklearn.model_selection import GridSearchCV\n",
    "\n",
    "import matplotlib.pyplot as plt"
   ]
  },
  {
   "cell_type": "markdown",
   "metadata": {},
   "source": [
    "**Дополнительные данные для исследования**"
   ]
  },
  {
   "cell_type": "code",
   "execution_count": 3,
   "metadata": {},
   "outputs": [
    {
     "name": "stdout",
     "output_type": "stream",
     "text": [
      "[nltk_data] Downloading package stopwords to\n",
      "[nltk_data]     C:\\Users\\polyakov\\AppData\\Roaming\\nltk_data...\n",
      "[nltk_data]   Package stopwords is already up-to-date!\n"
     ]
    }
   ],
   "source": [
    "# английские стоп-слова\n",
    "nltk.download('stopwords') # Загружаем стоп-слова\n",
    "en_sw = nltk.corpus.stopwords.words('english')"
   ]
  },
  {
   "cell_type": "markdown",
   "metadata": {},
   "source": [
    "## Описание набора данных и признаков"
   ]
  },
  {
   "cell_type": "markdown",
   "metadata": {},
   "source": [
    "Представлен набор данных, который содержит отзывы пользователей на фильмы с портала IMDB. Ссылка на набор данных: http://ai.stanford.edu/~amaas/data/sentiment/\n",
    "\n",
    "\n",
    "По заявлениям автором набора, он призван служить эталоном для классификации чувств (позитивных или негативных). Набор содержит 50 000 реценизий к фильмам, и поделен на тренировочный и тестовый наборы, по 25 000 в каждом наборе. Каждый из таких наборов поделен на положительные и отрицательные отзывы. Отзывы которые имели нейтральную оценку не были включены в набор. Но были включены те которые выраженно показывают негативное или позитивное отношение к фиильму, что дает возможность более точно предсказывать ситуация избегая неоднозначности."
   ]
  },
  {
   "cell_type": "markdown",
   "metadata": {},
   "source": [
    "**Пути к данным**"
   ]
  },
  {
   "cell_type": "code",
   "execution_count": 3,
   "metadata": {},
   "outputs": [],
   "source": [
    "imdb_dir = 'aclImdb/' # Дериктория с данными\n",
    "train_dir = imdb_dir + 'train/' # Данные для тренировки\n",
    "test_dir = imdb_dir + 'test/' # Данные для тестирования\n",
    "sub_paths = ['pos', 'neg'] # Поддериктории позитивного и негативного класса"
   ]
  },
  {
   "cell_type": "markdown",
   "metadata": {},
   "source": [
    "**Загрузим тренировочные данные**"
   ]
  },
  {
   "cell_type": "code",
   "execution_count": 7,
   "metadata": {},
   "outputs": [
    {
     "name": "stdout",
     "output_type": "stream",
     "text": [
      "Wall time: 4min 48s\n"
     ]
    }
   ],
   "source": [
    "%%time\n",
    "train_data = data_hlp.load_data_set(train_dir, sub_paths)\n",
    "train_texts, train_lbls = train_data\n",
    "train_df = pd.DataFrame({'review': train_texts, 'estimate': train_lbls})\n",
    "clear_output()"
   ]
  },
  {
   "cell_type": "markdown",
   "metadata": {},
   "source": [
    "**Загрузим тестовые данные**"
   ]
  },
  {
   "cell_type": "code",
   "execution_count": 8,
   "metadata": {},
   "outputs": [
    {
     "name": "stdout",
     "output_type": "stream",
     "text": [
      "Wall time: 4min 47s\n"
     ]
    }
   ],
   "source": [
    "%%time\n",
    "test_data = data_hlp.load_data_set(test_dir, sub_paths)\n",
    "test_texts, test_lbls = test_data\n",
    "test_df = pd.DataFrame({'review': test_texts, 'estimate': test_lbls})\n",
    "clear_output()"
   ]
  },
  {
   "cell_type": "markdown",
   "metadata": {},
   "source": [
    "**Сохраним данные**"
   ]
  },
  {
   "cell_type": "code",
   "execution_count": 55,
   "metadata": {},
   "outputs": [
    {
     "name": "stdout",
     "output_type": "stream",
     "text": [
      "saving success!\n",
      "saving success!\n"
     ]
    }
   ],
   "source": [
    "data_hlp.save_data(train_df, 'train_df.pickle')\n",
    "data_hlp.save_data(test_df, 'test_df.pickle')"
   ]
  },
  {
   "cell_type": "markdown",
   "metadata": {},
   "source": [
    "Удалим ненужные переменные"
   ]
  },
  {
   "cell_type": "code",
   "execution_count": null,
   "metadata": {},
   "outputs": [],
   "source": [
    "del train_data, train_texts, train_lbls, test_data, test_texts, test_lbls"
   ]
  },
  {
   "cell_type": "markdown",
   "metadata": {},
   "source": [
    "**<span style=\"color:red\">CHECKPOINT. </span> Загрузим сохраненные данные**"
   ]
  },
  {
   "cell_type": "code",
   "execution_count": 225,
   "metadata": {},
   "outputs": [],
   "source": [
    "train_df = data_hlp.load_data('train_df.pickle')\n",
    "test_df = data_hlp.load_data('test_df.pickle')"
   ]
  },
  {
   "cell_type": "markdown",
   "metadata": {},
   "source": [
    "**Структура данных**"
   ]
  },
  {
   "cell_type": "code",
   "execution_count": 8,
   "metadata": {},
   "outputs": [
    {
     "name": "stdout",
     "output_type": "stream",
     "text": [
      "<class 'pandas.core.frame.DataFrame'>\n",
      "RangeIndex: 25000 entries, 0 to 24999\n",
      "Data columns (total 2 columns):\n",
      "estimate    25000 non-null int64\n",
      "review      25000 non-null object\n",
      "dtypes: int64(1), object(1)\n",
      "memory usage: 390.7+ KB\n"
     ]
    }
   ],
   "source": [
    "train_df.info()"
   ]
  },
  {
   "cell_type": "markdown",
   "metadata": {},
   "source": [
    "**Посмотрим на распределение классов**"
   ]
  },
  {
   "cell_type": "code",
   "execution_count": 9,
   "metadata": {},
   "outputs": [
    {
     "data": {
      "text/plain": [
       "Index(['estimate', 'review'], dtype='object')"
      ]
     },
     "execution_count": 9,
     "metadata": {},
     "output_type": "execute_result"
    }
   ],
   "source": [
    "train_df.columns"
   ]
  },
  {
   "cell_type": "code",
   "execution_count": 10,
   "metadata": {},
   "outputs": [
    {
     "data": {
      "text/plain": [
       "1    12500\n",
       "0    12500\n",
       "Name: estimate, dtype: int64"
      ]
     },
     "execution_count": 10,
     "metadata": {},
     "output_type": "execute_result"
    }
   ],
   "source": [
    "train_df.estimate.value_counts()"
   ]
  },
  {
   "cell_type": "code",
   "execution_count": 11,
   "metadata": {},
   "outputs": [
    {
     "data": {
      "text/plain": [
       "1    12500\n",
       "0    12500\n",
       "Name: estimate, dtype: int64"
      ]
     },
     "execution_count": 11,
     "metadata": {},
     "output_type": "execute_result"
    }
   ],
   "source": [
    "test_df.estimate.value_counts()"
   ]
  },
  {
   "cell_type": "markdown",
   "metadata": {},
   "source": [
    "Данных действительно ровное количество во всех наборах. Это должно положительным образом сказываться на результате."
   ]
  },
  {
   "cell_type": "markdown",
   "metadata": {},
   "source": [
    "## 2. Первичный анализ данных"
   ]
  },
  {
   "cell_type": "markdown",
   "metadata": {},
   "source": [
    "**Посмотрим, как выглядят данные**"
   ]
  },
  {
   "cell_type": "code",
   "execution_count": 12,
   "metadata": {
    "pixiedust": {
     "displayParams": {
      "handlerId": "tableView",
      "table_nocount": "true",
      "table_noschema": "true",
      "table_nosearch": "true"
     }
    }
   },
   "outputs": [
    {
     "data": {
      "text/html": [
       "<style type=\"text/css\">.pd_warning{display:none;}</style><div class=\"pd_warning\"><em>Hey, there's something awesome here! To see it, open this notebook outside GitHub, in a viewer like Jupyter</em></div>\n",
       "        <div class=\"pd_save is-viewer-good\" style=\"padding-right:10px;text-align: center;line-height:initial !important;font-size: xx-large;font-weight: 500;color: coral;\">\n",
       "            \n",
       "        </div>\n",
       "    <div id=\"chartFigureaa0761c4\" class=\"pd_save is-viewer-good\" style=\"overflow-x:auto\">\n",
       "            <style type=\"text/css\" class=\"pd_save\">\n",
       "    .df-table-wrapper .panel-heading {\n",
       "      border-radius: 0;\n",
       "      padding: 0px;\n",
       "    }\n",
       "    .df-table-wrapper .panel-heading:hover {\n",
       "      border-color: #008571;\n",
       "    }\n",
       "    .df-table-wrapper .panel-title a {\n",
       "      background-color: #f9f9fb;\n",
       "      color: #333333;\n",
       "      display: block;\n",
       "      outline: none;\n",
       "      padding: 10px 15px;\n",
       "      text-decoration: none;\n",
       "    }\n",
       "    .df-table-wrapper .panel-title a:hover {\n",
       "      background-color: #337ab7;\n",
       "      border-color: #2e6da4;\n",
       "      color: #ffffff;\n",
       "      display: block;\n",
       "      padding: 10px 15px;\n",
       "      text-decoration: none;\n",
       "    }\n",
       "    .df-table-wrapper {\n",
       "      font-size: small;\n",
       "      font-weight: 300;\n",
       "      letter-spacing: 0.5px;\n",
       "      line-height: normal;\n",
       "      height: inherit;\n",
       "      overflow: auto;\n",
       "    }\n",
       "    .df-table-search {\n",
       "      margin: 0 0 20px 0;\n",
       "    }\n",
       "    .df-table-search-count {\n",
       "      display: inline-block;\n",
       "      margin: 0 0 20px 0;\n",
       "    }\n",
       "    .df-table-container {\n",
       "      max-height: 50vh;\n",
       "      max-width: 100%;\n",
       "      overflow-x: auto;\n",
       "      position: relative;\n",
       "    }\n",
       "    .df-table-wrapper table {\n",
       "      border: 0 none #ffffff;\n",
       "      border-collapse: collapse;\n",
       "      margin: 0;\n",
       "      min-width: 100%;\n",
       "      padding: 0;\n",
       "      table-layout: fixed;\n",
       "      height: inherit;\n",
       "      overflow: auto;\n",
       "    }\n",
       "    .df-table-wrapper tr.hidden {\n",
       "      display: none;\n",
       "    }\n",
       "    .df-table-wrapper tr:nth-child(even) {\n",
       "      background-color: #f9f9fb;\n",
       "    }\n",
       "    .df-table-wrapper tr.even {\n",
       "      background-color: #f9f9fb;\n",
       "    }\n",
       "    .df-table-wrapper tr.odd {\n",
       "      background-color: #ffffff;\n",
       "    }\n",
       "    .df-table-wrapper td + td {\n",
       "      border-left: 1px solid #e0e0e0;\n",
       "    }\n",
       "  \n",
       "    .df-table-wrapper thead,\n",
       "    .fixed-header {\n",
       "      font-weight: 600;\n",
       "    }\n",
       "    .df-table-wrapper tr,\n",
       "    .fixed-row {\n",
       "      border: 0 none #ffffff;\n",
       "      margin: 0;\n",
       "      padding: 0;\n",
       "    }\n",
       "    .df-table-wrapper th,\n",
       "    .df-table-wrapper td,\n",
       "    .fixed-cell {\n",
       "      border: 0 none #ffffff;\n",
       "      margin: 0;\n",
       "      min-width: 50px;\n",
       "      padding: 5px 20px 5px 10px;\n",
       "      text-align: left;\n",
       "      word-wrap: break-word;\n",
       "    }\n",
       "    .df-table-wrapper th {\n",
       "      padding-bottom: 0;\n",
       "      padding-top: 0;\n",
       "    }\n",
       "    .df-table-wrapper th div {\n",
       "      max-height: 1px;\n",
       "      visibility: hidden;\n",
       "    }\n",
       "  \n",
       "    .df-schema-field {\n",
       "      margin-left: 10px;\n",
       "    }\n",
       "  \n",
       "    .fixed-header-container {\n",
       "      overflow: hidden;\n",
       "      position: relative;\n",
       "    }\n",
       "    .fixed-header {\n",
       "      border-bottom: 2px solid #000;\n",
       "      display: table;\n",
       "      position: relative;\n",
       "    }\n",
       "    .fixed-row {\n",
       "      display: table-row;\n",
       "    }\n",
       "    .fixed-cell {\n",
       "      display: table-cell;\n",
       "    }\n",
       "  </style>\n",
       "  \n",
       "  \n",
       "  <div class=\"df-table-wrapper df-table-wrapper-aa0761c4 panel-group pd_save\">\n",
       "    <!-- dataframe schema -->\n",
       "    \n",
       "    <!-- dataframe table -->\n",
       "    <div class=\"panel panel-default\" style=\"border:none;\">\n",
       "      \n",
       "      <div id=\"df-table-aa0761c4\" class=\"panel-collapse collapse in\">\n",
       "        <div class=\"panel-body\">\n",
       "          \n",
       "          <div>\n",
       "            \n",
       "          </div>\n",
       "          <!-- fixed header for when dataframe table scrolls -->\n",
       "          <div class=\"fixed-header-container\">\n",
       "            <div class=\"fixed-header\" style=\"width: 459px;\">\n",
       "              <div class=\"fixed-row\">\n",
       "                \n",
       "                <div class=\"fixed-cell\" style=\"width: 83px;\">estimate</div>\n",
       "                \n",
       "                <div class=\"fixed-cell\" style=\"width: 376px;\">review</div>\n",
       "                \n",
       "              </div>\n",
       "            </div>\n",
       "          </div>\n",
       "          <div class=\"df-table-container\">\n",
       "            <table class=\"df-table\">\n",
       "              <thead>\n",
       "                <tr>\n",
       "                  \n",
       "                  <th><div>estimate</div></th>\n",
       "                  \n",
       "                  <th><div>review</div></th>\n",
       "                  \n",
       "                </tr>\n",
       "              </thead>\n",
       "              <tbody>\n",
       "                \n",
       "                <tr>\n",
       "                  \n",
       "                  <td>0</td>\n",
       "                  \n",
       "                  <td>Typical thriller, has been done many times before. Simple plot outline; cop Liotta becomes obsessed with Russell's wife, and he tries to bump off good ol' Kurt so he can have her. This is beyond predictable, it doesn't even try to make you guess, the plot is the plot and there's no thinking outside the box here. I guess then the only reason to watch it is to see how it develops, but nothing is done originally or interestingly. There's not really anything to say about this film, it's not particularly bad, but there's no good points either. Russell plays Russell and you know what you're gonna get when you see him in a film. Ditto Liotta. Stowe has an annoying Cher-esque voice. I read the plot outline and I could see the film in my head, it was so obvious and basic. I watched it and it rolled out in front of my eyes exactly as I had imagined. I felt not a drop of emotion throughout. I have no feeling towards this film, it's as if I never even watched it. Considering this, it's a pretty pointless film isn't it? Still, I'll give it 3/10 for some reason.</td>\n",
       "                  \n",
       "                </tr>\n",
       "                \n",
       "                <tr>\n",
       "                  \n",
       "                  <td>1</td>\n",
       "                  \n",
       "                  <td>Before Dogma 95: when Lars used movies as art, not just a story. A beautiful painting about love and death. This is one of my favorite movies of all time. The color... The music... Just perfect.</td>\n",
       "                  \n",
       "                </tr>\n",
       "                \n",
       "                <tr>\n",
       "                  \n",
       "                  <td>0</td>\n",
       "                  \n",
       "                  <td>VAMPYRES <br><br>Aspect ratio: 1.85:1<br><br>Sound format: Mono<br><br>A motorist (Murray Brown) is lured to an isolated country house inhabited by two beautiful young women (Marianne Morris and Anulka) and becomes enmeshed in their free-spirited sexual lifestyle, but his hosts turn out to be vampires with a frenzied lust for human blood...<br><br>Taking its cue from the lesbian vampire cycle initiated by maverick director Jean Rollin in France, and consolidated by the success of Hammer's \"Carmilla\" series in the UK, Jose Ramon Larraz' daring shocker VAMPYRES pushed the concept of Adult Horror much further than British censors were prepared to tolerate in 1974, and his film was cut by almost three minutes on its original British release. It isn't difficult to see why! Using its Gothic theme as the pretext for as much nudity, sex and bloodshed as the film's short running time will allow, Larraz (who wrote the screenplay under the pseudonym 'D. Daubeney') uses these commercial elements as mere backdrop to a languid meditation on life, death and the impulses - sexual and otherwise - which affirm the human condition.<br><br>Shot on location at a picturesque country house during the Autumn of 1973, Harry Waxman's haunting cinematography conjures an atmosphere of grim foreboding, in which the desolate countryside - bleak and beautiful in equal measure - seems to foreshadow a whirlwind of impending horror (Larraz pulled a similar trick earlier the same year with SYMPTOMS, a low-key thriller which erupts into a frenzy of violence during the final reel). However, despite its pretensions, VAMPYRES' wafer-thin plot and rough-hewn production values will divide audiences from the outset, and while the two female protagonists are as charismatic and appealing as could be wished, the male lead (Brown, past his prime at the time of filming) is woefully miscast in a role that should have gone to some beautiful twentysomething stud. A must-see item for cult movie fans, an amusing curio for everyone else, VAMPYRES is an acquired taste. Watch out for silent era superstar Bessie Love in a brief cameo at the end of the movie.</td>\n",
       "                  \n",
       "                </tr>\n",
       "                \n",
       "                <tr>\n",
       "                  \n",
       "                  <td>1</td>\n",
       "                  \n",
       "                  <td>Right from the start you see that \"Anchors Aweigh\" is a great comedy. Gene Kelly and Frank Sinatra make such a funny team! The songs they sing together are pure entertainment. Kathryn Grayson is gorgeous and really sweet. Dean Stockwell is the cutiest child actor I've never seen. If you are fond of piano, you'll be amazed by José Iturbi. This movie was the first one to combine animation with real actors and it did that wonderfully in an unforgettable dance number. Undoubtedly one of Kelly's funniest movies.</td>\n",
       "                  \n",
       "                </tr>\n",
       "                \n",
       "                <tr>\n",
       "                  \n",
       "                  <td>1</td>\n",
       "                  \n",
       "                  <td>Dirty Harry has to track down a rape victim who extracts revenge by shooting her assailants in the goolies before killing them. Probably a more apt punishment would be to let them live after the initial shot and let them suffer forever like she and her sister has...Anyway..... an action-packed story set again in San Francisco and Santa Cruz. The chief rapist, played by Andy Drake is suitably vile and gets his punishment at the end (of course!). Not a classic movie but better than the others except for the original Dirty Harry.</td>\n",
       "                  \n",
       "                </tr>\n",
       "                \n",
       "                <tr>\n",
       "                  \n",
       "                  <td>0</td>\n",
       "                  \n",
       "                  <td>OK..... This is the third in the series of carnosaur. Lets star with the dinosaur puppets! In the start of the film you cant See the Dino's cause when the body count starts you can only See the Dino's eye vision, pretty smart to hide the bad puppets! and maybe in 16 minutes forward on the film some special force team with Scott Valentine as the leader Rance, the team walks into the warehouse and then they begins to find body parts and dead body's after the Dino rampage, after a while some big box comes failing on the team and you can hear a velociraptor scream, pretty creepy!!! and then a black girl walks forward and now one blooper is found! It pops up a raptor hand and slashed her face but if you pause when the raptor hand comes you can See that its just a guy with a hand puppet!? WTF! The story is simple. 1. Some terrorist's attacks some truck cause they though It wash some weapons in there. 2. They where dead wrong it seams to be ten tons raptor and one giant t-Rex in there! How did the t-Rex fit in there??? 3. Rance and some nerds will kill the dinosaurs! Sadly some stupid blond girl told him to capture one of them alive=( 4. Holy Jesues the raptors have wheels on their feats! 5. The Dino's is now on a boat in the pacific. 6: Strange i didn't know that the t-Rex had a strange thing on hes neck??? 7. THE END. The film is good if you want a good laugh. 5/10</td>\n",
       "                  \n",
       "                </tr>\n",
       "                \n",
       "                <tr>\n",
       "                  \n",
       "                  <td>1</td>\n",
       "                  \n",
       "                  <td>\"Before Sunrise\" is a wonderful love story and has to be among my Top 5 favorite movies ever. Dialog and acting are great. I love the characters and their ideas and thoughts. Of course, the romantic Vienna, introduced in the movie does not exist (you won't find a poet sitting by the river in the middle of the night) and it isn't possible to get to all the places in only one night, either (especially if you're a stranger and it's your first night in Vienna). But that's not the point. The relationship of the two characters is much more important and this part of the story is not at all unrealistic. Although, nothing ever really happens, the movie never gets boring. The ending is genuinely sad without being \"Titanic\" or something. Even if you don't like love stories you should watch this film! I'm a little skeptic about the sequel that is going to be released in summer. The first part is perfect as it is, in my opinion.</td>\n",
       "                  \n",
       "                </tr>\n",
       "                \n",
       "              </tbody>\n",
       "            </table>\n",
       "          </div>\n",
       "        </div>\n",
       "      </div>\n",
       "    </div>\n",
       "  </div>\n",
       "  \n",
       "  <script class=\"pd_save\">\n",
       "    $(function() {\n",
       "      var tableWrapper = $('.df-table-wrapper-aa0761c4');\n",
       "      var fixedHeader = $('.fixed-header', tableWrapper);\n",
       "      var tableContainer = $('.df-table-container', tableWrapper);\n",
       "      var table = $('.df-table', tableContainer);\n",
       "      var rows = $('tbody > tr', table);\n",
       "      var total = 7;\n",
       "  \n",
       "      fixedHeader\n",
       "        .css('width', table.width())\n",
       "        .find('.fixed-cell')\n",
       "        .each(function(i, e) {\n",
       "          $(this).css('width', $('.df-table-wrapper-aa0761c4 th:nth-child(' + (i+1) + ')').css('width'));\n",
       "        });\n",
       "  \n",
       "      tableContainer.scroll(function() {\n",
       "        fixedHeader.css({ left: table.position().left });\n",
       "      });\n",
       "  \n",
       "      rows.on(\"click\", function(e){\n",
       "          var txt = e.delegateTarget.innerText;\n",
       "          var splits = txt.split(\"\\t\");\n",
       "          var len = splits.length;\n",
       "          var hdrs = $(fixedHeader).find(\".fixed-cell\");\n",
       "          // Add all cells in the selected row as a map to be consumed by the target as needed\n",
       "          var payload = {type:\"select\", targetDivId: \"\" };\n",
       "          for (var i = 0; i < len; i++) {\n",
       "            payload[hdrs[i].innerHTML] = splits[i];\n",
       "          }\n",
       "  \n",
       "          //simple selection highlighting, client adds \"selected\" class\n",
       "          $(this).addClass(\"selected\").siblings().removeClass(\"selected\");\n",
       "          $(document).trigger('pd_event', payload);\n",
       "      });\n",
       "  \n",
       "      $('.df-table-search', tableWrapper).keyup(function() {\n",
       "        var val = '^(?=.*\\\\b' + $.trim($(this).val()).split(/\\s+/).join('\\\\b)(?=.*\\\\b') + ').*$';\n",
       "        var reg = RegExp(val, 'i');\n",
       "        var index = 0;\n",
       "        \n",
       "        rows.each(function(i, e) {\n",
       "          if (!reg.test($(this).text().replace(/\\s+/g, ' '))) {\n",
       "            $(this).attr('class', 'hidden');\n",
       "          }\n",
       "          else {\n",
       "            $(this).attr('class', (++index % 2 == 0 ? 'even' : 'odd'));\n",
       "          }\n",
       "        });\n",
       "        $('.df-table-search-count', tableWrapper).html('Showing ' + index + ' of ' + total + ' rows');\n",
       "      });\n",
       "    });\n",
       "  \n",
       "    $(\".df-table-wrapper td:contains('http://')\").each(function(){var tc = this.textContent; $(this).wrapInner(\"<a target='_blank' href='\" + tc + \"'></a>\");});\n",
       "    $(\".df-table-wrapper td:contains('https://')\").each(function(){var tc = this.textContent; $(this).wrapInner(\"<a target='_blank' href='\" + tc + \"'></a>\");});\n",
       "  </script>\n",
       "  \n",
       "        </div>"
      ],
      "text/plain": [
       "<IPython.core.display.HTML object>"
      ]
     },
     "metadata": {},
     "output_type": "display_data"
    }
   ],
   "source": [
    "display(train_df.sample(7, random_state=10))"
   ]
  },
  {
   "cell_type": "markdown",
   "metadata": {},
   "source": [
    "**Прмер тестового поля**"
   ]
  },
  {
   "cell_type": "markdown",
   "metadata": {},
   "source": [
    "Пример положительного отзыва"
   ]
  },
  {
   "cell_type": "code",
   "execution_count": 13,
   "metadata": {},
   "outputs": [
    {
     "data": {
      "text/plain": [
       "'When I first read Armistead Maupins story I was taken in by the human drama displayed by Gabriel No one and those he cares about and loves. That being said, we have now been given the film version of an excellent story and are expected to see past the gloss of Hollywood...<br /><br />Writer Armistea'"
      ]
     },
     "execution_count": 13,
     "metadata": {},
     "output_type": "execute_result"
    }
   ],
   "source": [
    "train_df[train_df['estimate'] == 1]['review'][10][0:300]"
   ]
  },
  {
   "cell_type": "markdown",
   "metadata": {},
   "source": [
    "Пример отрицательного отзыва"
   ]
  },
  {
   "cell_type": "code",
   "execution_count": 14,
   "metadata": {},
   "outputs": [
    {
     "data": {
      "text/plain": [
       "\"This film is one giant pant load. Paul Schrader is utterly lost in his own bad screenplay. And his directing is about as comatose as it can be without his actually having been sleepwalking during the process. <br /><br />The worst though is Woody Harrelson, whom I ordinarily like when he's properly \""
      ]
     },
     "execution_count": 14,
     "metadata": {},
     "output_type": "execute_result"
    }
   ],
   "source": [
    "pd.DataFrame(train_df[train_df['estimate'] == 0])['review'][12510][0:300]"
   ]
  },
  {
   "cell_type": "markdown",
   "metadata": {},
   "source": [
    "Видно, что в отзывах присутствуют HTML-теги, \n",
    "чтобы нормально обучить модель, нужно от них избавиться"
   ]
  },
  {
   "cell_type": "markdown",
   "metadata": {},
   "source": [
    "Первые два отзыва показали, что отличия в положительных и отрицательных отзывах действительно существенные, если эта тенденция всего набора данных, то возможно более менее преемлемого качества классификации возможно удасться добиться. Проверим эту гипотезу, и выберем несколько выборок из наборов данных, и попробуем проанализировать общие тенденции в данных"
   ]
  },
  {
   "cell_type": "markdown",
   "metadata": {},
   "source": [
    "**Выберем несколько групп из набора данных, и попробуем выяснить общую тенденцию**"
   ]
  },
  {
   "cell_type": "markdown",
   "metadata": {},
   "source": [
    "В каждом классе у нас по 12500 рецензий, перемешаем их и выберем по 3 выборки положительных и отрицательных по 1000 наблюдений в каждой выборке"
   ]
  },
  {
   "cell_type": "code",
   "execution_count": 15,
   "metadata": {},
   "outputs": [
    {
     "name": "stdout",
     "output_type": "stream",
     "text": [
      "Wall time: 7.26 s\n"
     ]
    }
   ],
   "source": [
    "%%time\n",
    "sub_set_names = [\"neg\", \"pos\"]\n",
    "sub_set_result = {}\n",
    "itet1_count = 2\n",
    "iter_2count = 4\n",
    "for sub_set in range(itet1_count):\n",
    "    for count_subs in range(1, iter_2count):\n",
    "        # Информация о выполнении\n",
    "        print(\"iter: [{}/{}]-[{}/{}]\".format(\n",
    "            (sub_set + 1), itet1_count, count_subs, iter_2count))\n",
    "        # Выберем отзывы которые относятся к первому классу, \n",
    "        # перемешаем и выберем певые 1000 штук\n",
    "        tmp_set = train_df[train_df['estimate'] == sub_set].sample(\n",
    "            frac=1, random_state=18).reset_index(\n",
    "                drop=True)['review'][1000 * (count_subs - 1):1000 * (count_subs)]\n",
    "        # Удалим спец-символы и приведем к нижнему решистру\n",
    "        tmp = data_hlp.clean_symbols_data(tmp_set)\n",
    "        # Очистим от стоп-слов\n",
    "        tmp = data_hlp.clean_stop_words(\n",
    "            tmp, en_sw).copy()\n",
    "        cur_name = \"{}_{}\".format(sub_set_names[sub_set], count_subs)\n",
    "        sub_set_result[cur_name] = tmp\n",
    "        clear_output()\n",
    "        # Удалим ненужные переменные\n",
    "del (tmp_set, cur_name, tmp, sub_set_names, \n",
    "    count_subs, sub_set, itet1_count, iter_2count)\n",
    "clear_output()"
   ]
  },
  {
   "cell_type": "markdown",
   "metadata": {},
   "source": [
    "**Выберем наиболее часто используемые слова из положительных и отрицательных отзывах**"
   ]
  },
  {
   "cell_type": "code",
   "execution_count": 30,
   "metadata": {
    "pixiedust": {
     "displayParams": {
      "handlerId": "tableView",
      "table_nocount": "true",
      "table_noschema": "true",
      "table_nosearch": "true"
     }
    }
   },
   "outputs": [
    {
     "data": {
      "text/html": [
       "<style type=\"text/css\">.pd_warning{display:none;}</style><div class=\"pd_warning\"><em>Hey, there's something awesome here! To see it, open this notebook outside GitHub, in a viewer like Jupyter</em></div>\n",
       "        <div class=\"pd_save is-viewer-good\" style=\"padding-right:10px;text-align: center;line-height:initial !important;font-size: xx-large;font-weight: 500;color: coral;\">\n",
       "            \n",
       "        </div>\n",
       "    <div id=\"chartFigure3873995e\" class=\"pd_save is-viewer-good\" style=\"overflow-x:auto\">\n",
       "            <style type=\"text/css\" class=\"pd_save\">\n",
       "    .df-table-wrapper .panel-heading {\n",
       "      border-radius: 0;\n",
       "      padding: 0px;\n",
       "    }\n",
       "    .df-table-wrapper .panel-heading:hover {\n",
       "      border-color: #008571;\n",
       "    }\n",
       "    .df-table-wrapper .panel-title a {\n",
       "      background-color: #f9f9fb;\n",
       "      color: #333333;\n",
       "      display: block;\n",
       "      outline: none;\n",
       "      padding: 10px 15px;\n",
       "      text-decoration: none;\n",
       "    }\n",
       "    .df-table-wrapper .panel-title a:hover {\n",
       "      background-color: #337ab7;\n",
       "      border-color: #2e6da4;\n",
       "      color: #ffffff;\n",
       "      display: block;\n",
       "      padding: 10px 15px;\n",
       "      text-decoration: none;\n",
       "    }\n",
       "    .df-table-wrapper {\n",
       "      font-size: small;\n",
       "      font-weight: 300;\n",
       "      letter-spacing: 0.5px;\n",
       "      line-height: normal;\n",
       "      height: inherit;\n",
       "      overflow: auto;\n",
       "    }\n",
       "    .df-table-search {\n",
       "      margin: 0 0 20px 0;\n",
       "    }\n",
       "    .df-table-search-count {\n",
       "      display: inline-block;\n",
       "      margin: 0 0 20px 0;\n",
       "    }\n",
       "    .df-table-container {\n",
       "      max-height: 50vh;\n",
       "      max-width: 100%;\n",
       "      overflow-x: auto;\n",
       "      position: relative;\n",
       "    }\n",
       "    .df-table-wrapper table {\n",
       "      border: 0 none #ffffff;\n",
       "      border-collapse: collapse;\n",
       "      margin: 0;\n",
       "      min-width: 100%;\n",
       "      padding: 0;\n",
       "      table-layout: fixed;\n",
       "      height: inherit;\n",
       "      overflow: auto;\n",
       "    }\n",
       "    .df-table-wrapper tr.hidden {\n",
       "      display: none;\n",
       "    }\n",
       "    .df-table-wrapper tr:nth-child(even) {\n",
       "      background-color: #f9f9fb;\n",
       "    }\n",
       "    .df-table-wrapper tr.even {\n",
       "      background-color: #f9f9fb;\n",
       "    }\n",
       "    .df-table-wrapper tr.odd {\n",
       "      background-color: #ffffff;\n",
       "    }\n",
       "    .df-table-wrapper td + td {\n",
       "      border-left: 1px solid #e0e0e0;\n",
       "    }\n",
       "  \n",
       "    .df-table-wrapper thead,\n",
       "    .fixed-header {\n",
       "      font-weight: 600;\n",
       "    }\n",
       "    .df-table-wrapper tr,\n",
       "    .fixed-row {\n",
       "      border: 0 none #ffffff;\n",
       "      margin: 0;\n",
       "      padding: 0;\n",
       "    }\n",
       "    .df-table-wrapper th,\n",
       "    .df-table-wrapper td,\n",
       "    .fixed-cell {\n",
       "      border: 0 none #ffffff;\n",
       "      margin: 0;\n",
       "      min-width: 50px;\n",
       "      padding: 5px 20px 5px 10px;\n",
       "      text-align: left;\n",
       "      word-wrap: break-word;\n",
       "    }\n",
       "    .df-table-wrapper th {\n",
       "      padding-bottom: 0;\n",
       "      padding-top: 0;\n",
       "    }\n",
       "    .df-table-wrapper th div {\n",
       "      max-height: 1px;\n",
       "      visibility: hidden;\n",
       "    }\n",
       "  \n",
       "    .df-schema-field {\n",
       "      margin-left: 10px;\n",
       "    }\n",
       "  \n",
       "    .fixed-header-container {\n",
       "      overflow: hidden;\n",
       "      position: relative;\n",
       "    }\n",
       "    .fixed-header {\n",
       "      border-bottom: 2px solid #000;\n",
       "      display: table;\n",
       "      position: relative;\n",
       "    }\n",
       "    .fixed-row {\n",
       "      display: table-row;\n",
       "    }\n",
       "    .fixed-cell {\n",
       "      display: table-cell;\n",
       "    }\n",
       "  </style>\n",
       "  \n",
       "  \n",
       "  <div class=\"df-table-wrapper df-table-wrapper-3873995e panel-group pd_save\">\n",
       "    <!-- dataframe schema -->\n",
       "    \n",
       "    <!-- dataframe table -->\n",
       "    <div class=\"panel panel-default\" style=\"border:none;\">\n",
       "      \n",
       "      <div id=\"df-table-3873995e\" class=\"panel-collapse collapse in\">\n",
       "        <div class=\"panel-body\">\n",
       "          \n",
       "          <div>\n",
       "            \n",
       "          </div>\n",
       "          <!-- fixed header for when dataframe table scrolls -->\n",
       "          <div class=\"fixed-header-container\">\n",
       "            <div class=\"fixed-header\" style=\"width: 776px;\">\n",
       "              <div class=\"fixed-row\">\n",
       "                \n",
       "                <div class=\"fixed-cell\" style=\"width: 127px;\">neg_1</div>\n",
       "                \n",
       "                <div class=\"fixed-cell\" style=\"width: 133px;\">neg_2</div>\n",
       "                \n",
       "                <div class=\"fixed-cell\" style=\"width: 133px;\">neg_3</div>\n",
       "                \n",
       "                <div class=\"fixed-cell\" style=\"width: 127px;\">pos_1</div>\n",
       "                \n",
       "                <div class=\"fixed-cell\" style=\"width: 128px;\">pos_2</div>\n",
       "                \n",
       "                <div class=\"fixed-cell\" style=\"width: 128px;\">pos_3</div>\n",
       "                \n",
       "              </div>\n",
       "            </div>\n",
       "          </div>\n",
       "          <div class=\"df-table-container\">\n",
       "            <table class=\"df-table\">\n",
       "              <thead>\n",
       "                <tr>\n",
       "                  \n",
       "                  <th><div>neg_1</div></th>\n",
       "                  \n",
       "                  <th><div>neg_2</div></th>\n",
       "                  \n",
       "                  <th><div>neg_3</div></th>\n",
       "                  \n",
       "                  <th><div>pos_1</div></th>\n",
       "                  \n",
       "                  <th><div>pos_2</div></th>\n",
       "                  \n",
       "                  <th><div>pos_3</div></th>\n",
       "                  \n",
       "                </tr>\n",
       "              </thead>\n",
       "              <tbody>\n",
       "                \n",
       "                <tr>\n",
       "                  \n",
       "                  <td>movie</td>\n",
       "                  \n",
       "                  <td>movie</td>\n",
       "                  \n",
       "                  <td>movie</td>\n",
       "                  \n",
       "                  <td>movie</td>\n",
       "                  \n",
       "                  <td>film</td>\n",
       "                  \n",
       "                  <td>film</td>\n",
       "                  \n",
       "                </tr>\n",
       "                \n",
       "                <tr>\n",
       "                  \n",
       "                  <td>film</td>\n",
       "                  \n",
       "                  <td>film</td>\n",
       "                  \n",
       "                  <td>film</td>\n",
       "                  \n",
       "                  <td>film</td>\n",
       "                  \n",
       "                  <td>movie</td>\n",
       "                  \n",
       "                  <td>movie</td>\n",
       "                  \n",
       "                </tr>\n",
       "                \n",
       "                <tr>\n",
       "                  \n",
       "                  <td>one</td>\n",
       "                  \n",
       "                  <td>one</td>\n",
       "                  \n",
       "                  <td>one</td>\n",
       "                  \n",
       "                  <td>one</td>\n",
       "                  \n",
       "                  <td>one</td>\n",
       "                  \n",
       "                  <td>one</td>\n",
       "                  \n",
       "                </tr>\n",
       "                \n",
       "                <tr>\n",
       "                  \n",
       "                  <td>like</td>\n",
       "                  \n",
       "                  <td>like</td>\n",
       "                  \n",
       "                  <td>like</td>\n",
       "                  \n",
       "                  <td>like</td>\n",
       "                  \n",
       "                  <td>like</td>\n",
       "                  \n",
       "                  <td>like</td>\n",
       "                  \n",
       "                </tr>\n",
       "                \n",
       "                <tr>\n",
       "                  \n",
       "                  <td>good</td>\n",
       "                  \n",
       "                  <td>bad</td>\n",
       "                  \n",
       "                  <td>even</td>\n",
       "                  \n",
       "                  <td>good</td>\n",
       "                  \n",
       "                  <td>good</td>\n",
       "                  \n",
       "                  <td>good</td>\n",
       "                  \n",
       "                </tr>\n",
       "                \n",
       "                <tr>\n",
       "                  \n",
       "                  <td>bad</td>\n",
       "                  \n",
       "                  <td>even</td>\n",
       "                  \n",
       "                  <td>bad</td>\n",
       "                  \n",
       "                  <td>story</td>\n",
       "                  \n",
       "                  <td>story</td>\n",
       "                  \n",
       "                  <td>story</td>\n",
       "                  \n",
       "                </tr>\n",
       "                \n",
       "                <tr>\n",
       "                  \n",
       "                  <td>even</td>\n",
       "                  \n",
       "                  <td>good</td>\n",
       "                  \n",
       "                  <td>good</td>\n",
       "                  \n",
       "                  <td>well</td>\n",
       "                  \n",
       "                  <td>great</td>\n",
       "                  \n",
       "                  <td>time</td>\n",
       "                  \n",
       "                </tr>\n",
       "                \n",
       "                <tr>\n",
       "                  \n",
       "                  <td>would</td>\n",
       "                  \n",
       "                  <td>would</td>\n",
       "                  \n",
       "                  <td>would</td>\n",
       "                  \n",
       "                  <td>great</td>\n",
       "                  \n",
       "                  <td>see</td>\n",
       "                  \n",
       "                  <td>great</td>\n",
       "                  \n",
       "                </tr>\n",
       "                \n",
       "                <tr>\n",
       "                  \n",
       "                  <td>really</td>\n",
       "                  \n",
       "                  <td>really</td>\n",
       "                  \n",
       "                  <td>time</td>\n",
       "                  \n",
       "                  <td>time</td>\n",
       "                  \n",
       "                  <td>well</td>\n",
       "                  \n",
       "                  <td>well</td>\n",
       "                  \n",
       "                </tr>\n",
       "                \n",
       "                <tr>\n",
       "                  \n",
       "                  <td>time</td>\n",
       "                  \n",
       "                  <td>time</td>\n",
       "                  \n",
       "                  <td>really</td>\n",
       "                  \n",
       "                  <td>see</td>\n",
       "                  \n",
       "                  <td>time</td>\n",
       "                  \n",
       "                  <td>see</td>\n",
       "                  \n",
       "                </tr>\n",
       "                \n",
       "                <tr>\n",
       "                  \n",
       "                  <td>story</td>\n",
       "                  \n",
       "                  <td>much</td>\n",
       "                  \n",
       "                  <td>see</td>\n",
       "                  \n",
       "                  <td>also</td>\n",
       "                  \n",
       "                  <td>also</td>\n",
       "                  \n",
       "                  <td>would</td>\n",
       "                  \n",
       "                </tr>\n",
       "                \n",
       "                <tr>\n",
       "                  \n",
       "                  <td>see</td>\n",
       "                  \n",
       "                  <td>see</td>\n",
       "                  \n",
       "                  <td>much</td>\n",
       "                  \n",
       "                  <td>would</td>\n",
       "                  \n",
       "                  <td>would</td>\n",
       "                  \n",
       "                  <td>really</td>\n",
       "                  \n",
       "                </tr>\n",
       "                \n",
       "                <tr>\n",
       "                  \n",
       "                  <td>get</td>\n",
       "                  \n",
       "                  <td>story</td>\n",
       "                  \n",
       "                  <td>get</td>\n",
       "                  \n",
       "                  <td>really</td>\n",
       "                  \n",
       "                  <td>really</td>\n",
       "                  \n",
       "                  <td>also</td>\n",
       "                  \n",
       "                </tr>\n",
       "                \n",
       "                <tr>\n",
       "                  \n",
       "                  <td>much</td>\n",
       "                  \n",
       "                  <td>make</td>\n",
       "                  \n",
       "                  <td>made</td>\n",
       "                  \n",
       "                  <td>first</td>\n",
       "                  \n",
       "                  <td>even</td>\n",
       "                  \n",
       "                  <td>best</td>\n",
       "                  \n",
       "                </tr>\n",
       "                \n",
       "                <tr>\n",
       "                  \n",
       "                  <td>make</td>\n",
       "                  \n",
       "                  <td>people</td>\n",
       "                  \n",
       "                  <td>people</td>\n",
       "                  \n",
       "                  <td>life</td>\n",
       "                  \n",
       "                  <td>much</td>\n",
       "                  \n",
       "                  <td>first</td>\n",
       "                  \n",
       "                </tr>\n",
       "                \n",
       "              </tbody>\n",
       "            </table>\n",
       "          </div>\n",
       "        </div>\n",
       "      </div>\n",
       "    </div>\n",
       "  </div>\n",
       "  \n",
       "  <script class=\"pd_save\">\n",
       "    $(function() {\n",
       "      var tableWrapper = $('.df-table-wrapper-3873995e');\n",
       "      var fixedHeader = $('.fixed-header', tableWrapper);\n",
       "      var tableContainer = $('.df-table-container', tableWrapper);\n",
       "      var table = $('.df-table', tableContainer);\n",
       "      var rows = $('tbody > tr', table);\n",
       "      var total = 15;\n",
       "  \n",
       "      fixedHeader\n",
       "        .css('width', table.width())\n",
       "        .find('.fixed-cell')\n",
       "        .each(function(i, e) {\n",
       "          $(this).css('width', $('.df-table-wrapper-3873995e th:nth-child(' + (i+1) + ')').css('width'));\n",
       "        });\n",
       "  \n",
       "      tableContainer.scroll(function() {\n",
       "        fixedHeader.css({ left: table.position().left });\n",
       "      });\n",
       "  \n",
       "      rows.on(\"click\", function(e){\n",
       "          var txt = e.delegateTarget.innerText;\n",
       "          var splits = txt.split(\"\\t\");\n",
       "          var len = splits.length;\n",
       "          var hdrs = $(fixedHeader).find(\".fixed-cell\");\n",
       "          // Add all cells in the selected row as a map to be consumed by the target as needed\n",
       "          var payload = {type:\"select\", targetDivId: \"\" };\n",
       "          for (var i = 0; i < len; i++) {\n",
       "            payload[hdrs[i].innerHTML] = splits[i];\n",
       "          }\n",
       "  \n",
       "          //simple selection highlighting, client adds \"selected\" class\n",
       "          $(this).addClass(\"selected\").siblings().removeClass(\"selected\");\n",
       "          $(document).trigger('pd_event', payload);\n",
       "      });\n",
       "  \n",
       "      $('.df-table-search', tableWrapper).keyup(function() {\n",
       "        var val = '^(?=.*\\\\b' + $.trim($(this).val()).split(/\\s+/).join('\\\\b)(?=.*\\\\b') + ').*$';\n",
       "        var reg = RegExp(val, 'i');\n",
       "        var index = 0;\n",
       "        \n",
       "        rows.each(function(i, e) {\n",
       "          if (!reg.test($(this).text().replace(/\\s+/g, ' '))) {\n",
       "            $(this).attr('class', 'hidden');\n",
       "          }\n",
       "          else {\n",
       "            $(this).attr('class', (++index % 2 == 0 ? 'even' : 'odd'));\n",
       "          }\n",
       "        });\n",
       "        $('.df-table-search-count', tableWrapper).html('Showing ' + index + ' of ' + total + ' rows');\n",
       "      });\n",
       "    });\n",
       "  \n",
       "    $(\".df-table-wrapper td:contains('http://')\").each(function(){var tc = this.textContent; $(this).wrapInner(\"<a target='_blank' href='\" + tc + \"'></a>\");});\n",
       "    $(\".df-table-wrapper td:contains('https://')\").each(function(){var tc = this.textContent; $(this).wrapInner(\"<a target='_blank' href='\" + tc + \"'></a>\");});\n",
       "  </script>\n",
       "  \n",
       "        </div>"
      ],
      "text/plain": [
       "<IPython.core.display.HTML object>"
      ]
     },
     "metadata": {},
     "output_type": "display_data"
    }
   ],
   "source": [
    "# Посмотрим на самые популярные слова\n",
    "most_popular = {}\n",
    "for key in sub_set_result.keys():\n",
    "    vcb_pop, _ = data_hlp.create_vocab(sub_set_result[key])\n",
    "    val = Enumerable(vcb_pop).take(15).to_list()\n",
    "    most_popular[key] = val\n",
    "    clear_output(wait=True)\n",
    "del key, val, vcb_pop, _\n",
    "display(pd.DataFrame(most_popular))"
   ]
  },
  {
   "cell_type": "markdown",
   "metadata": {},
   "source": [
    "Видно, что наиболее часто используемые слова пересекаются межру 3-мя выборками, и не такого уж и большлго размера. Отсюда можно сделать вывод, что данные являются репрезентативными на таком небольшой обьеме выборки, и можно достаточно плодотворно проводить исседование именно на такой подвыборке,  и не задействовать все данные из всего дата-сета. Но есть небольшое замечание, что популярные слова встречаются как в положительной так и в отрицательных рецензиях. Нужно проверить на достоверность рецензий, вполне возможно, что есть негативные рецензии, которые помечены как позитивные и наоборот. Это может сыграть злую шутку в классификации."
   ]
  },
  {
   "cell_type": "markdown",
   "metadata": {},
   "source": [
    "## Первичный визуальный анализ данных"
   ]
  },
  {
   "cell_type": "markdown",
   "metadata": {},
   "source": [
    "Посмотрим как соотноситься длина отзывов когда они положительные и отрицательные"
   ]
  },
  {
   "cell_type": "markdown",
   "metadata": {},
   "source": [
    "Выберем 3000 случайных отзывов, и на них будем строить предположения"
   ]
  },
  {
   "cell_type": "code",
   "execution_count": 227,
   "metadata": {},
   "outputs": [],
   "source": [
    "sub_set = train_df.sample(frac=1)[0: 3000]"
   ]
  },
  {
   "cell_type": "code",
   "execution_count": 233,
   "metadata": {},
   "outputs": [],
   "source": [
    "pos_counts = sub_set[sub_set['estimate'] == 1]['review'].apply(lambda x: len(x.split()))\n",
    "neg_counts = sub_set[sub_set['estimate'] == 0]['review'].apply(lambda x: len(x.split()))"
   ]
  },
  {
   "cell_type": "code",
   "execution_count": 239,
   "metadata": {},
   "outputs": [
    {
     "data": {
      "image/png": "[encoded data removed]",
      "text/plain": [
       "<Figure size 432x288 with 1 Axes>"
      ]
     },
     "metadata": {},
     "output_type": "display_data"
    }
   ],
   "source": [
    "ax = pd.DataFrame([np.mean(neg_counts), np.mean(pos_counts)]).plot.bar()"
   ]
  },
  {
   "cell_type": "markdown",
   "metadata": {},
   "source": [
    "Тут будет много граыыиков и исследований... только позже..."
   ]
  },
  {
   "cell_type": "markdown",
   "metadata": {},
   "source": [
    "## Предобработка данных"
   ]
  },
  {
   "cell_type": "markdown",
   "metadata": {},
   "source": [
    "**Первичная предобработка**"
   ]
  },
  {
   "cell_type": "markdown",
   "metadata": {},
   "source": [
    "Видно было, что в данных есть мусор, есть html_теги, для начала было бы неплохо от этого избавиться, а также сразу удалим стоп-слова"
   ]
  },
  {
   "cell_type": "markdown",
   "metadata": {},
   "source": [
    "**Очистим данные от ''мусора''**"
   ]
  },
  {
   "cell_type": "code",
   "execution_count": 3,
   "metadata": {},
   "outputs": [
    {
     "name": "stdout",
     "output_type": "stream",
     "text": [
      "Wall time: 33.8 s\n"
     ]
    }
   ],
   "source": [
    "%%time\n",
    "print(\"iter: 1/2\")\n",
    "train_df['review'] = data_hlp.clean_symbols_data(train_df['review'])\n",
    "clear_output()\n",
    "print(\"iter: 2/2\")\n",
    "test_df['review'] = data_hlp.clean_symbols_data(test_df['review'])\n",
    "clear_output()"
   ]
  },
  {
   "cell_type": "markdown",
   "metadata": {},
   "source": [
    "**Удалим стоп-слова**"
   ]
  },
  {
   "cell_type": "code",
   "execution_count": 6,
   "metadata": {},
   "outputs": [
    {
     "name": "stdout",
     "output_type": "stream",
     "text": [
      "Wall time: 39.9 s\n"
     ]
    }
   ],
   "source": [
    "%%time\n",
    "print(\"iter: 1/2\")\n",
    "train_df['review'] = data_hlp.clean_stop_words(train_df['review'], en_sw)\n",
    "clear_output()\n",
    "print(\"iter: 2/2\")\n",
    "test_df['review'] = data_hlp.clean_stop_words(test_df['review'], en_sw)\n",
    "clear_output()"
   ]
  },
  {
   "cell_type": "markdown",
   "metadata": {},
   "source": [
    "**Сохраним данные**"
   ]
  },
  {
   "cell_type": "code",
   "execution_count": 9,
   "metadata": {},
   "outputs": [
    {
     "name": "stdout",
     "output_type": "stream",
     "text": [
      "saving success!\n",
      "saving success!\n"
     ]
    }
   ],
   "source": [
    "data_hlp.save_data(train_df, 'train_df_cleaned.pickle')\n",
    "data_hlp.save_data(test_df, 'test_df_cleaned.pickle')"
   ]
  },
  {
   "cell_type": "markdown",
   "metadata": {},
   "source": [
    "**<span style=\"color:red\">CHECKPOINT. </span> Загрузим сохраненные данные**"
   ]
  },
  {
   "cell_type": "code",
   "execution_count": 4,
   "metadata": {},
   "outputs": [],
   "source": [
    "train_df = data_hlp.load_data('train_df_cleaned.pickle')\n",
    "test_df = data_hlp.load_data('test_df_cleaned.pickle')"
   ]
  },
  {
   "cell_type": "markdown",
   "metadata": {},
   "source": [
    "Вот так теперь все это выглядит без стоп-слов"
   ]
  },
  {
   "cell_type": "code",
   "execution_count": 33,
   "metadata": {},
   "outputs": [
    {
     "data": {
      "text/plain": [
       "'omelessness houselessness george carlin stated issue years never plan help street considered human everything going school work vote matter people think homeless lost cause worrying things racism war'"
      ]
     },
     "execution_count": 33,
     "metadata": {},
     "output_type": "execute_result"
    }
   ],
   "source": [
    "train_df['review'][1][1:200]"
   ]
  },
  {
   "cell_type": "markdown",
   "metadata": {},
   "source": [
    "**Создание словаря**"
   ]
  },
  {
   "cell_type": "code",
   "execution_count": 34,
   "metadata": {},
   "outputs": [
    {
     "name": "stdout",
     "output_type": "stream",
     "text": [
      "Wall time: 1.44 s\n"
     ]
    }
   ],
   "source": [
    "%%time\n",
    "train_df_vocab_by_count, train_df_vocab_by_popular = data_hlp.create_vocab(train_df['review'])\n",
    "clear_output()"
   ]
  },
  {
   "cell_type": "markdown",
   "metadata": {},
   "source": [
    "Длина словаря"
   ]
  },
  {
   "cell_type": "code",
   "execution_count": 36,
   "metadata": {},
   "outputs": [
    {
     "data": {
      "text/plain": [
       "74065"
      ]
     },
     "execution_count": 36,
     "metadata": {},
     "output_type": "execute_result"
    }
   ],
   "source": [
    "len(train_df_vocab_by_popular)"
   ]
  },
  {
   "cell_type": "code",
   "execution_count": null,
   "metadata": {},
   "outputs": [],
   "source": [
    "Посмотрим как выглядит список самых популярных слов"
   ]
  },
  {
   "cell_type": "code",
   "execution_count": 58,
   "metadata": {
    "pixiedust": {
     "displayParams": {
      "handlerId": "tableView",
      "rendererId": "seaborn",
      "table_nocount": "true",
      "table_noschema": "true",
      "table_nosearch": "true"
     }
    }
   },
   "outputs": [
    {
     "name": "stdout",
     "output_type": "stream",
     "text": [
      "     Count  Word Name\n",
      "0    movie      44031\n",
      "1     film      40147\n",
      "2      one      26788\n",
      "3     like      20274\n",
      "4     good      15140\n",
      "5     time      12724\n",
      "6     even      12646\n",
      "7    would      12436\n",
      "8    story      11983\n",
      "9   really      11736\n",
      "10     see      11475\n",
      "11    well      10662\n",
      "12    much       9765\n",
      "13     get       9310\n",
      "14     bad       9301\n"
     ]
    }
   ],
   "source": [
    "print(pd.DataFrame({\"Word Name\": Enumerable({v:k for k,v in train_df_vocab_by_count.items()}).take(15).to_list(),\n",
    "\"Count\": Enumerable(train_df_vocab_by_count).take(15).to_list()}))"
   ]
  },
  {
   "cell_type": "markdown",
   "metadata": {},
   "source": [
    "Как и в случае выборок по 1000 значений, слова: ***movie*** и ***film***  оказались самыми популярными"
   ]
  },
  {
   "cell_type": "markdown",
   "metadata": {},
   "source": [
    "**Создание векторного представления**"
   ]
  },
  {
   "cell_type": "markdown",
   "metadata": {},
   "source": [
    "Для примера возьмем 10000 слов в словаре, но при обучении модели попробуем найти оптимальные параметры количества свлов в словаре при подборе параметров"
   ]
  },
  {
   "cell_type": "code",
   "execution_count": 199,
   "metadata": {},
   "outputs": [],
   "source": [
    "#time\n",
    "print(\"iter: 1/2\")\n",
    "train_df['review_vec'] = data_hlp.create_vectors(train_df['review'], train_df_vocab_by_popular, 10000)\n",
    "clear_output()\n",
    "print(\"iter: 1/2\")\n",
    "test_df['review_vec'] = data_hlp.create_vectors(test_df['review'], train_df_vocab_by_popular, 10000)\n",
    "clear_output()"
   ]
  },
  {
   "cell_type": "markdown",
   "metadata": {},
   "source": [
    "Получили вот такие векторые представления"
   ]
  },
  {
   "cell_type": "code",
   "execution_count": 200,
   "metadata": {
    "pixiedust": {
     "displayParams": {
      "handlerId": "tableView",
      "table_nocount": "true",
      "table_noschema": "true",
      "table_nosearch": "true"
     }
    }
   },
   "outputs": [
    {
     "data": {
      "text/html": [
       "<style type=\"text/css\">.pd_warning{display:none;}</style><div class=\"pd_warning\"><em>Hey, there's something awesome here! To see it, open this notebook outside GitHub, in a viewer like Jupyter</em></div>\n",
       "        <div class=\"pd_save is-viewer-good\" style=\"padding-right:10px;text-align: center;line-height:initial !important;font-size: xx-large;font-weight: 500;color: coral;\">\n",
       "            \n",
       "        </div>\n",
       "    <div id=\"chartFigureb4b530f6\" class=\"pd_save is-viewer-good\" style=\"overflow-x:auto\">\n",
       "            <style type=\"text/css\" class=\"pd_save\">\n",
       "    .df-table-wrapper .panel-heading {\n",
       "      border-radius: 0;\n",
       "      padding: 0px;\n",
       "    }\n",
       "    .df-table-wrapper .panel-heading:hover {\n",
       "      border-color: #008571;\n",
       "    }\n",
       "    .df-table-wrapper .panel-title a {\n",
       "      background-color: #f9f9fb;\n",
       "      color: #333333;\n",
       "      display: block;\n",
       "      outline: none;\n",
       "      padding: 10px 15px;\n",
       "      text-decoration: none;\n",
       "    }\n",
       "    .df-table-wrapper .panel-title a:hover {\n",
       "      background-color: #337ab7;\n",
       "      border-color: #2e6da4;\n",
       "      color: #ffffff;\n",
       "      display: block;\n",
       "      padding: 10px 15px;\n",
       "      text-decoration: none;\n",
       "    }\n",
       "    .df-table-wrapper {\n",
       "      font-size: small;\n",
       "      font-weight: 300;\n",
       "      letter-spacing: 0.5px;\n",
       "      line-height: normal;\n",
       "      height: inherit;\n",
       "      overflow: auto;\n",
       "    }\n",
       "    .df-table-search {\n",
       "      margin: 0 0 20px 0;\n",
       "    }\n",
       "    .df-table-search-count {\n",
       "      display: inline-block;\n",
       "      margin: 0 0 20px 0;\n",
       "    }\n",
       "    .df-table-container {\n",
       "      max-height: 50vh;\n",
       "      max-width: 100%;\n",
       "      overflow-x: auto;\n",
       "      position: relative;\n",
       "    }\n",
       "    .df-table-wrapper table {\n",
       "      border: 0 none #ffffff;\n",
       "      border-collapse: collapse;\n",
       "      margin: 0;\n",
       "      min-width: 100%;\n",
       "      padding: 0;\n",
       "      table-layout: fixed;\n",
       "      height: inherit;\n",
       "      overflow: auto;\n",
       "    }\n",
       "    .df-table-wrapper tr.hidden {\n",
       "      display: none;\n",
       "    }\n",
       "    .df-table-wrapper tr:nth-child(even) {\n",
       "      background-color: #f9f9fb;\n",
       "    }\n",
       "    .df-table-wrapper tr.even {\n",
       "      background-color: #f9f9fb;\n",
       "    }\n",
       "    .df-table-wrapper tr.odd {\n",
       "      background-color: #ffffff;\n",
       "    }\n",
       "    .df-table-wrapper td + td {\n",
       "      border-left: 1px solid #e0e0e0;\n",
       "    }\n",
       "  \n",
       "    .df-table-wrapper thead,\n",
       "    .fixed-header {\n",
       "      font-weight: 600;\n",
       "    }\n",
       "    .df-table-wrapper tr,\n",
       "    .fixed-row {\n",
       "      border: 0 none #ffffff;\n",
       "      margin: 0;\n",
       "      padding: 0;\n",
       "    }\n",
       "    .df-table-wrapper th,\n",
       "    .df-table-wrapper td,\n",
       "    .fixed-cell {\n",
       "      border: 0 none #ffffff;\n",
       "      margin: 0;\n",
       "      min-width: 50px;\n",
       "      padding: 5px 20px 5px 10px;\n",
       "      text-align: left;\n",
       "      word-wrap: break-word;\n",
       "    }\n",
       "    .df-table-wrapper th {\n",
       "      padding-bottom: 0;\n",
       "      padding-top: 0;\n",
       "    }\n",
       "    .df-table-wrapper th div {\n",
       "      max-height: 1px;\n",
       "      visibility: hidden;\n",
       "    }\n",
       "  \n",
       "    .df-schema-field {\n",
       "      margin-left: 10px;\n",
       "    }\n",
       "  \n",
       "    .fixed-header-container {\n",
       "      overflow: hidden;\n",
       "      position: relative;\n",
       "    }\n",
       "    .fixed-header {\n",
       "      border-bottom: 2px solid #000;\n",
       "      display: table;\n",
       "      position: relative;\n",
       "    }\n",
       "    .fixed-row {\n",
       "      display: table-row;\n",
       "    }\n",
       "    .fixed-cell {\n",
       "      display: table-cell;\n",
       "    }\n",
       "  </style>\n",
       "  \n",
       "  \n",
       "  <div class=\"df-table-wrapper df-table-wrapper-b4b530f6 panel-group pd_save\">\n",
       "    <!-- dataframe schema -->\n",
       "    \n",
       "    <!-- dataframe table -->\n",
       "    <div class=\"panel panel-default\" style=\"border:none;\">\n",
       "      \n",
       "      <div id=\"df-table-b4b530f6\" class=\"panel-collapse collapse in\">\n",
       "        <div class=\"panel-body\">\n",
       "          \n",
       "          <div>\n",
       "            \n",
       "          </div>\n",
       "          <!-- fixed header for when dataframe table scrolls -->\n",
       "          <div class=\"fixed-header-container\">\n",
       "            <div class=\"fixed-header\" style=\"width: 759px;\">\n",
       "              <div class=\"fixed-row\">\n",
       "                \n",
       "                <div class=\"fixed-cell\" style=\"width: 434px;\">review</div>\n",
       "                \n",
       "                <div class=\"fixed-cell\" style=\"width: 325px;\">review_vec</div>\n",
       "                \n",
       "              </div>\n",
       "            </div>\n",
       "          </div>\n",
       "          <div class=\"df-table-container\">\n",
       "            <table class=\"df-table\">\n",
       "              <thead>\n",
       "                <tr>\n",
       "                  \n",
       "                  <th><div>review</div></th>\n",
       "                  \n",
       "                  <th><div>review_vec</div></th>\n",
       "                  \n",
       "                </tr>\n",
       "              </thead>\n",
       "              <tbody>\n",
       "                \n",
       "                <tr>\n",
       "                  \n",
       "                  <td>keeps us going least feel writer wanted us keep us glued early point desire know whether martinaud done dirty deed without spoiling much course red herring twist discover story martinaud imperfections difficulty coping revelation begin sympathize pity story progresses made think sick perverted pedophiliac predisposed mind one things cope distant gap wife even though live roof problems course given denouement film shocking finale movie demands patience certainly tried restless teenagers sitting rear heckling obviously partial central location films although bit travelling get woods beach realize gallien clever made think inquisitor</td>\n",
       "                  \n",
       "                  <td>[786, 76, 70, 112, 122, 408, 341, 76, 276, 76, 6175, 273, 104, 1594, 41, 581, 9999, 113, 1470, 6781, 99, 7455, 13, 146, 606, 9999, 845, 1805, 9, 9999, 9999, 5442, 9999, 3227, 741, 5334, 2069, 9, 4439, 20, 25, 1026, 7445, 9999, 9999, 210, 3, 79, 5389, 3415, 6939, 195, 7, 55, 286, 5111, 567, 146, 228, 6979, 2, 1450, 1799, 1, 3721, 4902, 308, 652, 9049, 2163, 1107, 5795, 9999, 405, 9283, 1204, 1455, 30, 144, 116, 9235, 14, 1245, 2407, 773, 9999, 936, 20, 25, 9999]</td>\n",
       "                  \n",
       "                </tr>\n",
       "                \n",
       "                <tr>\n",
       "                  \n",
       "                  <td>saw legacy theater joseph smith memorial building salt lake city morning going assume one level enjoyment movie largely based one level acceptance joseph story however aside well made well acted nice score get salt lake city must see legacy theater never nicer theater far picture quality sound quality ambiance entire life wonder church would let watch batman begins lds regard joseph prophet touched several places brought tears quite times presume expected since handed tissues movie started anyway told film available several lds visitor centers around globe minutes check whether believe joseph smith tells fascinating story</td>\n",
       "                  \n",
       "                  <td>[109, 4916, 602, 2053, 1010, 9999, 1264, 5600, 1915, 396, 1807, 70, 2079, 3, 507, 2955, 1, 2089, 321, 3, 507, 5391, 2053, 9, 86, 1055, 12, 20, 12, 765, 207, 463, 14, 5600, 1915, 396, 100, 11, 4916, 602, 36, 9999, 602, 119, 304, 357, 349, 357, 7737, 309, 33, 455, 1227, 8, 164, 28, 1153, 630, 8644, 2726, 2053, 8645, 2668, 324, 1203, 689, 1511, 77, 103, 8218, 722, 126, 2529, 9999, 1, 508, 418, 442, 2, 1282, 324, 8644, 7238, 4432, 83, 5550, 121, 667, 581, 147, 2053, 1010, 570, 1278, 9]</td>\n",
       "                  \n",
       "                </tr>\n",
       "                \n",
       "                <tr>\n",
       "                  \n",
       "                  <td>really wanted like movie nice prison setting conspiracy theories bloodthirsty zombies perfectly hideous touch directorial effort actor john saxon also plays bad guessed bad guy reminds beloved italian horror flicks direction wooden nightmarish frightening moment goes logically end suspense daring visuals destiny cult classic would sealed</td>\n",
       "                  \n",
       "                  <td>[10, 341, 4, 1, 207, 1011, 800, 3385, 6390, 9999, 964, 795, 4031, 1058, 3506, 634, 157, 182, 9999, 17, 181, 15, 4154, 15, 117, 1633, 2570, 949, 84, 1380, 333, 1483, 7116, 2361, 420, 153, 9999, 45, 687, 3697, 1894, 3969, 1036, 232, 8, 9520]</td>\n",
       "                  \n",
       "                </tr>\n",
       "                \n",
       "                <tr>\n",
       "                  \n",
       "                  <td>lucky enough watch without pre viewing hype surprised resilience ghost image mind next day day watched times time appreciate even settings gorgeous town dusk beautiful lighting effects marsh long shots house sufficiently grown moss main hero likable good natured easily sympathized person complained enough spark film say whole fight ghost waged one person fairly slow paced film unusual amount time spent pre post ghost attack developing character family work life spoilers discussion especially liked turning point comes back main town meets man helping explains seeing ghost describes woman black end conversation says going back harm done man says go back alone lends hero dog cute little dog offers small respite comic relief bounding house even locked room many casual appearances ghost really freaked woman shows mid shot church showing afraid church also shy bound house beginning another unbelievably memorable scene kids outside church fence watching funeral camera pans right woman seen background among gravestones older man even look kids yelling taunting crreeepy usually ghosts hidden shadows haunting specific locales people mentioned ghost malevolence wrath frightening feel attacks ending perfect fully justified ending underlined fact hero made major mistake going back house perhaps marked matter saving gypsy girl guy plays hotel manager believable really fills role well spreading word friends much enjoyed film reassuring see others feel see people quite see masterpiece especially went lot review hype think another person summed said movie settled question whether ghosts could physically harm man whew plan watch tonight followed changeling aaww yeah films recommend thanks</td>\n",
       "                  \n",
       "                  <td>[1866, 90, 28, 99, 1574, 681, 3212, 625, 9999, 1033, 1304, 210, 252, 135, 135, 178, 103, 6, 990, 7, 2608, 1334, 363, 9999, 190, 1363, 183, 9999, 91, 522, 189, 9999, 1898, 6711, 175, 449, 1295, 5, 6005, 564, 9999, 280, 7670, 90, 4969, 2, 47, 114, 409, 1033, 9999, 3, 280, 864, 413, 1614, 2, 1564, 1007, 6, 931, 1574, 1037, 1033, 1110, 4048, 27, 106, 61, 33, 885, 3580, 145, 297, 1432, 104, 149, 52, 175, 363, 742, 43, 2595, 2377, 199, 1033, 4054, 130, 206, 45, 2441, 423, 70, 52, 4885, 113, 43, 423, 50, 52, 446, 6756, 449, 736, 875, 38, 736, 1421, 266, 9999, 552, 1971, 9999, 189, 7, 2704, 524, 32, 5497, 3141, 1033, 10, 8465, 130, 171, 1531, 204, 1227, 650, 1433, 1227, 17, 3405, 2556, 189, 326, 62, 3624, 754, 48, 229, 854, 1227, 8417, 54, 3926, 245, 6953, 98, 130, 31, 824, 645, 9999, 770, 43, 7, 68, 229, 4398, 9999, 9999, 493, 2542, 1439, 3612, 2073, 3202, 8842, 16, 891, 1033, 9999, 8789, 2361, 122, 2838, 162, 278, 1161, 5776, 162, 9999, 87, 449, 20, 536, 1162, 70, 52, 189, 259, 7304, 415, 1734, 7639, 128, 117, 181, 1257, 2824, 715, 10, 6491, 108, 12, 9575, 538, 243, 13, 376, 2, 9999, 11, 281, 122, 11, 16, 77, 11, 835, 145, 307, 72, 589, 3212, 25, 62, 280, 7649, 186, 1, 6562, 738, 581, 2542, 23, 2933, 4885, 43, 9999, 1175, 28, 4265, 1322, 9999, 9999, 1080, 30, 261, 1060]</td>\n",
       "                  \n",
       "                </tr>\n",
       "                \n",
       "                <tr>\n",
       "                  \n",
       "                  <td>many centuries pass japanese asian horror films abandon long haired ghost woman shtick admittedly managed rip ringu million times often worked well goes show originality much requirement horror genre uncritical easy please however time around found little restless somewhat bored bad film least half hour longer absurd minutes length compared many japanese horror films omc lacks atmosphere excitement plus ending confusing makes sense ring tone miike could come melody effective forgettable little thing even though played dozen times even remember scary speaking miike something commercial venture anyone thinks might getting perversion bijita q audition kind wasting time</td>\n",
       "                  \n",
       "                  <td>[32, 6782, 1180, 711, 2011, 84, 30, 6852, 91, 5172, 1033, 130, 9875, 3216, 1164, 1515, 9999, 1255, 103, 275, 797, 12, 153, 40, 2664, 13, 9999, 84, 373, 9999, 623, 452, 86, 6, 83, 143, 38, 9049, 503, 941, 15, 2, 112, 200, 398, 1050, 1585, 121, 1461, 923, 32, 711, 84, 30, 9999, 1355, 691, 2139, 781, 162, 1335, 67, 168, 1559, 1000, 3253, 23, 107, 5508, 975, 2273, 38, 56, 7, 55, 142, 2354, 103, 7, 253, 484, 1228, 3253, 51, 1996, 5365, 141, 1135, 125, 271, 9999, 9999, 3630, 5793, 131, 2958, 6]</td>\n",
       "                  \n",
       "                </tr>\n",
       "                \n",
       "                <tr>\n",
       "                  \n",
       "                  <td>child preferred first care bear movie since one seemed dark always sat watched first one got older learned prefer one think film dark infants get older learn treasure since understand seem dark back child movie opinion better first one everything much deeper may contradict first movie must ignore first movie watch one cubs adorable rewind flying colors scene tend annoy everyone singing sound track great big hand carol dean parks love every song movie downloaded listening listening beginning also known recalling moment always preferred sound track first one although totally love carol kings song first movie care lot think animation great animation movies fantastic surprised sat watched years later saw animation time excellent really surprising lot back people say movie great think weird strange think wonderful movie basically movie care bears came defeat demon dark heart end surprising beats pokemon movie care bears moral issues leaves effect movie teach everyone ages morality</td>\n",
       "                  \n",
       "                  <td>[347, 5725, 18, 328, 1909, 1, 126, 3, 336, 331, 102, 1650, 178, 18, 3, 85, 770, 1889, 2611, 3, 25, 2, 331, 9999, 14, 770, 702, 2291, 126, 268, 191, 331, 52, 347, 1, 510, 44, 18, 3, 170, 13, 2576, 94, 9999, 18, 1, 100, 2581, 18, 1, 28, 3, 9999, 4088, 9672, 1381, 2324, 48, 2180, 7628, 180, 960, 349, 1249, 19, 89, 372, 3156, 2445, 8141, 37, 73, 471, 1, 9999, 2463, 2463, 326, 17, 434, 9999, 420, 102, 5725, 349, 1249, 18, 3, 144, 354, 37, 3156, 8367, 471, 18, 1, 328, 72, 25, 603, 19, 603, 24, 629, 625, 1650, 178, 58, 184, 109, 603, 6, 202, 10, 1603, 72, 52, 16, 47, 1, 19, 25, 757, 537, 25, 265, 1, 550, 1, 328, 3115, 260, 3874, 2515, 331, 345, 45, 1603, 3771, 4391, 1, 328, 3115, 1345, 1186, 739, 801, 1, 3164, 180, 1924, 3469]</td>\n",
       "                  \n",
       "                </tr>\n",
       "                \n",
       "                <tr>\n",
       "                  \n",
       "                  <td>spoilers spoilers opening credits fantastic movie sets record straight instant classic take long realize movie big bigger kindergarten cop police academy sheer greatness left speechless walked movie theater proceeded right back ticket counter purchase another dozen tickets movie simply requires multiple viewings first watching surely leave strange huh feeling feel embarrassed happens best us story diabolically clever one wonder mortality authors seems simple story idiot infiltrating fbi turns allegorical story works several levels teaches us really important things life complexity plot structure baffle first viewing give sixth seventh viewing begin unravel hidden mysteries corky romano watch unexpected twist end otherwise might caught completely guard revealed fbi agent brick davis fbi wanted criminal corky real fbi agent pops romano innocent peter romano admits illiterate paulie romano comes closet homosexual surprised hell tell much chris kattan comedic talents unmatched leads character corky romano maze totally unpredictable situations reminiscent john reynolds performance manos hands fate kattan takes innumerable multiple personalities tackles scenes perfect comedic timing however kattan comedy master drama well controls audience feelings slightest moves face facial expressions reflect life way example scene farts brothers faces see expression social injustice alienation clearly reflected anguished face moment like hard find dry eye house screenwriters david garret jason ward real heroes corky romano story proportions easy understand two experienced writers employed complete ambitious project skillful storytelling unorthodox structuring makes pulp fiction look like mediocre saturday night live skit garret ward story compelling alluring grips hair swallows entirely shakes around spits right end world experience known corky romano find different person different worldviews different ideas one question mind god</td>\n",
       "                  \n",
       "                  <td>[885, 885, 494, 746, 629, 1, 585, 1703, 577, 3990, 232, 88, 91, 773, 1, 89, 1792, 9999, 823, 427, 1631, 1939, 4855, 196, 9060, 2362, 1, 602, 9999, 98, 52, 3413, 4614, 4259, 62, 2354, 6817, 1, 211, 3251, 2412, 4574, 18, 54, 1190, 424, 537, 3161, 411, 122, 2755, 433, 39, 76, 9, 9999, 936, 3, 455, 9999, 8425, 82, 467, 9, 2486, 9999, 2908, 374, 9999, 9, 364, 324, 2026, 5106, 76, 10, 532, 79, 33, 4484, 34, 2262, 9999, 18, 681, 95, 6507, 8704, 681, 741, 7941, 1439, 3936, 8944, 9745, 28, 1913, 845, 45, 749, 125, 901, 220, 2740, 1880, 2908, 1364, 8072, 1391, 2908, 341, 1504, 8944, 53, 2908, 1364, 4541, 9745, 1195, 657, 9745, 7362, 9035, 3563, 9745, 149, 4022, 4475, 625, 465, 251, 13, 1178, 9999, 1547, 1793, 9999, 680, 27, 8944, 9745, 9999, 354, 4851, 1028, 2609, 182, 3310, 127, 9999, 804, 1776, 9999, 187, 9999, 2412, 2864, 9999, 49, 278, 1547, 2678, 86, 9999, 101, 1100, 325, 12, 7252, 185, 1262, 3481, 939, 267, 2579, 2871, 4395, 33, 21, 334, 48, 9999, 898, 1428, 11, 2679, 874, 8037, 8683, 556, 7153, 9999, 267, 420, 4, 140, 69, 2065, 590, 189, 6011, 466, 9999, 1482, 3380, 53, 1537, 8944, 9745, 9, 8374, 623, 268, 29, 2385, 761, 5445, 458, 3384, 1012, 9999, 2638, 9999, 9999, 67, 3769, 1052, 68, 4, 1350, 2144, 192, 286, 5809, 9999, 3380, 9, 1289, 9999, 9356, 992, 9999, 938, 9379, 83, 9999, 98, 45, 74, 447, 434, 8944, 9745, 69, 158, 280, 158, 9999, 158, 857, 3, 738, 210, 391]</td>\n",
       "                  \n",
       "                </tr>\n",
       "                \n",
       "                <tr>\n",
       "                  \n",
       "                  <td>saw theater fell chair laughing beirut know beirut beirut best damn baseball player ever lived know going end great time getting training scenes funny best scene may one jack reno attempting watch falcons v vikings monday night football game attempting make dinner wives williams russell seem lot fun one bad overlooked top notch comedy</td>\n",
       "                  \n",
       "                  <td>[109, 602, 1424, 2850, 948, 9999, 41, 9999, 9999, 39, 1384, 2182, 1623, 42, 1297, 41, 70, 45, 19, 6, 271, 2161, 49, 65, 39, 48, 94, 3, 539, 8138, 2766, 28, 9999, 1720, 9999, 8295, 192, 2142, 361, 2766, 22, 2884, 3945, 1430, 2242, 191, 72, 138, 3, 15, 3321, 227, 2325, 101]</td>\n",
       "                  \n",
       "                </tr>\n",
       "                \n",
       "                <tr>\n",
       "                  \n",
       "                  <td>love special effects witnessing new technologies make science fiction seem real special effects movie good seen movie since airing hbo past couple months must admit may missed scenes usually drawn movies seen scenes every time see hollow man feel depressed almost like film noir sure perhaps want kevin bacon evil disappointment think witnessing relentlessly evil becomes regardless recommend movie excitement although parts move slowly recommend youngsters age perhaps mature</td>\n",
       "                  \n",
       "                  <td>[37, 198, 183, 7226, 63, 9999, 22, 911, 1052, 191, 53, 198, 183, 1, 5, 31, 1, 126, 8396, 3847, 368, 250, 1772, 100, 821, 94, 890, 49, 493, 1159, 24, 31, 49, 73, 6, 11, 3722, 43, 122, 4167, 110, 4, 2, 1185, 139, 259, 78, 1677, 5087, 315, 1237, 25, 7226, 6581, 315, 330, 3401, 261, 1, 2139, 144, 397, 698, 1202, 261, 8550, 417, 259, 2522]</td>\n",
       "                  \n",
       "                </tr>\n",
       "                \n",
       "                <tr>\n",
       "                  \n",
       "                  <td>favourite film child stage production times always remain favourite muscical doubt anybody could ever make story oliver twist screen better one time favourite bad guy oliver reed bill sikes scare life watched year old woman empathize nancys character bar maid prostitute helps oliver get life deserves jack wilde artful dodger fantastic think anybody could ever street pocket picker best friend fagin music fantastic especially fagin numbers also quite thankful give bill sikes musical number worked sinister character think carol reed excellent job nancy sticky ending keeping g rated movie disguising beating giving enough away show violence bill towards movie charming charismatic musical sing along well moving drama follows young boy tries find belongs life</td>\n",
       "                  \n",
       "                  <td>[1486, 2, 347, 710, 242, 103, 102, 2234, 1486, 9999, 673, 1566, 23, 42, 22, 9, 2147, 845, 148, 44, 3, 6, 1486, 15, 117, 2147, 2762, 802, 9999, 2154, 33, 178, 161, 57, 130, 9284, 9999, 27, 1284, 4758, 3823, 1369, 2147, 14, 33, 859, 539, 9999, 9950, 9999, 629, 25, 1566, 23, 42, 726, 6228, 9999, 39, 317, 7891, 115, 629, 145, 7891, 1240, 17, 77, 9313, 95, 802, 9999, 481, 473, 797, 2765, 27, 25, 3156, 2762, 202, 174, 2098, 9999, 162, 1736, 1040, 989, 1, 9999, 3153, 598, 90, 133, 40, 430, 802, 793, 1, 1062, 3199, 481, 1783, 246, 12, 584, 325, 1003, 81, 284, 366, 69, 3072, 33]</td>\n",
       "                  \n",
       "                </tr>\n",
       "                \n",
       "                <tr>\n",
       "                  \n",
       "                  <td>film worst ever seen title film deceives audience thinking maybe hope story line film laughable best acting poor cringe title zombie nation implies hoard zombies fact six total cannot categorised horror film due introduction cheesy music zombies attack zombies actually talk act like human beings film difference make looks like something la roux video ever get chance buy film burn copy</td>\n",
       "                  \n",
       "                  <td>[2, 137, 42, 31, 300, 2, 9999, 185, 402, 165, 316, 9, 224, 2, 1174, 39, 35, 218, 3882, 300, 686, 2481, 7653, 9999, 964, 87, 1286, 807, 429, 9999, 84, 2, 547, 2693, 798, 115, 964, 1110, 964, 66, 593, 375, 4, 279, 3327, 2, 1313, 22, 155, 4, 51, 905, 9999, 248, 42, 14, 440, 665, 2, 3342, 879]</td>\n",
       "                  \n",
       "                </tr>\n",
       "                \n",
       "                <tr>\n",
       "                  \n",
       "                  <td>watched show basis told reminiscent david lynch twin peaks show adore show quickly starts introducing us main characters rather unusually pilot episode best lot extremely dramatic really gets whole evil side show ready progress throughout rest season one biggest criticism felt little let show probably fault got cancelled mere season seemed display show much potential deserved lot better treatment got acting excellent show best characters good evil ever seen well developed short space time odd cheesy effect first ten shows bit overly dramatic rectified season progressed well worth watch definitely something ordinary</td>\n",
       "                  \n",
       "                  <td>[178, 40, 2688, 442, 2609, 466, 1727, 3372, 8273, 40, 6262, 40, 789, 382, 6726, 76, 175, 26, 136, 6785, 1620, 264, 39, 72, 438, 753, 10, 105, 114, 315, 365, 40, 1460, 3540, 337, 240, 653, 3, 968, 2637, 295, 38, 164, 40, 129, 1989, 85, 7457, 2528, 653, 336, 2268, 40, 13, 836, 1658, 72, 44, 2025, 85, 35, 202, 40, 39, 26, 5, 315, 42, 31, 12, 1236, 226, 676, 6, 873, 798, 801, 18, 600, 171, 116, 1919, 753, 9999, 653, 7339, 12, 173, 28, 282, 51, 1802]</td>\n",
       "                  \n",
       "                </tr>\n",
       "                \n",
       "                <tr>\n",
       "                  \n",
       "                  <td>let tell something movie seen twice first time kid movie quite entertaining really liked thought funny interesting main character kind cool saw days ago horrible really know thought funny laugh nothing even slightly entertaining dumb story weak acting nothing special great actors movie still acting mediocre best worst fact movie racist really get wrong usually complain racism movies however seen people complaining lack black men movies like shaolin temple fact black man street fighter one bad guys whatever get point people seeing racism everywhere wonder would react movie like meteor man tell asians movie white people among good guys fact one white guy entire movie leader bad guys good guys african americans get wrong care good guy black white yellow pink green care fact barely see white person movie movie like ever seen realistic one black man japanese movie case street fighter problem japan people asians one white man american movie sort problem usa people white like filming japanese movie entirely white cast one asian bad guy real giving movie rate would fun kid</td>\n",
       "                  \n",
       "                  <td>[164, 251, 51, 1, 31, 1283, 18, 6, 394, 1, 77, 318, 10, 297, 92, 65, 111, 175, 27, 131, 500, 109, 367, 460, 393, 10, 41, 92, 65, 332, 64, 7, 921, 318, 841, 9, 668, 35, 64, 198, 19, 59, 1, 46, 35, 1350, 39, 137, 87, 1, 2578, 10, 14, 234, 493, 3651, 2898, 24, 86, 31, 16, 5130, 448, 206, 215, 24, 4, 9027, 3476, 87, 206, 43, 726, 3776, 3, 15, 356, 693, 14, 104, 16, 199, 2898, 2410, 455, 8, 3839, 1, 4, 6822, 43, 251, 9999, 1, 301, 16, 645, 5, 356, 87, 3, 301, 117, 309, 1, 1933, 15, 356, 5, 356, 1887, 1352, 14, 234, 328, 5, 117, 206, 301, 3929, 4708, 1238, 328, 87, 1038, 11, 301, 280, 1, 1, 4, 42, 31, 672, 3, 206, 43, 711, 1, 294, 726, 3776, 312, 1653, 16, 9999, 3, 301, 43, 179, 1, 305, 312, 2747, 16, 301, 4, 1271, 711, 1, 938, 301, 75, 3, 2011, 15, 117, 53, 598, 1, 811, 8, 138, 394]</td>\n",
       "                  \n",
       "                </tr>\n",
       "                \n",
       "                <tr>\n",
       "                  \n",
       "                  <td>got dvd cheap total drewbie thats probably constellation movie could ever interest anyone early drew movie looking great gets quite lot really cute scenes like shower scene sexy dance scene quite number sexy outfits etc never show friendly charm know recent movies movie pretty average sub average much looking like made tv one cinema real horror tension built dialogs often cheesy interesting part probably end honestly understand maybe nothing understand anyway least get end would expecting also comes much sooner one would expected overall think movie exclusively drewbies</td>\n",
       "                  \n",
       "                  <td>[85, 163, 565, 807, 9999, 1427, 129, 9999, 1, 23, 42, 461, 141, 273, 1956, 1, 150, 19, 105, 77, 72, 10, 875, 49, 4, 2820, 48, 1117, 684, 48, 77, 473, 1117, 5224, 388, 36, 40, 2375, 1217, 41, 978, 24, 1, 80, 701, 1329, 701, 13, 150, 4, 20, 132, 3, 302, 53, 84, 920, 2017, 3088, 275, 798, 111, 71, 129, 45, 1101, 268, 165, 64, 268, 418, 112, 14, 45, 8, 861, 17, 149, 13, 5342, 3, 8, 722, 319, 25, 1, 6951, 9999]</td>\n",
       "                  \n",
       "                </tr>\n",
       "                \n",
       "                <tr>\n",
       "                  \n",
       "                  <td>films starring child actors put back foot beginning exceptions majority kids cant act even ones normally become annoying minutes kids paperhouse managed capture worst worlds annoying ounce acting ability short rubbish good considering leads especially good consider fact virtually impossible take film seriously rubbish actors shame film dead loss plot completely follows young girl drawing picture house notebook wakes fantasy world created soon becomes apparent manipulate world drawings sets making various changes dream eventually becomes nightmare oh dear see plot line gives nice base good fantasy horror movie however squandered number fatal faults first foremost spite premise excellent premise lots inventiveness movie extremely stale central plot hardly played result entirely boring experience lack tension another huge gaping flaw movie sees fit drag every sequence point care due lack ideas thanks part lead characters film feels like kids movie throughout expected stars kids bernard rose decided slant wanted put story horror movie laughable best film also cheesy romance two leads extremely cringe worthy makes painful viewing fact sum travesty one word would choose painful paperhouse poorly acted laughably plotted corny dull whole save pain see something else</td>\n",
       "                  \n",
       "                  <td>[30, 1031, 347, 59, 159, 52, 1853, 326, 5424, 1999, 229, 2299, 375, 7, 517, 1592, 288, 477, 121, 229, 9535, 1164, 1682, 137, 3054, 477, 9615, 35, 1095, 226, 1747, 5, 917, 680, 145, 5, 973, 87, 2192, 1005, 88, 2, 474, 1747, 59, 748, 2, 221, 1779, 34, 220, 1003, 81, 128, 3676, 304, 189, 9999, 5070, 779, 74, 919, 381, 330, 1570, 8646, 74, 7982, 585, 120, 847, 1287, 758, 700, 330, 1533, 313, 3013, 11, 34, 224, 283, 207, 2642, 5, 779, 84, 1, 86, 9999, 473, 3412, 4214, 18, 7046, 2555, 713, 202, 713, 628, 9999, 1, 438, 4607, 1204, 34, 832, 142, 803, 938, 237, 447, 448, 920, 62, 526, 9999, 3105, 1, 930, 1024, 2217, 73, 574, 104, 328, 547, 448, 857, 1060, 71, 352, 26, 2, 617, 4, 229, 1, 337, 722, 256, 229, 5164, 1960, 721, 9999, 341, 159, 9, 84, 1, 1174, 39, 2, 17, 798, 731, 29, 680, 438, 3882, 1358, 67, 1193, 681, 87, 2825, 4729, 3, 538, 8, 2096, 1193, 9535, 712, 765, 4860, 8302, 1867, 610, 114, 468, 1305, 11, 51, 209]</td>\n",
       "                  \n",
       "                </tr>\n",
       "                \n",
       "                <tr>\n",
       "                  \n",
       "                  <td>move actually jumping chair anticipation actors going acting best farrah gotten oscar fabulous james russo good hated villain played wonderful many movies riveted one cast great alfie looking shocked big eyes farrah looking like victim lived horror went farrah made feel like feeling anger felt wanted hurt yet also knew wrong thing movie roller coaster ride went scene</td>\n",
       "                  \n",
       "                  <td>[698, 66, 3392, 2850, 5324, 59, 70, 35, 39, 7889, 1687, 579, 2568, 439, 7087, 5, 1639, 850, 142, 265, 32, 24, 9999, 3, 75, 19, 9999, 150, 2230, 89, 387, 7889, 150, 4, 1196, 1297, 84, 307, 7889, 20, 122, 4, 411, 2401, 295, 341, 1296, 134, 17, 559, 234, 56, 1, 5216, 5304, 1200, 307, 48]</td>\n",
       "                  \n",
       "                </tr>\n",
       "                \n",
       "                <tr>\n",
       "                  \n",
       "                  <td>oriental fantasy thousand one arabian nights plenty incredible adventures fantasy witchery wizardly malignant vizier jaffar magnificently played conrad veidt powerful magic faculties imprisons prince ahamad bagdad attractive john justin loses throne escapes thanks little thief named abu sympathetic sabu arrive basora ahamad princess gorgeous june duprez fall love prince thief haunted jaffar ahamd turned blind abu become dog story accumulates several fantastic ingredients transformation starring flying mechanic horse magic bow flying carpet course colossal genie overacting performed rex ingram gives three wishes sabu magic eye figure goddess kali several hands among others remarkable picture ranks one finest fantastic films time produced london fim alexander korda directed definitively credited ludwing berger michael powell tim whelan stunning screenplay lajos biro miles malleson also dialogs writer actor sultan fond mechanic games wwii outbreak caused paralyzing shooting three korda brothers collaborators traveled usa continuing filming especial grand cannon colorado splendid visual glimmer technicolor cinematography setting fx provoked achieving three oscars production design william cameron menzies vincent korda cinematography george perinal special effects osmond borradaile though today dated urgent necessary remastering colors worn furthermore one nomination evocative oriental musical score miklos rozsa vivid tale immense doses imagination like fantasy fans cinema classic buffs</td>\n",
       "                  \n",
       "                  <td>[9251, 779, 3020, 3, 9999, 3295, 805, 894, 2275, 779, 9999, 9999, 9999, 9999, 9621, 9999, 142, 5794, 9999, 822, 1070, 9999, 9999, 1624, 9999, 9622, 1401, 182, 4539, 1824, 8226, 2764, 1060, 38, 2827, 627, 8077, 2074, 8560, 3694, 9999, 9999, 2344, 1334, 4479, 9999, 656, 37, 1624, 2827, 2164, 9621, 9999, 540, 1830, 8077, 288, 736, 9, 9999, 324, 629, 3883, 4109, 1031, 1381, 8563, 1630, 1070, 5223, 1381, 7829, 146, 9999, 5566, 4603, 2387, 3332, 9999, 283, 172, 2896, 8560, 1070, 590, 671, 9999, 9999, 324, 804, 645, 281, 1573, 304, 3710, 3, 1721, 629, 30, 6, 902, 1085, 9999, 3514, 8732, 392, 9999, 5136, 9999, 9999, 342, 2201, 1571, 9999, 1231, 729, 9999, 9999, 1847, 9999, 17, 3088, 408, 157, 9999, 4047, 8563, 1443, 2837, 9797, 2006, 9999, 1048, 172, 8732, 898, 9999, 8733, 2747, 5997, 1271, 9999, 1583, 5049, 9999, 3445, 953, 9999, 4932, 491, 800, 3502, 9999, 9355, 172, 3006, 242, 1437, 852, 3443, 9999, 3028, 8732, 491, 578, 9999, 198, 183, 9999, 9999, 55, 377, 1796, 9999, 1508, 9999, 2324, 4556, 3906, 3, 4186, 9999, 9251, 481, 463, 9999, 9999, 3803, 636, 6421, 8706, 1383, 4, 779, 323, 302, 232, 4177]</td>\n",
       "                  \n",
       "                </tr>\n",
       "                \n",
       "                <tr>\n",
       "                  \n",
       "                  <td>spoiler warning people want see animals landscapes pass eyes although mention great detail earth approx minute cinema version based planet earth watched bbc tv tv version narrated david attenborough captivating commentator wished also done earth patrick stewart star trek captain picard regularly shots earth space may appropriate case nice enough calm voice chapters follow animal life earth north pole antarctica animal families polar bear elephant whale appear one parts chapter starts indication far north pole equator see something kind animal mammals birds fish beautiful shots vegetation mountains waterfalls deserts jungle near perfect presentation variety life landscapes climates earth get impression planet inhabited animals people villages cities film typical nature documentary breathtakingly shot accompanied delightful music film opened already knew would end far soon family film brutal killings animals one caught hunter shot ends cases see prey caught shot slow motion makes less violent watchable young children age limit netherlands blood shed scenes newly born animals really cute adored kids looks like ordinary nature film know many shooting days took much money cost becomes even astonishing piece beauty dutch premiere yesterday month actual release cinema seats taken true beauty rarely interesting cinema goers seems knew tv series course curious favourite scenes would make movie impressive shots big waterfalls luckily first time ever cried nature film</td>\n",
       "                  \n",
       "                  <td>[1224, 1553, 16, 78, 11, 1212, 4653, 1180, 387, 144, 616, 19, 1426, 534, 9999, 639, 302, 194, 321, 997, 534, 178, 2435, 132, 132, 194, 6803, 466, 5201, 3554, 9999, 4286, 17, 113, 534, 2123, 1069, 201, 1862, 1497, 9999, 6687, 522, 534, 676, 94, 2136, 294, 207, 90, 4647, 407, 8829, 643, 1438, 33, 534, 2194, 5455, 9999, 1438, 1995, 7638, 1909, 4142, 3626, 825, 3, 397, 4580, 382, 5343, 119, 2194, 5455, 9999, 11, 51, 131, 1438, 9999, 3636, 2855, 190, 522, 9999, 3797, 9999, 9999, 2446, 604, 278, 2812, 2393, 33, 4653, 9999, 534, 14, 1229, 997, 8940, 1212, 16, 9999, 4565, 2, 648, 714, 516, 9999, 204, 4560, 1755, 115, 2, 2878, 329, 559, 8, 45, 119, 381, 106, 2, 1599, 3254, 1212, 3, 901, 1994, 204, 490, 2761, 11, 4975, 901, 204, 413, 1109, 67, 208, 954, 1581, 81, 299, 417, 5572, 9999, 400, 4834, 49, 4523, 1288, 1212, 10, 875, 9635, 229, 155, 4, 1802, 714, 2, 41, 32, 1048, 367, 426, 13, 160, 2145, 330, 7, 4958, 292, 772, 3983, 5026, 3631, 2975, 633, 620, 302, 6963, 487, 167, 772, 1548, 111, 302, 5659, 82, 559, 132, 93, 146, 1837, 1486, 49, 8, 22, 1, 998, 522, 89, 9999, 3294, 18, 6, 42, 3595, 714, 2]</td>\n",
       "                  \n",
       "                </tr>\n",
       "                \n",
       "                <tr>\n",
       "                  \n",
       "                  <td>really say think movie guidelines watched many many films got worst one yet extremely low budget guessing money went slaughter house scenes cause could better job b w mm camera crew monkeys bad registered leave comment cause tell someone movie rental place enough cents worth suggest borrowing poor sap rented watch cause sure waste money leave comment hope made rental place wont refund money</td>\n",
       "                  \n",
       "                  <td>[10, 47, 25, 1, 9999, 178, 32, 32, 30, 85, 137, 3, 134, 438, 241, 230, 2940, 160, 307, 4552, 189, 49, 933, 23, 44, 174, 350, 1826, 4781, 245, 884, 4209, 15, 9987, 424, 775, 933, 251, 166, 1, 2187, 156, 90, 6023, 173, 1311, 9999, 218, 9999, 1457, 28, 933, 139, 310, 160, 424, 775, 316, 20, 2187, 156, 4089, 9999, 160]</td>\n",
       "                  \n",
       "                </tr>\n",
       "                \n",
       "                <tr>\n",
       "                  \n",
       "                  <td>movie opens beautiful lady tattered white gown running stereotypical eastern european town know followed something keeps looking behind soon see chased mysterious man black trenchcoat realize man actually vampire hunter look reflection store window identical twin vampire unfortunately get brilliant amazingly fun throwback old hammer films credits twins listed twins evil course name final instalment hammer karnstein trilogy plot pretty much dies little plot involves dracula conveniently changes appearance time reborn producer rehire dracula coming morgue med students realizing undead thinking wow opportunity maybe disregard movies say drinking vampire blood turns vampire use vampire blood find cure jerk friend ailment obviously mistake everyone becomes vampire new concept pulled excruciatingly badly movie keeps setting wonderful situations refuses anything example med students attempt bring drac back life placing bathtub filled blood secluded run country mansion house scary enough center film stay decide take vampire abandoned swimming pool sigh movie real problem homages mentioned opening scene straight hammer house scene would perfect hammer like movie movie rapidly switches gears changes medical horror problem introduce many characters almost impossible feel sorry med students wheelchair bound professor type friend med students arrogant boring money hungry stupid made med school amazes unless med school meet muscle bound hunk big breast quota vampire hunter remains mysterious movie hey respect would nice set like movie would random priests cops science types many people introduced quickly forgotten need person either save day jump cheap scare becomes quickly tedious basically lazy movie real scares predictable jump scares set elaborate hilarious examp le bathtub full blood obvious drac going pop murky blood yet wait far long get inevitable jump scare kills one dumber larger breasted med students know going become one undead others bury shallow grave near house sigh know jump cops show house oh well maybe someone get hint impossible make scary vampire movie go atmospheric end entire movie good opening scene</td>\n",
       "                  \n",
       "                  <td>[1, 1856, 190, 591, 9999, 301, 9999, 482, 2583, 4801, 1696, 363, 41, 1322, 51, 786, 150, 362, 381, 11, 4199, 1234, 43, 206, 9999, 773, 43, 66, 1184, 1994, 68, 4876, 962, 1874, 6203, 3372, 1184, 340, 14, 395, 2630, 138, 9999, 57, 3775, 30, 746, 4895, 3398, 4895, 315, 146, 274, 344, 9999, 3775, 9999, 2170, 34, 80, 13, 1285, 38, 34, 2121, 3517, 6327, 1287, 1105, 6, 9999, 1141, 9999, 3517, 445, 9882, 9999, 1362, 4175, 5819, 402, 1155, 1270, 165, 7842, 24, 47, 2610, 1184, 400, 374, 1184, 239, 1184, 400, 69, 4095, 3225, 317, 9999, 405, 1162, 180, 330, 1184, 63, 959, 1759, 6362, 760, 1, 786, 800, 265, 1028, 2894, 123, 334, 9999, 1362, 451, 575, 9999, 52, 33, 8854, 9980, 906, 400, 9631, 384, 529, 2797, 189, 484, 90, 2049, 2, 640, 1043, 88, 1184, 2457, 4223, 2904, 8370, 1, 53, 312, 9999, 891, 494, 48, 577, 3775, 189, 48, 8, 278, 3775, 4, 1, 1, 5932, 8372, 9999, 1287, 2912, 84, 312, 4735, 32, 26, 110, 1005, 122, 654, 9999, 1362, 6732, 2556, 2240, 416, 317, 9999, 1362, 4139, 237, 160, 5066, 254, 20, 9999, 263, 9999, 744, 9999, 263, 752, 8526, 2556, 9215, 89, 6894, 9999, 1184, 1994, 1129, 1234, 1, 1215, 1004, 8, 207, 152, 4, 1, 8, 1368, 8716, 1613, 911, 1937, 32, 16, 1557, 789, 1393, 238, 280, 225, 468, 135, 1616, 565, 2154, 330, 789, 2162, 550, 2698, 1, 53, 2436, 582, 1616, 2436, 152, 3585, 497, 9999, 3059, 9980, 244, 400, 441, 9999, 70, 1544, 6985, 400, 134, 704, 119, 91, 14, 3268, 1616, 2154, 942, 3, 6593, 3055, 9999, 9999, 1362, 41, 70, 288, 3, 5819, 281, 9098, 1854, 2433, 604, 189, 8370, 41, 1616, 1613, 40, 189, 313, 12, 165, 166, 14, 2995, 1005, 22, 484, 1184, 1, 50, 2989, 45, 309, 1, 5, 494, 48]</td>\n",
       "                  \n",
       "                </tr>\n",
       "                \n",
       "                <tr>\n",
       "                  \n",
       "                  <td>listed documentary filmed sort like documentary suspect get away shaky camera dodgy filming released uk dvd american pie style comedy either basically follows around group teens spring break go mexico cheap booze quest get virgin friend finally laid throw couple dwarfs also sort quest non hilarious tale drunk teens trying get girls considering rating little nudity practically zero sex scenes mainly guess rating swearing plenty like crude jackass behaviour without humour may thing brain cells left would probably avoid</td>\n",
       "                  \n",
       "                  <td>[3398, 516, 664, 305, 4, 516, 1610, 14, 133, 4930, 245, 8241, 1271, 488, 2077, 163, 179, 3083, 277, 101, 225, 550, 1003, 83, 459, 2335, 3423, 838, 50, 2484, 565, 9388, 2512, 14, 2973, 317, 291, 2814, 1242, 250, 9999, 17, 305, 2512, 557, 497, 636, 1655, 2335, 151, 14, 390, 917, 535, 38, 853, 2032, 1291, 257, 49, 1268, 353, 535, 6404, 805, 4, 2466, 9117, 5195, 99, 1122, 94, 56, 1054, 7636, 196, 8, 129, 649]</td>\n",
       "                  \n",
       "                </tr>\n",
       "                \n",
       "                <tr>\n",
       "                  \n",
       "                  <td>routine mystery thriller concerning killer lurks swamps early days television one shown often dad would say tv tonight tell strangler swamp pack us movies went movies lot days</td>\n",
       "                  \n",
       "                  <td>[2311, 588, 562, 3662, 311, 9999, 9999, 273, 367, 551, 3, 480, 275, 1017, 8, 47, 132, 4265, 251, 9999, 9316, 2926, 76, 24, 307, 24, 72, 367]</td>\n",
       "                  \n",
       "                </tr>\n",
       "                \n",
       "                <tr>\n",
       "                  \n",
       "                  <td>notable thing film steve mcqueen first big starring role mcqueen talent undeveloped raw refreshingly honest campy little sci fi horror piece steve shows anti establishment hot rod car loving actor would become polished icon film industry five years hence later mcqueen would say hated film blob everyone start somewhere blob cute fresh innocent would stayed way plot fast paced although predictable still entertaining hour really fun see steve mcqueen became king kool anita corsaut became andy taylor girlfriend close friend sent dvd back treasured addition steve mcqueen film collection</td>\n",
       "                  \n",
       "                  <td>[2695, 56, 2, 1042, 5827, 18, 89, 1031, 108, 5827, 530, 8982, 2592, 9999, 1045, 2553, 38, 764, 762, 84, 292, 1042, 171, 1046, 6450, 735, 5242, 380, 1546, 157, 8, 288, 4685, 4712, 2, 1429, 531, 58, 2870, 184, 5827, 8, 47, 1639, 2, 3493, 180, 255, 1041, 3493, 875, 1315, 1195, 8, 2525, 21, 34, 560, 1614, 144, 582, 46, 318, 398, 10, 138, 11, 1042, 5827, 728, 475, 9999, 7194, 9999, 728, 1540, 1550, 796, 358, 317, 1261, 163, 52, 9999, 1419, 1042, 5827, 2, 1434]</td>\n",
       "                  \n",
       "                </tr>\n",
       "                \n",
       "                <tr>\n",
       "                  \n",
       "                  <td>summer season choices cinemas limited hottest movie week given screens dedicated screening ok may exaggerate percentage get drift besides stuff hollywood bollywood share highly anticipated blockbusters trailers shown hyped watch tashan billed one highly anticipated quite surprised lower low turnout cinemas watched jodha akbar full house tashan watching knew entertaining fundamentally weak like literal english title means style tashan style little substance usual star power scenes felt forced bordered tad ridiculous even bollywood standards must say quite surprising given tashan directed written vijay krishna acharya wrote dhoom dhoom enjoyed tremendously rookie directorial outing tashan fault direction probably scratch head plot clunky best tried force many things story though credit given allowed avenue question character motivation came little late toward finale left guessing moment latched full blown action mimicking many thai action movie hong kong wirework hollywood ludicrous firearms gunplay zero recoil bid include everything including kitchen sink assortment vehicles appearing one took cake dhoom homage jetski boat middle nowhere best tashan enjoyed unintentional comedy attributed cast hammed characters saif ali khan plays jimmy cliff call center executive gives english tuition platform fishing new girlfriend material playboy ways gets junked aside meets pooja singh kareena kapoor exactly seems meek sweet natured hottie engages jimmy services boss mobster bhaiyyaji anil kapoor probably gets laughs speaks broken english phrases must like ah beng complete quartet akshay kumar plays bachchan pandey illiterate gangster hire got engaged bhaiyyaji hunt jimmy pooja escape money stolen bahiyyaji business begins road trip sorts friends turned enemies enemies know become friends road trip wears jimmy cliff probably implausible goes zero hero executing moves would shame rambo absolutely time quite character kareena kapoor amps sex factor uses charms guile men plenty opportunity given much touted bikini scenes costumes boast plunging necklines hemlines way knee every character backstory created thought akshay kumar bachchan pandey probably best touching fun lot even though character seemed lot like non green incredible hulk gravity defying leaps power packing punches wounds also heal automatically impressively puts wolverine shame best part theme song damn alpha male played ra ra mode time takes adversaries sad say tune memorable something cheers bachchan pandey bachchan pandey bollywood movies watch usually able despite obvious language gaps emerge screenings humming tune two able tashan songs unfortunately catchy usually song dance routine works well storyline without necessity bring characters current scene location enjoy versus plucking plonking extreme settings high atop mountain atop jagged rocks beach front tashan probably take seriously coming vijay krishna acharya story probably wanted something little decent rather ridiculous continuity little careful well billed blockbuster start understand crowds already shunned one despite akshay kumr stealing show tashan could better whole</td>\n",
       "                  \n",
       "                  <td>[1318, 653, 2658, 5940, 1600, 9999, 1, 1084, 228, 5292, 4137, 2639, 469, 94, 9999, 9999, 14, 7627, 1213, 404, 217, 2680, 1340, 410, 6414, 7157, 4064, 480, 5315, 28, 7535, 4988, 3, 410, 6414, 77, 625, 2186, 241, 9999, 5940, 178, 9999, 9999, 244, 189, 7535, 54, 559, 318, 9999, 668, 4, 6058, 489, 300, 669, 277, 7535, 277, 38, 2153, 502, 201, 521, 49, 295, 763, 9999, 4233, 505, 7, 2680, 1388, 100, 47, 77, 1603, 228, 7535, 392, 272, 9999, 9389, 9999, 880, 9999, 9999, 376, 6279, 6108, 3506, 5356, 7535, 1989, 333, 129, 6144, 290, 34, 7223, 39, 652, 971, 32, 79, 9, 55, 940, 228, 1500, 9999, 738, 27, 3478, 260, 38, 389, 1689, 1799, 196, 2940, 420, 9999, 244, 2496, 97, 9999, 32, 9999, 97, 1, 2400, 1781, 9999, 217, 2598, 9999, 9999, 1291, 9999, 9999, 1316, 170, 450, 3586, 4593, 8883, 6039, 3101, 3, 426, 4190, 9999, 3242, 9999, 1890, 513, 1118, 39, 7535, 376, 3857, 101, 9394, 75, 9999, 26, 8973, 8150, 4149, 181, 1758, 3739, 541, 2049, 3263, 283, 489, 9999, 7160, 5038, 63, 796, 670, 6130, 621, 105, 9999, 1055, 742, 9999, 9999, 8022, 3685, 479, 82, 7733, 882, 6005, 9999, 9999, 1758, 7083, 1197, 7916, 9999, 6300, 3685, 129, 105, 766, 2301, 1726, 489, 9328, 100, 4, 3555, 9999, 458, 9999, 4130, 4952, 181, 6451, 9999, 9035, 1860, 3298, 85, 3785, 9999, 2131, 1758, 9999, 926, 160, 2416, 9999, 815, 630, 1143, 1013, 2415, 243, 540, 3967, 3967, 41, 288, 243, 1143, 1013, 2731, 1758, 3739, 129, 3862, 153, 1291, 449, 9999, 939, 8, 748, 3699, 303, 6, 77, 27, 8022, 3685, 9999, 257, 2155, 922, 5573, 9999, 215, 805, 1270, 228, 13, 9999, 6412, 49, 1187, 9999, 9999, 9999, 9999, 21, 9999, 73, 27, 9999, 919, 92, 4130, 4952, 6451, 9999, 129, 39, 1142, 138, 72, 7, 55, 27, 336, 72, 4, 557, 1238, 894, 5761, 8419, 9999, 8674, 521, 9999, 5674, 6263, 17, 9999, 5204, 9811, 1298, 9325, 748, 39, 71, 609, 471, 1384, 9999, 755, 142, 9999, 9999, 5169, 6, 187, 9999, 478, 47, 3029, 754, 51, 7230, 6451, 9999, 6451, 9999, 2680, 24, 28, 493, 370, 335, 441, 943, 7031, 5884, 9999, 9999, 3029, 29, 370, 7535, 548, 340, 4446, 493, 471, 684, 2311, 364, 12, 622, 99, 7081, 575, 26, 1873, 48, 1455, 236, 3815, 9999, 9999, 1406, 2608, 193, 9999, 2353, 9999, 9999, 3157, 2407, 856, 7535, 129, 88, 474, 445, 9999, 9389, 9999, 9, 129, 341, 51, 38, 406, 136, 505, 2209, 38, 4464, 12, 4988, 2464, 255, 268, 9243, 329, 9999, 3, 335, 4130, 9999, 3033, 40, 7535, 23, 44, 114]</td>\n",
       "                  \n",
       "                </tr>\n",
       "                \n",
       "                <tr>\n",
       "                  \n",
       "                  <td>one lamest movies watched last months predictable plot line pretty bad acting mainly supporting characters interview hugh laurie dvd actually rewarding film hugh laurie obviously put lot effort learning dance samba scope character required immerse kiddie end pool movie based appearance lovely girl great music sufficient make good entertainment never seen rio inside british bank film</td>\n",
       "                  \n",
       "                  <td>[3, 9999, 24, 178, 124, 1772, 582, 34, 224, 80, 15, 35, 1268, 555, 26, 2545, 3767, 6172, 163, 66, 6314, 2, 3767, 6172, 405, 159, 72, 634, 2605, 684, 9999, 4220, 27, 2418, 9999, 8851, 45, 2904, 1, 321, 1105, 1166, 128, 19, 115, 7197, 22, 5, 571, 36, 31, 9999, 849, 558, 1815, 2]</td>\n",
       "                  \n",
       "                </tr>\n",
       "                \n",
       "                <tr>\n",
       "                  \n",
       "                  <td>deniro master one favourites love good sports movies baseball much hey sports movies right expecting much movie seems start well deniro expected snipes really like good spoiled star barkin role ok good actress seemed place role always seemed rush scenes drags bit places seemed tio uneven considering cast plot could much better rated generous tough one numbers</td>\n",
       "                  \n",
       "                  <td>[4861, 1100, 3, 7254, 37, 5, 2086, 24, 2182, 13, 1215, 2086, 24, 98, 861, 13, 1, 82, 255, 12, 4861, 722, 6918, 10, 4, 5, 3451, 201, 9999, 108, 469, 5, 383, 336, 156, 108, 102, 336, 3123, 49, 3293, 116, 1203, 336, 9999, 3880, 917, 75, 34, 23, 13, 44, 989, 3432, 1049, 3, 1240]</td>\n",
       "                  \n",
       "                </tr>\n",
       "                \n",
       "                <tr>\n",
       "                  \n",
       "                  <td>always huge fan homicide life street heard reunion movie coming wait let say disappointed one powerful hours television ever seen great see everyone back biggest pleasure andre braugher back relationship pembleton bayliss always strongest part together great show</td>\n",
       "                  \n",
       "                  <td>[102, 526, 214, 5742, 33, 726, 422, 2945, 1, 445, 704, 164, 47, 543, 3, 822, 492, 551, 42, 31, 19, 11, 180, 52, 968, 1572, 4982, 9999, 52, 501, 9999, 9999, 102, 5451, 71, 176, 19, 40]</td>\n",
       "                  \n",
       "                </tr>\n",
       "                \n",
       "                <tr>\n",
       "                  \n",
       "                  <td>honestly disappointed expiration date super clever title interesting premise think delivered main character desire reconnect native roots likely need overcome fear death set someone lived life fear seems life going fine since doomsday approaching start worrying buy meanwhile supporting characters film seem needs blended overarching story thing running parallel main character also treated curse looked like coincidence cursed family finally plan staying apartment day birthday criticisms love shots seattle cinematography beautiful acting good times outstanding</td>\n",
       "                  \n",
       "                  <td>[1101, 543, 9999, 1137, 999, 936, 300, 111, 713, 25, 1966, 175, 27, 1594, 9999, 2001, 4840, 1173, 238, 2885, 927, 216, 152, 166, 1297, 33, 927, 82, 33, 70, 346, 126, 9999, 6193, 255, 7901, 665, 1922, 555, 26, 2, 191, 595, 9999, 9999, 9, 56, 482, 4522, 175, 27, 17, 1743, 2998, 470, 4, 5127, 7922, 106, 291, 1175, 3810, 1446, 135, 3176, 7666, 37, 522, 7453, 491, 190, 35, 5, 103, 1191]</td>\n",
       "                  \n",
       "                </tr>\n",
       "                \n",
       "                <tr>\n",
       "                  \n",
       "                  <td>apparently second remake film filmed many ways reminds later film yank oxford films concern conceited blow hard arrives one top schools world ultimately show blow hard slowly learning teamwork decency film william haines tom brown main rival bob played frances x bushman supporting role jack pickford always remembered brother mary three pickford comes best sympathetic loser becomes tom pal actually decent scenes well dramatic moment big game standard clich movie done many times since offers surprises however pleasant film enjoyable viewing opinion better silent college film try harold lloyd freshman football scenes frankly exciting harold far likable sympathetic annoying tom brown freshman probably best college picture find era another reason brown harvard lesser picture william haines played essentially unlikable bombastic character plot westpoint smart set among others seen one films seen well made certainly original rehash films anyone giving film score strongly advised see films checked saw small film highest rated film imdb talk rated dozens dozens better films film got anyone guess</td>\n",
       "                  \n",
       "                  <td>[544, 213, 872, 2, 664, 32, 621, 1633, 184, 2, 9999, 9999, 30, 4230, 9999, 2294, 140, 2773, 3, 227, 5644, 74, 958, 40, 2294, 140, 1202, 2605, 9999, 8300, 2, 852, 6633, 642, 1777, 175, 2788, 1811, 142, 6924, 1389, 9999, 555, 108, 539, 5586, 102, 1865, 425, 888, 172, 5586, 149, 39, 2074, 3119, 330, 642, 4448, 66, 406, 49, 12, 753, 420, 89, 361, 1112, 597, 1, 113, 32, 103, 126, 1421, 2283, 86, 2033, 2, 594, 681, 510, 44, 1126, 1006, 2, 231, 5469, 3142, 9999, 2142, 49, 1878, 969, 5469, 119, 1295, 2074, 477, 642, 1777, 9999, 129, 39, 1006, 304, 69, 829, 62, 169, 1777, 9999, 2738, 304, 852, 6633, 142, 1871, 5151, 9999, 27, 34, 9999, 1225, 152, 645, 281, 31, 3, 30, 31, 12, 20, 308, 96, 7076, 30, 141, 598, 2, 463, 2130, 6346, 11, 30, 4934, 109, 266, 2, 3915, 989, 2, 723, 593, 989, 4023, 4023, 44, 30, 2, 85, 141, 353]</td>\n",
       "                  \n",
       "                </tr>\n",
       "                \n",
       "                <tr>\n",
       "                  \n",
       "                  <td>waist indulge great actors weak boring movie besides unanswered questions posted comments difficult capturing robbers eliminate bank workers see bank cameras footage angles prior robbers entry extra remaining robbers among hostages suspense every body talking obvious moment hostages asked change identical uniform going walk front door seen many times least mr spike lee could seasoned movie good music score artistic shooting movie worth pronto</td>\n",
       "                  \n",
       "                  <td>[9999, 9664, 19, 59, 668, 237, 1, 1213, 6882, 1047, 5379, 647, 730, 4563, 6970, 9271, 1815, 2736, 11, 1815, 3796, 777, 2252, 2380, 6970, 3018, 1549, 3538, 6970, 645, 9999, 687, 73, 498, 515, 441, 420, 9999, 1645, 509, 6203, 6081, 70, 977, 856, 1152, 31, 32, 103, 112, 314, 3234, 614, 23, 6615, 1, 5, 115, 463, 1448, 1048, 1, 173, 9999]</td>\n",
       "                  \n",
       "                </tr>\n",
       "                \n",
       "                <tr>\n",
       "                  \n",
       "                  <td>whoever thought another home alone film would good idea head examined plot different kid villains leads endless stupidity traps two films bad enough hits rock bottom people may well watch films plot identical</td>\n",
       "                  \n",
       "                  <td>[2292, 92, 62, 223, 446, 2, 8, 5, 205, 290, 8749, 34, 158, 394, 1724, 680, 2028, 2845, 7036, 29, 30, 15, 90, 1771, 573, 1176, 16, 94, 12, 28, 30, 34, 6203]</td>\n",
       "                  \n",
       "                </tr>\n",
       "                \n",
       "                <tr>\n",
       "                  \n",
       "                  <td>slaughter high intrinsically emblematic slasher flick prank goes hand leaving geeky guy horribly burnt years later geeky guy returns starts killing people hurt story might sound intriguing entertaining makes horrible film different rest slasher flicks humorless flaws continuation errors acting horrendous however actually bad one would suspect though help every character film grody unlikable lead carol manning caroline munro easily biggest tormentor one ostensibly supposed share compassion root mention geeky guy almost geeky think even stereotypical geeks would rudely maddened downright antagonized geeky gets mauled anyone really care much unintentional laughter potential munro lack acting talent quite apparent puts level rest awful cast however amusement easily film poorly attempts pose munro mid time teenager amongst cast teenagers comes later life munro playing around real age rest cast pass adults goes well theme song hilariously pose heavy metal thrash accompanied maniacal laughter voice shrieking get said slaughter high really good slasher flick bad cheesy entertainment value perhaps essential hardcore slasher fans expect dilemma suspense credibility horrible</td>\n",
       "                  \n",
       "                  <td>[4552, 193, 9999, 9999, 1018, 371, 7960, 153, 372, 1044, 9642, 117, 2189, 7016, 58, 184, 9642, 117, 1580, 382, 732, 16, 1296, 9, 125, 349, 1609, 318, 67, 393, 2, 158, 240, 1018, 1380, 9999, 1357, 9999, 3852, 35, 3224, 86, 66, 15, 3, 8, 1610, 55, 219, 73, 27, 2, 9999, 5151, 352, 3156, 9999, 9473, 9999, 564, 968, 9999, 3, 7932, 298, 1340, 4899, 3491, 616, 9642, 117, 110, 9642, 25, 7, 2583, 9676, 8, 9999, 9999, 2442, 9999, 9642, 105, 9999, 141, 10, 328, 13, 3857, 1962, 836, 9999, 448, 35, 530, 77, 1570, 1298, 507, 240, 249, 75, 86, 5093, 564, 2, 712, 870, 7276, 9999, 1531, 6, 2141, 2811, 75, 2163, 149, 184, 33, 9999, 270, 83, 53, 417, 240, 75, 1180, 1312, 153, 12, 609, 471, 4651, 7276, 1014, 2427, 9999, 4560, 9648, 1962, 407, 9999, 14, 186, 4552, 193, 10, 5, 1018, 371, 15, 798, 571, 951, 259, 2781, 4059, 1018, 323, 403, 6195, 687, 2906, 393]</td>\n",
       "                  \n",
       "                </tr>\n",
       "                \n",
       "                <tr>\n",
       "                  \n",
       "                  <td>liked lot fact see plan may love echo reviewers saying movie really grow watch starts kind slowly way enfolds natural mood get really liked summery atmosphere movie thought movie touching whole characters strong element realism movie slowly gently weaves spell get involved various interactions want know ultimately turn paths characters choose take surprised less dozen comments obscure tv movies comments rich love one thing say missed ending driving crazy watch see movie may everybody feel strongly underrated even film buff purist friends seen almost every movie seen even seem much message board liked lot like family dramas warm scenery atmosphere unhurried languid pace probably take look especially note worthy takes place south carolina like love south movies take place gem add vote woefully comments recommend little known flick</td>\n",
       "                  \n",
       "                  <td>[297, 72, 87, 11, 1175, 94, 37, 8355, 1798, 523, 1, 10, 2115, 28, 382, 131, 1202, 21, 9999, 1076, 1149, 14, 10, 297, 9999, 691, 1, 92, 1, 1142, 114, 26, 428, 1274, 1718, 1, 1202, 8351, 9588, 3174, 14, 437, 847, 5086, 78, 41, 958, 338, 7026, 26, 2096, 88, 625, 208, 2354, 647, 3552, 132, 24, 647, 863, 37, 3, 56, 47, 890, 162, 1790, 769, 28, 11, 1, 94, 1207, 122, 2130, 2021, 7, 2, 4046, 9999, 243, 31, 110, 73, 1, 31, 7, 191, 13, 601, 1912, 297, 72, 4, 106, 3094, 2093, 1222, 691, 9999, 9999, 908, 129, 88, 68, 145, 705, 1358, 187, 156, 1061, 9999, 4, 37, 1061, 24, 88, 156, 1367, 618, 2127, 7964, 647, 261, 38, 434, 371]</td>\n",
       "                  \n",
       "                </tr>\n",
       "                \n",
       "                <tr>\n",
       "                  \n",
       "                  <td>jon pertwee said difficult funny easy silly well case pasty faces easy david baker director screenwriter cast seem impression comedy involves stealing scenes style superior britcoms like lock stock trainspotting using completely underdeveloped script jumping speaking fast voice loudly alan mccaffrey especially suffers type ott performance enough ruin film enough film ruin pasty faces terrible fronts especially scriptwise understand ended way seemed stop abrupt silly manner oh glaring errors need visa visit usa green card order work film would believe get plane start new life america without authorisation still get paid donate blood america people know america donate blood tell payment donations stopped several years ago buy type weapon gun shop far know gun laws america differ state state gun shops sell anti tank guns counter got erroneous view america unreal oh unfunny film maybe revenge braveheart hollywood view scots perhaps stop pasty faces crap comedy</td>\n",
       "                  \n",
       "                  <td>[2470, 8314, 186, 730, 65, 623, 566, 12, 294, 9999, 1428, 623, 466, 2869, 60, 2805, 75, 191, 1229, 101, 2121, 3033, 49, 277, 1562, 9999, 4, 5077, 1885, 9999, 624, 220, 7756, 118, 3392, 1228, 560, 407, 9989, 1402, 9999, 145, 2309, 416, 9999, 127, 90, 2287, 2, 90, 2, 2287, 9999, 1428, 269, 9999, 145, 9999, 268, 899, 21, 336, 432, 5271, 566, 1209, 313, 6245, 3852, 238, 9999, 1832, 2747, 1238, 2954, 518, 61, 2, 8, 147, 14, 1517, 255, 63, 33, 697, 99, 9999, 46, 14, 1376, 9999, 400, 697, 16, 41, 697, 9999, 400, 251, 9999, 9999, 2066, 324, 58, 460, 665, 416, 2985, 895, 1827, 119, 41, 895, 4261, 697, 9918, 935, 935, 895, 9999, 2051, 1046, 4917, 1705, 4614, 85, 9999, 506, 697, 4756, 313, 1803, 2, 165, 903, 5740, 217, 506, 9999, 259, 432, 9999, 1428, 454, 101]</td>\n",
       "                  \n",
       "                </tr>\n",
       "                \n",
       "                <tr>\n",
       "                  \n",
       "                  <td>reason even gave option give zero allowed biggest waste time ever endured roughly minutes subjected worst acting mean good way either like killer nerd great horrible acting plot ridiculous also absolutely nothing massacre reason even rented piece crap massacre title said one killing entire movie pretty lame spend time watching kids bickering yard work anything speaking kids little boy actor probably irritating child actor since bob house cemetery mention shot video well want throw away money hour life means watch savor hard earned dollars time stray far away possible</td>\n",
       "                  \n",
       "                  <td>[169, 7, 386, 5251, 95, 1291, 1500, 968, 310, 6, 42, 9509, 6871, 121, 4956, 137, 35, 258, 5, 21, 225, 4, 311, 4809, 19, 393, 35, 34, 505, 17, 303, 64, 3031, 169, 7, 1457, 292, 454, 3031, 300, 186, 3, 732, 309, 1, 80, 685, 988, 6, 54, 229, 9679, 4871, 61, 123, 1228, 229, 38, 284, 157, 129, 2063, 347, 157, 126, 1811, 189, 5893, 616, 204, 248, 12, 78, 1242, 133, 160, 398, 33, 669, 28, 9999, 140, 4121, 2316, 6, 9721, 119, 133, 476]</td>\n",
       "                  \n",
       "                </tr>\n",
       "                \n",
       "                <tr>\n",
       "                  \n",
       "                  <td>waited post review documentary first saw years ago wanted think carefully wanted write found documentary standpoint darned good documentary set show something idea kept interested world explored knew nothing drag world finding balls spectacular folks talented competition catty folks complainers even angry someone told judge coat drag queen wearing man coat jealous like every competition like every competition like felt point older drag queen talking balls used compared newer drag queens changed balls made competition categories even looked knowing future balls would change even ready walk runway interesting hear contestants living street two minutes ball came compete important sad stories stories house house mother brought best brightest competition interesting add years seeing film lived called madonna craze spotted familiar faces documentary ended madonna vogue phase rightfully individuals madonna vogue phase know credit given credit due makes wonder anyone else mainstream america would watch documentary learn mainstream think</td>\n",
       "                  \n",
       "                  <td>[4304, 1037, 589, 516, 18, 109, 58, 460, 341, 25, 3217, 341, 750, 143, 516, 8280, 9999, 5, 516, 152, 40, 51, 205, 679, 778, 74, 3907, 559, 64, 2217, 74, 1378, 4388, 1932, 1422, 865, 3354, 9999, 1422, 9999, 7, 1462, 166, 442, 1722, 5973, 2217, 1420, 1498, 43, 5973, 3513, 4, 73, 3354, 4, 73, 3354, 4, 295, 104, 770, 2217, 1420, 515, 4388, 222, 923, 5734, 2217, 7934, 1034, 4388, 20, 3354, 7914, 7, 470, 1115, 554, 4388, 8, 509, 7, 1460, 977, 9999, 111, 692, 6706, 444, 726, 29, 121, 1670, 260, 5934, 532, 478, 401, 401, 189, 189, 296, 689, 39, 9999, 3354, 111, 618, 58, 199, 2, 1297, 320, 3783, 9999, 8169, 925, 1428, 516, 899, 3783, 9999, 6646, 9250, 3381, 3783, 9999, 6646, 41, 940, 228, 940, 547, 67, 455, 141, 209, 2295, 697, 8, 28, 516, 702, 2295, 25]</td>\n",
       "                  \n",
       "                </tr>\n",
       "                \n",
       "                <tr>\n",
       "                  \n",
       "                  <td>end world uneventful movie odd since supposed total destruction earth main character kind scientist exactly sure kind two jobs government facility guarded four security men first job monitoring transmissions space although actually seems like hobby working job job requires put protective suit go dark room least best figure apparently plant exactly top secret scientist brings wife hangs way dinner discovers message space major earth disruption repeated says something first message space ever able decipher wife tells going late dinner party leave go party moments later finds china suffered major earthquake movie goes nowhere yes christopher lee really help much besides lee gives lackluster performance along lines appearance howling ii movie boring enough stupid elements might want suffer like christopher lee z grade sci fi plus lots stock footage earth destroyed</td>\n",
       "                  \n",
       "                  <td>[45, 74, 9999, 1, 873, 126, 298, 807, 3075, 534, 175, 27, 131, 1459, 479, 139, 131, 29, 2490, 1167, 7605, 9917, 545, 2367, 215, 18, 174, 9999, 9999, 676, 144, 66, 82, 4, 9999, 631, 174, 174, 3251, 159, 7451, 1563, 50, 331, 524, 112, 39, 671, 544, 4285, 479, 227, 837, 1459, 809, 195, 5720, 21, 2884, 1983, 601, 676, 536, 534, 9999, 2281, 423, 51, 18, 601, 676, 42, 370, 9999, 195, 570, 70, 389, 2884, 909, 424, 50, 909, 262, 184, 520, 2440, 2948, 536, 9999, 1, 153, 1118, 293, 1198, 614, 10, 219, 13, 1213, 614, 283, 4964, 127, 246, 287, 1105, 7514, 1348, 1, 237, 90, 254, 646, 125, 78, 2539, 4, 1198, 614, 4030, 1081, 764, 762, 781, 628, 1885, 777, 534, 2569]</td>\n",
       "                  \n",
       "                </tr>\n",
       "                \n",
       "                <tr>\n",
       "                  \n",
       "                  <td>went movie see huge academy award presentation oh well wanted see funny delightful adaptation old classic love jim carey incredible usual story line great parts added like history grinch made even better ron howard never misses beat although adult comments cleavage added supped kids family show try lose sight really wont enjoy movie comments ron howard try direct major motion picture see easy looks</td>\n",
       "                  \n",
       "                  <td>[307, 1, 11, 526, 1631, 1182, 2812, 313, 12, 341, 11, 65, 1755, 1099, 57, 232, 37, 1025, 5561, 894, 502, 9, 224, 19, 397, 1124, 4, 343, 4037, 20, 7, 44, 2514, 1844, 36, 3589, 1392, 144, 980, 647, 9999, 1124, 9999, 229, 106, 40, 231, 1425, 1514, 10, 4089, 236, 1, 647, 2514, 1844, 231, 1347, 536, 1109, 304, 11, 623, 155]</td>\n",
       "                  \n",
       "                </tr>\n",
       "                \n",
       "                <tr>\n",
       "                  \n",
       "                  <td>visual creative epic inimitable style film may neither alternative dramaturgy artistic acting dares say film art supporter idea important film must serious non commercial bothering questions even lot films apposite attributes like bogus journey sure one films get pure excessive creativity positive charged childlike energy film reflect reality friendly naive utopian imagine world future described rufus would pretty nice time place combination live except music technically bogus jorney well made always liked cinematography sceneries movie especially point bogus journey tops prequel far also effects good think made without cgi generally prefer good old effects big budget movies sure another hollywood movie peoples view think charismatic way short word soundtrack band orchestral music fits well film also sound design lack big fan rock music get track winger scene station builds bill ted robots van love unorthodox camera work beginning let conclude saying film naive imaginative way better panzerkreuzer potemkin godfather eraserhead aguirre wrath god absolutely superior citizen kane apocalypse chris markers sans soleil even better total recall way yes way bill ted bogus journey simply best movie ever made dares disagree makes guilty artsie fartsy behavior likes terminator salvation bigger self defamation ps part better movie bogus jorney superior sequel even terminator superior sequel</td>\n",
       "                  \n",
       "                  <td>[953, 1360, 1535, 9999, 277, 2, 94, 929, 5011, 9999, 1448, 35, 9927, 47, 2, 359, 9999, 205, 532, 2, 100, 483, 557, 1996, 8799, 1047, 7, 72, 30, 9999, 8615, 4, 5750, 1127, 139, 3, 30, 14, 896, 4594, 4679, 963, 5134, 9999, 1542, 2, 4395, 485, 2375, 2158, 9999, 690, 74, 554, 2040, 9999, 8, 80, 207, 6, 156, 2060, 286, 414, 115, 2358, 5750, 9999, 12, 20, 102, 297, 491, 9999, 1, 145, 104, 5750, 1127, 5783, 4696, 119, 17, 183, 5, 25, 20, 99, 1505, 1068, 2611, 5, 57, 183, 89, 230, 24, 139, 62, 217, 1, 4128, 506, 25, 3199, 21, 226, 538, 663, 944, 9587, 115, 2179, 12, 2, 17, 349, 1437, 448, 89, 214, 573, 115, 14, 1249, 9999, 48, 1521, 3695, 802, 2341, 3759, 1009, 37, 9999, 245, 61, 326, 164, 5487, 523, 2, 2158, 3111, 21, 44, 9999, 9999, 3211, 9999, 9999, 8789, 391, 303, 1562, 3388, 3197, 7134, 1178, 9999, 9079, 9999, 7, 44, 807, 2105, 21, 293, 21, 802, 2341, 5750, 1127, 211, 39, 1, 42, 20, 9927, 3274, 67, 2336, 9999, 9999, 1842, 1072, 5913, 6104, 1792, 399, 9999, 5369, 71, 44, 1, 5750, 9999, 1562, 608, 7, 5913, 1562, 608]</td>\n",
       "                  \n",
       "                </tr>\n",
       "                \n",
       "                <tr>\n",
       "                  \n",
       "                  <td>dil memorable movie bring celluloid great director like indra kumar movie followed beta ishq raja masti superb every successful director gives horrible movies alongwith hits pyare mohan one movie though comedies told nicely fail viewer laugh comparing kind comedy movies made today dumb really want watch movie laugh please watch pathetic comedy make cry short movie worth miss</td>\n",
       "                  \n",
       "                  <td>[9999, 754, 1, 575, 3885, 19, 60, 4, 9999, 4952, 1, 1322, 9768, 9999, 9999, 9999, 747, 73, 952, 60, 283, 393, 24, 9999, 1771, 9999, 9999, 3, 1, 55, 1123, 442, 1626, 1693, 369, 332, 4249, 131, 101, 24, 20, 377, 841, 10, 78, 28, 1, 332, 452, 28, 1064, 101, 22, 1246, 226, 1, 173, 569]</td>\n",
       "                  \n",
       "                </tr>\n",
       "                \n",
       "                <tr>\n",
       "                  \n",
       "                  <td>stan laurel oliver hardy extensive separate film careers eventually teamed many ollie pre stan films billed screen babe hardy throughout adult life hardy known friends babe touring postwar britain laurel music hall act bernard delfont hardy gave interview journalist john mccabe explained origin nickname early acting career hardy got shave gay hairdresser squeezed hardy plump cheeks ones face said nice baby hardy workmates started crying babe nickname stuck although much hardy pre laurel work interesting notably comedy roles support larry semon chaplin imitator billy west teamwork billy ruge series low budget shorts vim comedy film company dire indeed hardy ruge given screen names plump runt names unpleasant right made worse ruge although shorter hardy especially runt seen hardy looks much early hal roach films laurel without spit curls fastidious little moustache one many absolutely typical plunt runt epic direly unfunny dreichness made even conspicuous fact film exactly premise wife one laurel hardy hilarious films plump hardy star boarder rooming house run tall gawky landlady runt ruge porter plump receives letter wealthy uncle john whose dosh expects inherit uncle coming see meet plump wife baby one problem plump got wife baby lying uncle order seem family man course plump expects runt find wife baby short notice course results disastrous would nice disastrous results funny unfunny humour empty slapstick characters settling arguments shoving bathtubs spoilers coming vim director louis shows instinct camera framing actress plays landlady significantly taller hardy louis consistently sets shots head frame could funny done purpose merely inept one point bad comedy extremely tasteless gag looming horizon runt approaches black laundress surely stoop low laugh thought runt steals woman black infant tries fob plump progeny somehow plump acquires infant cot still got baby uncle john coming stairs plump conscripts runt babyhood gag might possibly worked midget even truly runt sized actor chester conklin billy ruge slightly average height ruge impersonation baby neither believable funny uncle john would complete moron fall amazingly notable aspect one many brief appearance apparently ever film appearance madelyn saloshin oliver hardy first wife marriage happy one although hardy marital troubles never attained epic proportions stan laurel one thing movie impressed brief flashback sequence hardy reminiscing seaside romance bathing beauty still yet standard film grammar conveying flashbacks one shown done gracefully simply bad movie merits one many definitely one film many oliver hardy cv rate movie one point laurel hardy together definitely much funnier either separately</td>\n",
       "                  \n",
       "                  <td>[3047, 3524, 2147, 2587, 7155, 2968, 2, 3891, 700, 9431, 32, 4312, 1574, 3047, 30, 4988, 148, 4125, 2587, 337, 980, 33, 2587, 434, 243, 4125, 9999, 9999, 2964, 3524, 115, 2134, 375, 5164, 9999, 2587, 386, 2545, 3755, 182, 9999, 1692, 5961, 9999, 273, 35, 472, 2587, 85, 9999, 840, 9999, 9999, 2587, 9999, 9999, 517, 267, 186, 207, 733, 2587, 9999, 508, 2399, 4125, 9999, 1405, 144, 13, 2587, 1574, 3524, 61, 111, 3547, 101, 419, 1272, 2503, 9999, 2957, 9999, 1317, 1053, 9999, 1317, 9999, 93, 241, 230, 2981, 9999, 101, 2, 970, 3488, 699, 2587, 9999, 228, 148, 1277, 9999, 9999, 1277, 3795, 98, 20, 306, 9999, 144, 5646, 2587, 145, 9999, 31, 2587, 155, 13, 273, 3940, 7893, 30, 3524, 99, 6098, 9999, 9999, 38, 9999, 3, 32, 303, 648, 9999, 9999, 1535, 9999, 1803, 9999, 20, 7, 9999, 87, 2, 479, 713, 195, 3, 3524, 2587, 497, 30, 9999, 2587, 201, 9999, 9999, 189, 384, 3508, 9999, 9999, 9999, 9999, 6034, 9999, 4794, 3125, 2901, 1468, 182, 486, 9999, 6158, 9999, 1468, 445, 11, 752, 9999, 195, 733, 3, 312, 9999, 85, 195, 733, 3008, 1468, 518, 191, 106, 43, 146, 9999, 6158, 9999, 69, 195, 733, 226, 1343, 146, 1756, 5808, 8, 207, 5808, 1756, 65, 1803, 1122, 1752, 2588, 26, 9999, 6398, 9999, 9999, 885, 445, 9999, 60, 2111, 171, 4661, 245, 7902, 383, 181, 9999, 8395, 9999, 2587, 2111, 3982, 585, 522, 290, 1948, 23, 65, 113, 1128, 1374, 2614, 3, 104, 15, 101, 438, 5252, 3110, 9999, 9282, 9999, 5879, 206, 9999, 1190, 9999, 241, 332, 92, 9999, 2204, 130, 206, 9599, 366, 9999, 9999, 9999, 675, 9999, 9999, 9599, 9999, 46, 85, 733, 1468, 182, 445, 5490, 9999, 9999, 9999, 9999, 3110, 125, 717, 797, 7841, 7, 247, 9999, 6136, 157, 9999, 9999, 1317, 9999, 921, 701, 5425, 9999, 9999, 733, 929, 715, 65, 1468, 182, 8, 458, 6370, 656, 2630, 2695, 1094, 3, 32, 1265, 1105, 544, 42, 2, 1105, 9999, 9999, 2147, 2587, 18, 195, 1192, 504, 3, 144, 2587, 9489, 4736, 36, 9999, 1535, 8374, 3047, 3524, 3, 56, 1, 1397, 1265, 2589, 574, 2587, 9999, 9999, 731, 9202, 772, 46, 134, 1112, 2, 9999, 7904, 1984, 3, 480, 113, 9999, 211, 15, 1, 4875, 3, 32, 282, 3, 2, 32, 2147, 2587, 9999, 811, 1, 3, 104, 3524, 2587, 176, 282, 13, 2646, 225, 9999]</td>\n",
       "                  \n",
       "                </tr>\n",
       "                \n",
       "                <tr>\n",
       "                  \n",
       "                  <td>song keeps humming head greatest song movie lead singer supposebly gets killed accused murders stalks girlfriend sings backup vocals band lead singer whos name billy eye yeah right dead two years band comes back concert backup vocalist lead singer time billy stalks eventually goes around killing people terrifying girl makeing people around think theres something wrong shes imagining things finally decides go cemetary dig grave see still sees dead still see hears voice end movie find reason behind billy brother named john right john admits jealous brother killed people get back place blame brother take girlfriend terrorize called crazy ending cheezy acting lame wooden like anyway watch song wish</td>\n",
       "                  \n",
       "                  <td>[471, 786, 9999, 290, 682, 471, 1, 352, 1753, 9999, 105, 421, 3439, 1339, 8922, 796, 2980, 9999, 9999, 944, 352, 1753, 9999, 274, 1317, 590, 1080, 98, 221, 29, 58, 944, 149, 52, 3063, 9999, 9999, 352, 1753, 6, 1317, 8922, 700, 153, 83, 732, 16, 3073, 128, 9999, 16, 83, 25, 9999, 51, 234, 9999, 7183, 79, 291, 914, 50, 9999, 3077, 2433, 11, 46, 930, 221, 46, 11, 5024, 407, 45, 1, 69, 169, 362, 1317, 425, 627, 182, 98, 182, 7362, 3513, 425, 421, 16, 14, 52, 156, 1665, 425, 88, 796, 9999, 320, 769, 162, 9999, 35, 685, 1483, 4, 418, 28, 471, 512]</td>\n",
       "                  \n",
       "                </tr>\n",
       "                \n",
       "                <tr>\n",
       "                  \n",
       "                  <td>clever gritty witty fast paced sexy extravagant sleazy erotic heartfelt corny footlight parade first class entertainment movies realistic satirical treatment gives fresh edge material pace line delivery breathtaking think started making feature talking pictures years brilliance dialogue cannot matched anywhere today especially considering realism taken engulfed contemporary cinema film made time hayes code restricting content ignored result fresh self referential critical living cinema spoke directly contemporary audiences suffering depression general angst age recommend watching film period vision popular cinema potentially</td>\n",
       "                  \n",
       "                  <td>[936, 2352, 1763, 560, 1614, 1117, 9999, 2744, 2308, 5166, 1867, 9999, 5010, 18, 563, 571, 24, 672, 5660, 2025, 283, 1315, 1121, 670, 908, 224, 2493, 2690, 25, 508, 120, 635, 515, 1098, 58, 3304, 289, 429, 4517, 1596, 377, 145, 917, 1718, 487, 9999, 2215, 302, 2, 20, 6, 6976, 1981, 9999, 1344, 3531, 803, 1315, 399, 9999, 2603, 444, 302, 4431, 2372, 2215, 1051, 1916, 3308, 661, 5396, 417, 261, 54, 2, 659, 1595, 907, 302, 4449]</td>\n",
       "                  \n",
       "                </tr>\n",
       "                \n",
       "                <tr>\n",
       "                  \n",
       "                  <td>plan b appearance quickly made unedited sloppy script movie attempt outing actors involved outing nixed start another mafia based comedy nothing new lowers standard participating joe maloni paul sorvino crime boss concerned clothing appearances business control personal assistant mario anthony desando dumber dirt ignorance supposed funny maloni whacked one debtors happens married bookish fran diane keaton maloni takes fran assistant work dead husband debt maloni hit man fran afraid shadow unable carry maloni assignments electing instead transport whackees florida hide brother james house figure next alternative killing three candidates called plan b plan kill ending wholly predictable every line assigned script characters diane keaton made lot fine films one talented actresses comediennes screams rants twitches way ridiculous part quickly becomes annoying watch paul sorvino well paul sorvino type cast mobster films supporting cast likewise allowed play balcony broadest slapstick pratfall fashion imaginable supposed comedy ends silly overdone director greg yaitanes needs go back tv sitcoms flimsy story compressed half hour gig might chance grady harp</td>\n",
       "                  \n",
       "                  <td>[1175, 350, 1105, 789, 20, 9999, 3608, 118, 1, 451, 5356, 59, 437, 5356, 9999, 255, 62, 3271, 321, 101, 64, 63, 9999, 1112, 9844, 734, 9999, 561, 8468, 674, 1197, 1788, 3798, 3141, 815, 981, 810, 2988, 4152, 1822, 9999, 6593, 5142, 5229, 298, 65, 9999, 9321, 3, 9999, 433, 860, 9999, 9999, 4035, 1577, 9999, 187, 9999, 2988, 61, 221, 464, 6324, 9999, 431, 43, 9999, 1433, 2538, 1938, 1496, 9999, 9999, 9999, 188, 7807, 9999, 3897, 2227, 425, 439, 189, 671, 252, 5011, 732, 172, 9081, 320, 1175, 350, 1175, 378, 162, 4833, 582, 73, 224, 4806, 118, 26, 4035, 1577, 20, 72, 346, 30, 3, 865, 1332, 9999, 3597, 9999, 9999, 21, 505, 71, 789, 330, 477, 28, 561, 8468, 12, 561, 8468, 416, 75, 7916, 30, 555, 75, 4527, 1500, 177, 9710, 9999, 2588, 9999, 1440, 5163, 298, 101, 490, 566, 3535, 60, 4821, 9999, 595, 50, 52, 132, 7496, 6297, 9, 9999, 200, 398, 7811, 125, 440, 8479, 9977]</td>\n",
       "                  \n",
       "                </tr>\n",
       "                \n",
       "                <tr>\n",
       "                  \n",
       "                  <td>really worst film ever seen ever period actually paid watch steaming turd movie incredibly dull poorly acted dire script often incoherent many scenes seem relevance overall film like heath ledger priest partner get nailed wall ghost point scene answers postcard please got medal sticking film entire running time would rather take strong kick groin sit film cast imdb bottom hopefully vote help way</td>\n",
       "                  \n",
       "                  <td>[10, 137, 2, 42, 31, 42, 659, 66, 1376, 28, 8499, 6266, 1, 812, 610, 712, 765, 3488, 118, 275, 3162, 32, 49, 191, 6934, 319, 2, 4, 6982, 8491, 2108, 1728, 14, 9080, 1336, 1033, 104, 48, 2600, 9999, 452, 85, 9999, 6182, 2, 309, 482, 6, 8, 136, 88, 428, 1819, 9999, 718, 2, 75, 723, 1176, 2188, 2127, 219, 21]</td>\n",
       "                  \n",
       "                </tr>\n",
       "                \n",
       "                <tr>\n",
       "                  \n",
       "                  <td>worst movie saw worldfest also received least amount applause afterwards think receiving recognition based amount known actors film great see j beals movie minutes parker much better actress part allowed rest acting hard judge movie ridiculous predictable main character totally unsympathetic therefore bore watch real emotional depth story movie revolving actor get work feel original development cop feels like one many straight video movies saw back even good one standards</td>\n",
       "                  \n",
       "                  <td>[137, 1, 109, 9999, 17, 1833, 112, 1007, 8402, 3317, 25, 5407, 4477, 321, 1007, 434, 59, 2, 19, 11, 1156, 9999, 1, 121, 1969, 13, 44, 383, 71, 1500, 240, 35, 140, 1722, 1, 505, 582, 175, 27, 354, 6590, 1466, 2536, 28, 53, 767, 976, 9, 1, 7073, 157, 14, 61, 122, 96, 787, 823, 617, 4, 3, 32, 577, 248, 24, 109, 52, 7, 5, 3, 1388]</td>\n",
       "                  \n",
       "                </tr>\n",
       "                \n",
       "                <tr>\n",
       "                  \n",
       "                  <td>rented mistake thought cursory examination box time travel sci fi story instead christian story suppose fairly typical example sold message probably overlook awkwardness plot acting etc found rather painful admit bothered rewriting history story paints sort paradise family values morality character aghast marriages end divorce overlooks unsavory sides highly moral society rigid racial sexual social discrimination widespread instance one point hero complains clothing store owner things sound different complaints iranian leaders women clothing styles reported recent wsj overall thought suppose sort thing like like sort thing certainly wholesome</td>\n",
       "                  \n",
       "                  <td>[1457, 1162, 92, 9999, 4967, 794, 6, 1945, 764, 762, 9, 188, 1324, 9, 1256, 864, 648, 334, 2774, 601, 129, 4646, 9999, 34, 35, 388, 143, 136, 1193, 821, 2468, 9999, 343, 9, 6995, 305, 5069, 106, 1071, 3469, 27, 9999, 9952, 45, 4038, 9999, 9999, 2849, 410, 1345, 745, 9406, 4162, 716, 874, 9999, 9999, 1676, 3, 104, 449, 9566, 3798, 962, 1823, 79, 349, 158, 5058, 6973, 5848, 235, 3798, 3692, 7994, 978, 9999, 319, 92, 1256, 305, 56, 4, 4, 305, 56, 308, 7489]</td>\n",
       "                  \n",
       "                </tr>\n",
       "                \n",
       "                <tr>\n",
       "                  \n",
       "                  <td>comparison american graffiti inevitable save money time renting timeless classic speaking timeliness episode cheers norm cliff competed find anachronism movie would loved movie everything songs clothing wrong sly reference paved paradise put parking lot filmmakers hoped elicit smiles us basically made groan characters movie incredibly politically socially astute teenagers almost smart people thirties forties wrote darn movie little characters said believable combine bad writing bad acting movie totally fail although two exceptions kelli williams liven things future flower child despite another reviewer said rick shroeder quite good showing brooding characteristic would come full boil eventual appearance n p blues</td>\n",
       "                  \n",
       "                  <td>[1905, 179, 9999, 3268, 468, 160, 6, 2582, 3497, 232, 1228, 9999, 264, 7230, 5529, 3739, 9999, 69, 9999, 1, 8, 322, 1, 170, 548, 3798, 234, 6947, 2728, 9999, 5069, 159, 6824, 72, 889, 3040, 9999, 5678, 76, 550, 20, 9757, 26, 1, 812, 3920, 7908, 9999, 2163, 110, 1225, 16, 5933, 6700, 880, 5295, 1, 38, 26, 186, 715, 4316, 15, 355, 15, 35, 1, 354, 1693, 144, 29, 5424, 9999, 1430, 9999, 79, 554, 6676, 347, 335, 62, 1986, 186, 3957, 9999, 77, 5, 650, 5765, 7426, 8, 107, 244, 9999, 6156, 1105, 1409, 1303, 4122]</td>\n",
       "                  \n",
       "                </tr>\n",
       "                \n",
       "                <tr>\n",
       "                  \n",
       "                  <td>thank god abc picked instead fox best description know really wonderfalls meets dead like best way possible sure whether experience death destiny early life makes fan brian fuller certainly enjoy productions also enjoy checkered floors pies talking toys gravelings mischievous items bit burtonesque certainly think enjoys niche require j depp hb carter wonderfully imaginative playground find joys sorrows childhood adulthood crashing actually making sense making us want live life fullest</td>\n",
       "                  \n",
       "                  <td>[1125, 391, 3402, 1480, 188, 1463, 39, 2606, 41, 10, 9999, 742, 221, 4, 39, 21, 476, 139, 581, 447, 216, 3969, 273, 33, 67, 214, 1400, 4783, 308, 236, 2511, 17, 236, 9999, 9411, 9999, 515, 3890, 9999, 9443, 5099, 116, 9999, 308, 25, 3741, 9999, 5098, 1156, 9999, 9999, 2938, 1512, 3111, 9999, 69, 9999, 9999, 1385, 9999, 6432, 66, 120, 168, 120, 76, 78, 286, 33, 9999]</td>\n",
       "                  \n",
       "                </tr>\n",
       "                \n",
       "                <tr>\n",
       "                  \n",
       "                  <td>saw picture would like secure dvd film greatest adventure time like epics still entertainment marvel b w get sense real bonded friendship chemistry actors performances sam jaffe eduardo cianelli outstanding could done today particularly liked ending colonel recites end kipling poem body gunga din tells untouchable better man gunga din make movies character today cast member still alive today joan fontaine</td>\n",
       "                  \n",
       "                  <td>[109, 304, 8, 4, 7943, 163, 2, 682, 979, 6, 4, 7140, 46, 571, 5376, 350, 1826, 14, 168, 53, 9999, 1702, 1020, 59, 233, 1092, 9999, 9999, 9999, 1191, 23, 113, 377, 435, 297, 162, 3914, 9999, 45, 9999, 4672, 498, 5702, 4874, 570, 9999, 44, 43, 5702, 4874, 22, 24, 27, 377, 75, 1494, 46, 1075, 377, 1608, 5350]</td>\n",
       "                  \n",
       "                </tr>\n",
       "                \n",
       "                <tr>\n",
       "                  \n",
       "                  <td>picture started good intentions bacon scientist test theory invisibility shue cute usual role falls apart typical hollywood thriller filmed soundstage special effects galore minus kind humour wit soul words waste time watching get audiocassette tape john delancie invisible man instead also starring leonard nimoy good hg wells well served unlike mess</td>\n",
       "                  \n",
       "                  <td>[304, 508, 5, 2792, 5087, 1459, 2018, 2390, 9999, 9492, 875, 502, 108, 587, 816, 648, 217, 562, 664, 9999, 198, 183, 9879, 5084, 131, 1122, 2035, 1181, 568, 310, 6, 54, 14, 9999, 2030, 182, 9999, 2323, 43, 188, 17, 1031, 3779, 9999, 5, 9999, 3523, 12, 2842, 866, 788]</td>\n",
       "                  \n",
       "                </tr>\n",
       "                \n",
       "                <tr>\n",
       "                  \n",
       "                  <td>much undervalued film tells story young musician caught ever declining spiral domestic violence times difficult watch morris day portrayed misogynist prince knight motorcycle steed still called upon twice beat woman part screenplay still emerge flawed vindicated hero credit writing prince free ego film portray narcissistic megalomaniac beats women famous song fictionalised written father wendy lisa even two compositions computer blue admittedly album weakest track darling nikki shown songs kill audience perhaps concession princely ego card lists slightly shorter prince apollonia nearly complete amateur cast mainly band members playing reviewers slate actors terms never appeared movies completely missing point perfectly well direction morris day gets plaudits likable ham though jerome benton must also get credit bouncing well particularly stage act hilarious day benton even go far make abbott costello routine funny takes lastly prince admit bias actually think pretty good actor terms able portray low key version acting profession film made entertainment anyone pointing guy lead role robert deniro thinking making point sadly deluded want review derisory attack people comments even film slated low budget darkly lit would film domestic violence shot full overhead spotlights cgi dinosaur walking frame film acts almost perfect snapshot neon light skinny tie era remember actually made world curly perms tinny synths retro recreation prince best film oscar winning music sees zenith saddening realise even though would make fine albums would never capture high</td>\n",
       "                  \n",
       "                  <td>[13, 9999, 2, 570, 9, 81, 5083, 901, 42, 9999, 7717, 4654, 430, 103, 730, 28, 4170, 135, 848, 9999, 1624, 5103, 6727, 9999, 46, 320, 580, 1283, 1392, 130, 71, 729, 46, 5884, 2860, 9999, 449, 940, 355, 1624, 727, 3338, 2, 1821, 9999, 9999, 3771, 235, 655, 471, 9999, 272, 197, 4205, 2471, 7, 29, 8773, 1065, 1154, 3216, 4731, 4150, 1249, 8904, 9999, 480, 548, 378, 185, 259, 9999, 9999, 3338, 2954, 8359, 921, 5646, 1624, 9999, 612, 458, 2181, 75, 1268, 944, 904, 270, 1798, 9999, 59, 1148, 36, 1328, 24, 220, 858, 104, 795, 12, 333, 4170, 135, 105, 9999, 1295, 4745, 55, 9999, 9999, 100, 17, 14, 940, 9999, 12, 435, 710, 375, 497, 135, 9999, 7, 50, 119, 22, 9804, 9999, 2311, 65, 187, 7090, 1624, 821, 7274, 66, 25, 80, 5, 157, 1148, 370, 1821, 241, 1163, 194, 35, 5703, 2, 20, 571, 141, 6957, 117, 352, 108, 519, 4861, 402, 120, 104, 878, 9999, 78, 589, 9999, 1110, 16, 647, 7, 2, 9999, 241, 230, 7867, 3832, 8, 2, 4654, 430, 204, 244, 9999, 9999, 1505, 4151, 1130, 1948, 2, 1267, 110, 278, 9999, 9999, 496, 6608, 4042, 829, 253, 66, 20, 74, 5156, 9999, 9999, 9999, 8097, 9366, 1624, 39, 2, 579, 1413, 115, 930, 9999, 9999, 3368, 7, 55, 8, 22, 346, 9390, 8, 36, 1682, 193]</td>\n",
       "                  \n",
       "                </tr>\n",
       "                \n",
       "                <tr>\n",
       "                  \n",
       "                  <td>think film brilliant many reasons good acting tom tyler brilliant machine gun scene piece brilliance thought ending good twist never expected end credit sam mendes well points film form film good well film student college studied film great detail one best films seen many years like say big thank people involved making film lastly would like say best scene film machine gun scene john rooney gets kill pure brilliance shooting scene silence john rooney says glad lot better like think viewer creates sound sound totally different every viewer brilliant thank reading comment written ross kirk aged</td>\n",
       "                  \n",
       "                  <td>[25, 2, 395, 32, 855, 5, 35, 642, 5258, 395, 1510, 895, 48, 292, 3304, 92, 162, 5, 845, 36, 722, 45, 940, 1092, 9999, 12, 613, 2, 660, 2, 5, 12, 2, 1275, 1006, 7203, 2, 19, 1426, 3, 39, 30, 31, 32, 58, 4, 47, 89, 1125, 16, 437, 120, 2, 7090, 8, 4, 47, 39, 48, 2, 1510, 895, 48, 182, 4615, 105, 378, 896, 3304, 1048, 48, 3284, 182, 4615, 423, 1108, 72, 44, 4, 25, 369, 1953, 349, 349, 354, 158, 73, 369, 395, 1125, 737, 775, 272, 4841, 3698, 2038]</td>\n",
       "                  \n",
       "                </tr>\n",
       "                \n",
       "                <tr>\n",
       "                  \n",
       "                  <td>fan sookie stackhouse books find series totally crass representation vampire bill good looking looks much older described book found made already wonderfully colourful characters seem course vulgar one things loved books despite crap going sookie always lady yet tv series seem like prejudices displayed tv series nearly wide spread books expect exact replica books least expected feel used series</td>\n",
       "                  \n",
       "                  <td>[214, 9999, 9999, 991, 69, 93, 354, 8882, 5507, 1184, 802, 5, 150, 155, 13, 770, 2040, 154, 143, 20, 329, 1512, 9378, 26, 191, 146, 5035, 3, 79, 322, 991, 335, 454, 70, 9999, 102, 591, 134, 132, 93, 191, 4, 8680, 4133, 132, 93, 612, 1710, 4444, 991, 403, 2429, 9999, 991, 112, 722, 122, 222, 93]</td>\n",
       "                  \n",
       "                </tr>\n",
       "                \n",
       "                <tr>\n",
       "                  \n",
       "                  <td>means masterpiece far errol flynn best istanbul still much going locations beautiful technicolour cinematography bring us back time long since past errol flynn show moments past glory ok jim brennan pilot past comes back haunt picture actually remake singapore story seems awfully contrived cliche today standards also many supporting cast seem simply going motions picture many people also compared one time greats casablanca watching film could see many similarities hey casablanca inspired countless imitators take worth closing fan flynn old fashioned love stories might want give film look otherwise recommend casablanca maltese falcon good introduction hollywood classics</td>\n",
       "                  \n",
       "                  <td>[669, 835, 119, 5821, 3004, 39, 9999, 46, 13, 70, 1825, 190, 9999, 491, 575, 76, 52, 6, 91, 126, 368, 5821, 3004, 40, 262, 368, 3000, 469, 1025, 8326, 1620, 368, 149, 52, 7133, 304, 66, 872, 9999, 9, 82, 4754, 2091, 4255, 377, 1388, 17, 32, 555, 75, 191, 211, 70, 6798, 304, 32, 16, 17, 923, 3, 6, 9937, 6842, 54, 2, 23, 11, 32, 4178, 1215, 6842, 1408, 3193, 9999, 88, 173, 2585, 214, 3004, 57, 3145, 37, 401, 125, 78, 95, 2, 68, 749, 261, 6842, 9999, 9999, 5, 2693, 217, 2037]</td>\n",
       "                  \n",
       "                </tr>\n",
       "                \n",
       "                <tr>\n",
       "                  \n",
       "                  <td>first two sequences movie set two conflicts thematic conflict soldier todd suppressed humanity physical conflict todd bio engineered replacement sequences quite gripping different ways peoples screenplay falters somewhat resolving first arcs half way movie means second half little straightforward action romp nonetheless kudos makers creating genre action piece heart even bit soul especially kurt russell conveys much little great film one worth seeing</td>\n",
       "                  \n",
       "                  <td>[18, 29, 696, 1, 152, 29, 4369, 9999, 1761, 1415, 3760, 9999, 1706, 1579, 1761, 3760, 8312, 9999, 7015, 696, 77, 2949, 158, 621, 4128, 729, 9999, 503, 9999, 18, 9999, 200, 21, 1, 669, 213, 200, 38, 5101, 97, 4883, 2754, 3320, 1021, 1697, 373, 97, 292, 345, 7, 116, 1181, 145, 2967, 2242, 5364, 13, 38, 19, 2, 3, 173, 199]</td>\n",
       "                  \n",
       "                </tr>\n",
       "                \n",
       "                <tr>\n",
       "                  \n",
       "                  <td>say like something wrong plus jessica kinds hot reason may like set future seattle gone hell like cause future show could well happen</td>\n",
       "                  \n",
       "                  <td>[47, 4, 51, 234, 781, 2667, 2402, 735, 169, 94, 4, 152, 554, 7453, 677, 465, 4, 933, 554, 40, 23, 12, 453]</td>\n",
       "                  \n",
       "                </tr>\n",
       "                \n",
       "                <tr>\n",
       "                  \n",
       "                  <td>cannibalistic backwoods killer prowl two bickering couples might next source protein bargain basement friday th clone cheapie literally nothing interest see one killings surprisingly sparse happen completely amateurish also adds ghosts mix reason ever felt drained watching brain liquefying draining nose remains without doubt donald jones worst movie thinking renting code red snazzy new dvd release bothermy grade f</td>\n",
       "                  \n",
       "                  <td>[9999, 8743, 311, 9999, 29, 9679, 4375, 125, 252, 2258, 9999, 4649, 3064, 2333, 683, 6355, 9999, 1067, 64, 461, 11, 3, 3254, 1073, 9278, 453, 220, 2176, 17, 1454, 2542, 1341, 169, 42, 295, 9867, 54, 1054, 9999, 9999, 3007, 1129, 99, 673, 2405, 1226, 137, 1, 402, 2582, 1981, 606, 9999, 63, 163, 620, 9999, 1081, 937]</td>\n",
       "                  \n",
       "                </tr>\n",
       "                \n",
       "                <tr>\n",
       "                  \n",
       "                  <td>terry gilliam stunning feature length adaptation chris marker short film la jetee full mind bending surprises yet still touches heart thanks superb cast gilliam flair phantasmagorical works script david janet peoples play head much poor james cole willis steve mcqueen like better mcqueen even time traveling convict future literally know whether coming going team scientists keeps sending back wrong eras trying prevent plague deadly humans harmless animals willis justifiably oscar nominated brad pitt madeline stowe well meaning psychiatrist give best performances careers even paul buckmaster tango style score haunting one miss</td>\n",
       "                  \n",
       "                  <td>[3731, 5804, 1231, 635, 1461, 1099, 1178, 9999, 226, 2, 905, 9999, 244, 210, 9999, 2283, 134, 46, 2253, 345, 1060, 747, 75, 5804, 5019, 9999, 364, 118, 466, 7407, 4128, 177, 290, 13, 218, 439, 3261, 4401, 1042, 5827, 4, 44, 5827, 7, 6, 4082, 6959, 554, 1067, 41, 581, 445, 70, 605, 3121, 786, 5511, 52, 234, 9999, 151, 3447, 3015, 2305, 1532, 5388, 1212, 4401, 9999, 579, 2128, 2621, 2371, 9999, 9999, 12, 1056, 3477, 95, 39, 233, 3891, 7, 561, 9999, 8447, 277, 463, 2073, 3, 569]</td>\n",
       "                  \n",
       "                </tr>\n",
       "                \n",
       "                <tr>\n",
       "                  \n",
       "                  <td>suspicions movie going bad duke fan way back three years tv series dvd well right took family see really wanted see general jump chase jump scenes good sum movie dumbed tarted version tv show jessica simpson pathetic honestly say original daisy outfits revealing jessica simpson interpretation daisy simply awful sorrel booke denver pyle must rolling graves well waste money old tried true dukes fan like three kids disappointed</td>\n",
       "                  \n",
       "                  <td>[9999, 1, 70, 15, 3259, 214, 21, 52, 172, 58, 132, 93, 163, 12, 98, 426, 106, 11, 10, 341, 11, 661, 1616, 1132, 1616, 49, 5, 2825, 1, 9999, 9999, 194, 132, 40, 2667, 4296, 1064, 1101, 47, 96, 6419, 5224, 3465, 2667, 4296, 2778, 6419, 211, 249, 9999, 9999, 8676, 9999, 100, 2508, 9099, 12, 310, 160, 57, 652, 167, 6418, 214, 4, 172, 229, 543]</td>\n",
       "                  \n",
       "                </tr>\n",
       "                \n",
       "                <tr>\n",
       "                  \n",
       "                  <td>glad someone made movie hard risk heart second time third movie exactly promises lovely amusing gives good feeling around heart ends plot might inventive millions ways tell story used yet cast perfectly selected although scott wolf look like father eight year old even wearing suit sparks right places supporting cast lovably supporting although could probably predict whole movie would want switch channel right sort entertainment sunday evening</td>\n",
       "                  \n",
       "                  <td>[1108, 166, 20, 1, 140, 2772, 345, 213, 6, 688, 1, 479, 4732, 1166, 985, 283, 5, 411, 83, 345, 490, 34, 125, 4229, 2962, 621, 251, 9, 222, 134, 75, 795, 6354, 144, 869, 3541, 68, 4, 197, 2137, 161, 57, 7, 1498, 1563, 7174, 98, 1203, 555, 75, 9999, 555, 144, 23, 129, 5506, 114, 1, 8, 78, 4239, 1119, 98, 305, 571, 2417, 1943]</td>\n",
       "                  \n",
       "                </tr>\n",
       "                \n",
       "                <tr>\n",
       "                  \n",
       "                  <td>cheap filmed video beginning crazy fat ethel ii wondered film cover unfortunately story mindlessly simple ethel homicidal maniac eating disorder released halfway house hospital overcrowding far sane resident watching one man puts dead flies another soup ethel teased one halfway house employees chocolate bar hits cost cutting measure feeding residents dog food ethel retaliates strangling wire noose stairs well get idea sounds like fun film poorly made cheap effects even worse acting characters wooden delivering lines standing front cigar store make matters worse half film consists flashbacks first ethel movie criminally insane little better poor effort</td>\n",
       "                  \n",
       "                  <td>[565, 664, 248, 326, 769, 1741, 9999, 1348, 3364, 2, 950, 340, 9, 9999, 467, 9999, 7189, 4793, 1725, 5690, 488, 2645, 189, 1382, 9999, 119, 7755, 4683, 54, 3, 43, 1298, 221, 3946, 62, 5329, 9999, 9999, 3, 2645, 189, 7907, 8880, 1284, 1771, 2145, 2212, 3968, 5577, 6050, 736, 1473, 9999, 9999, 9999, 5621, 9999, 5490, 12, 14, 205, 782, 4, 138, 2, 712, 20, 565, 183, 7, 306, 35, 26, 1483, 4323, 287, 1926, 856, 9999, 962, 22, 2113, 306, 200, 2, 3038, 1984, 18, 9999, 1, 9279, 1975, 38, 44, 218, 634]</td>\n",
       "                  \n",
       "                </tr>\n",
       "                \n",
       "                <tr>\n",
       "                  \n",
       "                  <td>awaited film year three half years hibernation rajini acted movie hype film toooooo high typical rajini film film gives spiritual messages also also includes typical rajini actions style songs etc good entertaining movie gives good messages also rate movie good instead excellent screenplay must watch movie dont miss</td>\n",
       "                  \n",
       "                  <td>[9999, 2, 161, 172, 200, 58, 9999, 9999, 765, 1, 3212, 2, 9999, 193, 648, 9999, 2, 2, 283, 3396, 3273, 17, 17, 1522, 648, 9999, 1561, 277, 548, 388, 5, 318, 1, 283, 5, 3273, 17, 811, 1, 5, 188, 202, 729, 100, 28, 1, 5240, 569]</td>\n",
       "                  \n",
       "                </tr>\n",
       "                \n",
       "                <tr>\n",
       "                  \n",
       "                  <td>personally film goes top four time exceptions james cameron proved time time master storyteller films aliens abyss terminators clear brilliant confidant director far action science fiction goes sees story adds strange quality film titanic much different strokes brilliance film exceptionally moving allows room surprises plot development interesting character developments story everyone knows story famed voyager sinking maiden voyage legend challenge cameron make truthful interesting entertaining film acting wonderful leonardo dicaprio plays jack kate winslet plays rose became superstars overnight release film films get annoyed supporting characters given lot film purposeful elderly rose gloria stuart tells story quickly apparent rose jack story alone one else emotionally entirely satisfying leave dry eye theater home music become iconic legendary composer james horner finest soundtrack ever evokes much film audience song long become annoying still appreciate phenomenon film one problem usual james cameron problem dialogue memorable bad way cheesy points aside james cameron delivered masterpiece romantic epic sweeps away journey lifetime heart go one</td>\n",
       "                  \n",
       "                  <td>[1116, 2, 153, 227, 545, 6, 5424, 439, 3443, 1921, 6, 6, 1100, 9999, 30, 2326, 9999, 9999, 641, 395, 9999, 60, 119, 97, 911, 1052, 153, 930, 9, 1454, 537, 357, 2, 2409, 13, 158, 9999, 3304, 2, 4628, 584, 1899, 524, 2283, 34, 787, 111, 27, 8339, 9, 180, 553, 9, 7328, 7120, 6139, 8983, 6305, 1611, 2735, 3443, 22, 8824, 111, 318, 2, 35, 265, 9999, 9999, 181, 539, 1617, 9554, 181, 1960, 728, 9999, 9363, 620, 2, 30, 14, 3049, 555, 26, 228, 72, 2, 9999, 3546, 1960, 6746, 4910, 570, 9, 789, 1570, 1960, 539, 9, 446, 3, 209, 1976, 938, 2171, 424, 2065, 590, 602, 223, 115, 288, 5358, 2384, 4830, 439, 9999, 1721, 663, 42, 7322, 13, 2, 185, 471, 91, 288, 477, 46, 990, 5471, 2, 3, 312, 502, 439, 3443, 312, 289, 754, 15, 21, 798, 613, 1055, 439, 3443, 1966, 835, 583, 1535, 9999, 133, 1127, 2459, 345, 50, 3]</td>\n",
       "                  \n",
       "                </tr>\n",
       "                \n",
       "                <tr>\n",
       "                  \n",
       "                  <td>definitely one favourite movies story good acting great technicals especially cinematography sharp script clever heath ledger terrific edward ned kelly gripping legendary outlaw supported well geoffrey rush naomi watts orlando bloom action sequences pointthe film edge seat stuff right end one favourite films late legend heath ledger highlight every film starred makes mistake excellent film round</td>\n",
       "                  \n",
       "                  <td>[282, 3, 1486, 24, 9, 5, 35, 19, 9999, 145, 491, 2259, 118, 936, 6982, 8491, 1147, 2276, 2526, 1158, 2949, 2384, 8306, 4880, 12, 7981, 3123, 9999, 9999, 8322, 5875, 97, 696, 9999, 2, 1121, 2046, 404, 98, 45, 3, 1486, 30, 389, 1611, 6982, 8491, 2302, 73, 2, 2506, 67, 1162, 202, 2, 1961]</td>\n",
       "                  \n",
       "                </tr>\n",
       "                \n",
       "                <tr>\n",
       "                  \n",
       "                  <td>rather surprised reviewer far commented rather elementary chess blunder luzhin game white unnamed opponent immediately final despite use jonathan speelman consultant chess expert luzhin shown winning game illegal move rapid cuts away back board hard spot luzhin combination culminating queen sacrifice rook still pinned black rook c king corner h thus unable play purported mating move rd would illegal shown rapturous applause audience</td>\n",
       "                  \n",
       "                  <td>[136, 625, 1986, 119, 4117, 136, 9741, 4275, 9999, 7421, 361, 301, 9720, 9716, 1078, 344, 335, 239, 4136, 9999, 9999, 4275, 2590, 7421, 480, 1413, 361, 4480, 698, 6753, 1750, 133, 52, 1912, 140, 1301, 7421, 2060, 9717, 1420, 3361, 9999, 46, 9999, 206, 9999, 792, 475, 2905, 1654, 1188, 1938, 177, 9999, 9999, 698, 3446, 8, 4480, 480, 9999, 8402, 185]</td>\n",
       "                  \n",
       "                </tr>\n",
       "                \n",
       "                <tr>\n",
       "                  \n",
       "                  <td>watched film noticed kari wuhrer cast long theory talented actress never seems get prove always sort low budget b movie still beautiful still trying act unfortunate material always see different film often ugly disturbing make good george wendt played type jarring gets recognition role another note ms wuhrer breasts seem shrunk markedly since saw last perhaps reduction surgery likely removal implants bad thing still looks great would like see better movie</td>\n",
       "                  \n",
       "                  <td>[178, 2, 1766, 9999, 9999, 75, 91, 2390, 865, 383, 36, 82, 14, 1813, 102, 305, 241, 230, 350, 1, 46, 190, 46, 151, 375, 2237, 670, 102, 11, 158, 2, 275, 1390, 1032, 22, 5, 578, 9964, 142, 416, 6082, 105, 4477, 108, 62, 705, 1403, 9999, 3336, 191, 9999, 9999, 126, 109, 124, 259, 9999, 5606, 1173, 9999, 9999, 15, 56, 46, 155, 19, 8, 4, 11, 44, 1]</td>\n",
       "                  \n",
       "                </tr>\n",
       "                \n",
       "                <tr>\n",
       "                  \n",
       "                  <td>many minutes take paint poem film much long tells story impact first love two schoolboys boys withhold touching making love one gets distracted brief encounter sensual guy disco raises doubt exploration fantasy longing lust feelings loosing grip love themes extensively painted music close ups silent scenes like telling poem really takes long annoying long shame effort promising</td>\n",
       "                  \n",
       "                  <td>[32, 121, 88, 2389, 4672, 2, 13, 91, 570, 9, 1319, 18, 37, 29, 9999, 826, 9999, 1142, 120, 37, 3, 105, 6837, 1265, 2612, 7815, 117, 7253, 5051, 673, 4394, 779, 6386, 3858, 1262, 9999, 6861, 37, 1169, 9999, 4051, 115, 358, 1810, 1126, 49, 4, 833, 4672, 10, 187, 91, 477, 91, 748, 634, 2247]</td>\n",
       "                  \n",
       "                </tr>\n",
       "                \n",
       "                <tr>\n",
       "                  \n",
       "                  <td>well endless quest horror come across film apparently released dvd recently ungodly reason transfer awful quality sucks think due bad remaster anything think film poorly done obviously filmed abandoned school budget doubt wasted cheap beer talent hacks slaughter high starts slow pick pace hour first get see nerd picked group actually even know supposed jocks ringleader ultra hooknose ugly definitely cast nerd big guy couple dumb losers chicks supposed hot mystery group rejects picking one guess viewer assume cool kids picking dweeb casting choices horrendous high schoolers played thirty somethings reviewers pointed actors call bunch brits whose accents slip numerous times throughout piece crap left assume group children students school reunion school shown abandoned kills lame gore great script like scooby doo real people lines like place gives creeps someone gimme beer highlights good skip one unless getting wasted friends wanna laugh real lame attempt slasher wanna see good get bava bay blood done years earlier heck lot better wanna see good bad slasher see dawn burning kids</td>\n",
       "                  \n",
       "                  <td>[12, 2028, 2512, 84, 107, 499, 2, 544, 488, 163, 876, 9999, 169, 4287, 249, 357, 1714, 25, 547, 15, 9999, 123, 25, 2, 712, 113, 405, 664, 2457, 263, 230, 673, 897, 565, 3444, 530, 9999, 4552, 193, 382, 413, 1103, 908, 398, 18, 14, 11, 4809, 1480, 459, 66, 7, 41, 298, 9999, 9999, 3103, 9999, 1390, 282, 75, 4809, 89, 117, 250, 841, 4583, 4543, 298, 735, 588, 459, 6878, 3484, 3, 353, 369, 2079, 500, 229, 3484, 9999, 820, 2658, 3224, 193, 9999, 142, 3093, 7382, 1798, 3203, 59, 541, 615, 9058, 486, 2289, 6382, 1786, 103, 337, 292, 454, 196, 2079, 459, 299, 1362, 263, 2945, 263, 480, 2457, 942, 685, 456, 19, 118, 4, 3196, 3462, 53, 16, 287, 4, 156, 283, 9056, 166, 9999, 3444, 3397, 5, 1589, 3, 744, 271, 897, 243, 2839, 332, 53, 685, 451, 1018, 2839, 11, 5, 14, 9601, 4528, 400, 113, 58, 759, 2133, 72, 44, 2839, 11, 5, 15, 1018, 11, 3194, 3039, 229]</td>\n",
       "                  \n",
       "                </tr>\n",
       "                \n",
       "                <tr>\n",
       "                  \n",
       "                  <td>poor ivy though manner born bad luck marry charming wastrel richard ney movie set rigid victorian ideas class starting fray edges uncertain status vexes unduly gretorexes called know next shilling coming yachting parties fancy dress balls posh pleasaunces aplenty tempt ivy joan fontaine makes acquaintance wealthy older gent herbert marshall must born middle aged sets one extravant chapeaux luckily one beaux still strings along patric knowles physician whose consulting rooms provide cache poison bids hubby farewell fact implicates knowles phase bit even hours trickle hanged neck dead turning plot depends police inspector sir cedric hardwicke knowles mother redoubtable lucile watson knowles loyal housekeeper una connor sam wood adds subtle touches well average melodrama fontaine luminous face supplies rest</td>\n",
       "                  \n",
       "                  <td>[218, 9954, 55, 1209, 1288, 15, 1831, 2103, 1062, 9999, 592, 9999, 1, 152, 9406, 6143, 857, 563, 1704, 9999, 7871, 8056, 2516, 9999, 9999, 9999, 320, 41, 252, 9999, 445, 9999, 4609, 3549, 2534, 4388, 8346, 9999, 9999, 9999, 9954, 1608, 5350, 67, 9999, 2901, 770, 9999, 6509, 4943, 100, 1288, 513, 2038, 585, 3, 9999, 9999, 3294, 3, 9999, 46, 5617, 246, 9999, 9999, 9999, 486, 9999, 4134, 1586, 9999, 5012, 9999, 9196, 8832, 87, 9999, 9999, 6646, 116, 7, 492, 9999, 9999, 3099, 221, 1432, 34, 5592, 427, 2769, 2491, 7398, 9999, 9999, 296, 9999, 9999, 4690, 9999, 4118, 9999, 9999, 6287, 1092, 1780, 1454, 1145, 2253, 12, 701, 2438, 5350, 9999, 267, 9449, 240]</td>\n",
       "                  \n",
       "                </tr>\n",
       "                \n",
       "                <tr>\n",
       "                  \n",
       "                  <td>really love movie saw last week years movie perfect great acting great story great directing camera work music gift show someone love bad jaco van dormael make movies one top work really today years days later comment never posted lines anyway saw le huitieme jour yesterday doubt movie top together cinema paradiso also masterpiece soundtrack also really good really curious jaco von dormael new movie hope complete movie top see movie rent even better buy want see</td>\n",
       "                  \n",
       "                  <td>[10, 37, 1, 109, 124, 1084, 58, 1, 278, 19, 35, 19, 9, 19, 784, 245, 61, 115, 3277, 40, 166, 37, 15, 9999, 1009, 9999, 22, 24, 3, 227, 61, 10, 377, 58, 367, 184, 775, 36, 5379, 287, 418, 109, 3059, 9999, 9999, 3631, 673, 1, 227, 176, 302, 9999, 17, 835, 663, 17, 10, 5, 10, 1837, 9999, 2501, 9999, 63, 1, 316, 458, 1, 227, 11, 1, 703, 7, 44, 665, 78, 11]</td>\n",
       "                  \n",
       "                </tr>\n",
       "                \n",
       "                <tr>\n",
       "                  \n",
       "                  <td>never seen many online movies life pick pick spatula madness clever reference movies like star trooper etc using camera wits steel jason steele mastered art turning normal image painting putting together frame frame animation get world inhabited spatulas story begins middle hows directors delight middle beginning first watched expected soggy pixely look jason like loves looks took every detail max although recommend children would anybody besides like please search net short film look film cow style reminds south park less violent look laughs story comes good workjason steele anxious see movie</td>\n",
       "                  \n",
       "                  <td>[36, 31, 32, 4510, 24, 33, 1103, 1103, 9999, 2786, 936, 2728, 24, 4, 201, 9999, 388, 624, 245, 9061, 4284, 1482, 5468, 9999, 359, 1432, 1090, 1304, 3187, 1333, 176, 1948, 1948, 603, 14, 74, 8940, 9999, 9, 630, 513, 9999, 743, 2848, 513, 326, 18, 178, 722, 9999, 9999, 68, 1482, 4, 1233, 155, 426, 73, 1426, 2183, 144, 261, 299, 8, 1566, 1213, 4, 452, 1628, 5380, 226, 2, 68, 2, 7005, 277, 1633, 1061, 1330, 208, 954, 68, 766, 9, 149, 5, 9999, 5468, 6761, 11, 1]</td>\n",
       "                  \n",
       "                </tr>\n",
       "                \n",
       "                <tr>\n",
       "                  \n",
       "                  <td>since spongebob squarepants seen greater cartoon tv colors great voices could better characters original great great cartoon hope nickolodean continues develop cartoon hope season dvd comes soon love cartoons like hope people tune se great cartoon hard find season dvd somebody finds store selling please let know catscratch merchandise available nick shop great lookin shirt expensive love spongebob love catscratch</td>\n",
       "                  \n",
       "                  <td>[126, 9999, 9999, 31, 2632, 915, 132, 2324, 19, 2160, 23, 44, 26, 96, 19, 19, 915, 316, 9999, 1841, 1900, 915, 316, 653, 163, 149, 381, 37, 2270, 4, 316, 16, 3029, 5705, 19, 915, 140, 69, 653, 163, 1627, 520, 962, 3300, 452, 164, 41, 9999, 9999, 1282, 1652, 1827, 19, 9999, 3578, 3118, 37, 9999, 37, 9999]</td>\n",
       "                  \n",
       "                </tr>\n",
       "                \n",
       "                <tr>\n",
       "                  \n",
       "                  <td>iran women officially banned men sporting events june iran national soccer team important game bahrain azadi stadium qualification world cup group iranian girls lovers soccer dresses like boys unsuccessfully attempts enter stadium arrested soccer flamengo team beach movies greatest passions therefore loved little gem group girls passion soccer director jafar panahi white balloon mirror circle shot movie day iran defeated bahrain qualified world cup germany dramatic funny adventure iranian girls one delightful movies ever seen vote nine title brazil available</td>\n",
       "                  \n",
       "                  <td>[4378, 235, 8025, 3846, 215, 7676, 546, 4479, 4378, 1884, 4094, 605, 532, 361, 9999, 9999, 7176, 9999, 74, 3419, 459, 6973, 390, 1659, 4094, 5170, 4, 826, 9999, 870, 2349, 7176, 3366, 4094, 9999, 605, 2407, 24, 682, 8923, 1466, 322, 38, 1367, 459, 390, 1638, 4094, 60, 9999, 8021, 301, 8844, 2699, 4032, 204, 1, 135, 4378, 5576, 9999, 9932, 74, 3419, 2094, 753, 65, 979, 6973, 390, 3, 1755, 24, 42, 31, 2127, 2791, 300, 3642, 1282]</td>\n",
       "                  \n",
       "                </tr>\n",
       "                \n",
       "                <tr>\n",
       "                  \n",
       "                  <td>moonstruck lovely little film directed superb story teller norman jewison heat night fiddler roof hurricane film great many levels shows good slice italian culture touching romance best hilarious comedy one thing liked film relative unconventional looks actors nicolas cage looks positively odd film cher well cher always looks little odd overall fun film easy recommend</td>\n",
       "                  \n",
       "                  <td>[8488, 1166, 38, 2, 392, 747, 9, 9999, 3360, 9999, 3340, 192, 9999, 5111, 9999, 2, 19, 32, 2026, 171, 5, 4925, 949, 1008, 1142, 731, 39, 497, 101, 3, 56, 297, 2, 3371, 7624, 155, 59, 5362, 1642, 155, 5255, 873, 2, 5585, 12, 5585, 102, 155, 38, 873, 319, 138, 2, 623, 261]</td>\n",
       "                  \n",
       "                </tr>\n",
       "                \n",
       "                <tr>\n",
       "                  \n",
       "                  <td>pieced edited together dead body parts deleted scenes corpses anchorman frankenstein monster wake ron burgundy definitely sight sore eyes something ever want watch twice maybe even matter often relativity scenes wurb made relevant third person narrator even troubling characters wurb inconsistent versions end anchorman opening narration told wurb takes place shortly original end anchorman burgundy grown since start film embraced hybrid co anchorwoman lover film back immature antics prank phone calls veronica quite clearly scenes original anchorman spliced wurb part makes movie continually evolving story involves bank robbing clan without cause called alarm clock scenes almost painful sit part scrapped original scripts anchorman majority scenes involving channel news team clearly alternate deleted takes scenes anchorman go party original original group bitching woman team scene cat fashion show segment veronica objections reporting burgundy creates first date drive spot overlooking san diego dinner favorite club tinos neither character make mention drive spot burgundy walks tinos veronica introduces though never oh wearing clothes original date still give credit filmmakers even wurb nothing clever way presenting deleted scenes tied together narration two ron burgundy stories weaker one looking back quite feat anchorman risen ashes wurb stay classy imdb thanks stopping</td>\n",
       "                  \n",
       "                  <td>[9999, 1834, 176, 221, 498, 397, 5310, 49, 5296, 9199, 4392, 771, 3113, 2514, 9999, 282, 1514, 8573, 387, 51, 42, 78, 28, 1283, 165, 7, 415, 275, 9999, 49, 9999, 20, 3247, 688, 280, 3407, 7, 9999, 26, 9999, 5326, 1897, 45, 9199, 494, 2383, 442, 9999, 187, 156, 3486, 96, 45, 9199, 9999, 1898, 126, 255, 2, 9999, 6375, 846, 9999, 1254, 2, 52, 5630, 3709, 7960, 1520, 1846, 9512, 77, 556, 49, 96, 9199, 9735, 9999, 71, 67, 1, 5692, 9999, 9, 2121, 1815, 8453, 5499, 99, 933, 320, 7860, 4262, 49, 110, 1193, 718, 71, 9999, 96, 2997, 9199, 1999, 49, 1074, 1119, 1476, 605, 556, 4566, 5310, 187, 49, 9199, 50, 909, 96, 96, 459, 9999, 130, 605, 48, 912, 1440, 40, 1888, 9512, 9999, 9999, 9999, 1953, 18, 1137, 1113, 1301, 9999, 2482, 7192, 2884, 379, 1146, 9999, 929, 27, 22, 616, 1113, 1301, 9999, 2198, 9999, 9512, 4155, 55, 36, 313, 1498, 1487, 96, 1137, 46, 95, 940, 889, 7, 9999, 64, 936, 21, 5059, 5310, 49, 2974, 176, 2383, 29, 2514, 9999, 401, 5943, 3, 150, 52, 77, 5677, 9199, 9999, 9999, 9999, 640, 6267, 723, 1060, 5392]</td>\n",
       "                  \n",
       "                </tr>\n",
       "                \n",
       "                <tr>\n",
       "                  \n",
       "                  <td>saw movie years ago memory still haunts day fully aware awful supposed going blame like believe negativity sandler fan seemed inconceivable one movies could really bad figured sandler haters wrong comedy contain even second anything funny actually quite accomplish think minute comedy might accidentally stumbled upon something even remotely amusing horrible bad good bad cannot laugh bad cry wait patiently joke least make chuckle never come seen movie ring people watch video tape die days later movie video tape people would die instantly hand would smile face realize agony ended would first smile since pressed play might inclined watch see bad unable curb curiosity please trust favor types people world think going overboard worst movie ever made yet seen</td>\n",
       "                  \n",
       "                  <td>[109, 1, 58, 460, 1584, 46, 9999, 135, 1161, 1729, 249, 298, 70, 1665, 4, 147, 9999, 2634, 214, 336, 9999, 3, 24, 23, 10, 15, 2460, 2634, 9999, 234, 101, 2865, 7, 213, 123, 65, 66, 77, 5079, 25, 639, 101, 125, 2321, 5014, 580, 51, 7, 2434, 985, 393, 15, 5, 15, 429, 332, 15, 1246, 704, 9999, 817, 112, 22, 5338, 36, 107, 31, 1, 1559, 16, 28, 248, 2030, 632, 367, 184, 1, 248, 2030, 16, 8, 632, 3319, 372, 8, 1673, 267, 773, 6806, 899, 8, 18, 1673, 126, 7180, 177, 125, 7685, 28, 11, 15, 1938, 9999, 3422, 452, 1519, 1917, 1937, 16, 74, 25, 70, 6503, 137, 1, 42, 20, 134, 31]</td>\n",
       "                  \n",
       "                </tr>\n",
       "                \n",
       "                <tr>\n",
       "                  \n",
       "                  <td>first clue bad going video case said people brought us blair witch project masterpiece comparison piece garbage acting caliber th grade production oklahoma plot predictable boring inane script four letter words innumerable variations mother f seems writer favorite used constantly must taken minutes write script dive last call thank god rented could jump fast forward waste time money</td>\n",
       "                  \n",
       "                  <td>[18, 2118, 15, 70, 248, 294, 186, 16, 689, 76, 2717, 1518, 1012, 835, 1905, 292, 1088, 35, 4742, 683, 1081, 242, 9999, 34, 582, 237, 4306, 118, 545, 3125, 568, 9999, 9384, 296, 937, 82, 408, 379, 222, 1194, 100, 487, 121, 750, 118, 8375, 124, 541, 1125, 391, 1457, 23, 1616, 560, 776, 310, 6, 160]</td>\n",
       "                  \n",
       "                </tr>\n",
       "                \n",
       "                <tr>\n",
       "                  \n",
       "                  <td>seen movie years still haunts asked favorite films one seem always mention first certain films works art like film dark city breaking waves seem touch place within place protected hidden yet sensitive make lifelong impression viewer unlike life changing event ending serious relationship death friend film shook first saw left emotional hangover lasted several days</td>\n",
       "                  \n",
       "                  <td>[31, 1, 58, 46, 9999, 1645, 379, 30, 3, 191, 102, 616, 18, 662, 30, 364, 359, 4, 2, 331, 396, 2059, 4386, 191, 1058, 156, 599, 156, 9999, 1439, 134, 2541, 22, 9946, 1229, 369, 866, 33, 2366, 1321, 162, 483, 501, 216, 317, 2, 9999, 18, 109, 196, 767, 9999, 4156, 324, 367]</td>\n",
       "                  \n",
       "                </tr>\n",
       "                \n",
       "                <tr>\n",
       "                  \n",
       "                  <td>movie barely rates movie fans period almost must see rates variety show drawn watch presence richard captain midnight webb plays colonel charge event surprised stunning performance doris day outside calamity jane never seen put song better randolph scott memorable well even see much screen time since saw movie almost sure humphrey bogart put appearance many familiar faces hard keep track ever turns tv station near sure catch doris day sequence nothing else</td>\n",
       "                  \n",
       "                  <td>[1, 1038, 5005, 1, 323, 659, 110, 100, 11, 5005, 2393, 40, 1159, 28, 1208, 592, 1497, 2573, 9999, 181, 3914, 2697, 1321, 625, 1231, 127, 8528, 135, 854, 9999, 768, 36, 31, 159, 471, 44, 5813, 869, 754, 12, 7, 11, 13, 148, 6, 126, 109, 1, 110, 139, 9999, 6501, 159, 1105, 32, 925, 1428, 140, 276, 1249, 42, 374, 132, 1521, 604, 139, 1114, 8528, 135, 574, 64, 209]</td>\n",
       "                  \n",
       "                </tr>\n",
       "                \n",
       "                <tr>\n",
       "                  \n",
       "                  <td>basic slasher movie premise young ladies wreck car end staying creepy family yawn watching minutes premonition oj car chase white sedan instead bronco yawn old lady hot cold dementia controlling daughter yawn minutes watching actors eat yawn trying identify heck eating ok might drinking game nope yawn complimentary shower scenes ok got interest couple seconds completely random uninspired killings yawn ending dude psycho deranged rest movie like last minutes unfortunately advice fast forward last five minutes watch put something good player going back sleep</td>\n",
       "                  \n",
       "                  <td>[961, 1018, 1, 713, 81, 1646, 3344, 380, 45, 3810, 791, 106, 5467, 54, 121, 9999, 9999, 380, 1132, 301, 9999, 188, 9999, 5467, 57, 591, 735, 883, 9999, 6647, 412, 5467, 121, 54, 59, 1748, 5467, 151, 3289, 2133, 1725, 469, 125, 2610, 361, 5695, 5467, 9999, 2820, 49, 469, 85, 461, 250, 1414, 220, 1368, 3463, 3254, 5467, 162, 2513, 1935, 5045, 240, 1, 4, 124, 121, 340, 1855, 560, 776, 124, 531, 121, 28, 159, 51, 5, 1623, 70, 52, 1506]</td>\n",
       "                  \n",
       "                </tr>\n",
       "                \n",
       "                <tr>\n",
       "                  \n",
       "                  <td>young kevin gets boat dead uncle gift invites five friends trip catalina island weekend journey drink booze sex play games one telling greatest fear later kevin drowns open sea engine stops haunted murdered greatest innermost fear yesterday wife son daughter three friends joined watch haunted boat dvd less minutes running time group gave watching messy boring amateurish piece crap decided see another film later decided watch rest flick see bad could would better going bed sleep confused story awful cinematography camera work cast probably studying actors actresses end film seems bad project cinema school terrible pretentious screenplay shows ridiculous twist end actually complete mess made understand story girl insane traveled alone boat imagining whole situation imaginary friends true friend end fruit madness vote one title brazil viagem para morte trip death</td>\n",
       "                  \n",
       "                  <td>[81, 1677, 105, 1890, 221, 1468, 3277, 5162, 531, 243, 1013, 9999, 932, 2248, 1127, 2984, 9388, 257, 177, 1443, 3, 833, 682, 927, 184, 1677, 9999, 756, 1820, 7266, 2840, 2164, 1845, 682, 9999, 927, 3631, 195, 339, 412, 172, 243, 4482, 28, 2164, 1890, 163, 208, 121, 482, 6, 459, 386, 54, 5707, 237, 2176, 292, 454, 721, 11, 62, 2, 184, 721, 28, 240, 371, 11, 15, 23, 8, 44, 70, 1292, 1506, 1308, 9, 249, 491, 245, 61, 75, 129, 5433, 59, 1332, 45, 2, 82, 15, 1012, 302, 263, 269, 1789, 729, 171, 505, 845, 45, 66, 458, 788, 20, 268, 9, 128, 1975, 8733, 446, 1890, 7183, 114, 751, 7071, 243, 167, 317, 45, 7065, 2786, 2127, 3, 300, 3642, 9999, 9999, 9999, 1013, 216]</td>\n",
       "                  \n",
       "                </tr>\n",
       "                \n",
       "                <tr>\n",
       "                  \n",
       "                  <td>absolutely loved movie kid cried every time watched weird totally identified characters would love see hope wont disappointed pufnstuf rocks really drawn fantasy world movie loooong wonder ever saw series confused acting thought strong loved jack wilde dreamy year old first saw movie still remember characters vividly flute totally believable still feel evil woods witchy poo scary want cross path</td>\n",
       "                  \n",
       "                  <td>[303, 322, 1, 394, 3595, 73, 6, 178, 757, 354, 8289, 26, 8, 37, 11, 316, 4089, 543, 9999, 3157, 10, 1159, 779, 74, 1, 9999, 455, 42, 109, 93, 1308, 35, 92, 428, 322, 539, 9999, 6965, 161, 57, 18, 109, 1, 46, 253, 26, 6089, 9999, 354, 715, 46, 122, 315, 1245, 9999, 9021, 484, 78, 1503, 2345]</td>\n",
       "                  \n",
       "                </tr>\n",
       "                \n",
       "                <tr>\n",
       "                  \n",
       "                  <td>sammo great early comedy films parody enter dragon main character sammo obsessed bruce lee emulates freakishly well man size nominal story fighting keeps causing loved ones trouble fighting oh fighting good fast paced scenes high impact white guy plays boxer looks like really gets hurt one sammo kicks funniest bit movie purely unintentional jim kelly looking guy one three experts hired take sammo chinese guy blackface afro wig come real black people hong kong well guess seen enough white fake hell chinese people old american movies one sammo bruce lee fan</td>\n",
       "                  \n",
       "                  <td>[6579, 19, 273, 101, 30, 1947, 2349, 2480, 175, 27, 6579, 2024, 1269, 614, 9999, 9999, 12, 43, 3391, 9999, 9, 843, 786, 3875, 322, 517, 957, 843, 313, 843, 5, 560, 1614, 49, 193, 1319, 301, 117, 181, 5213, 155, 4, 10, 105, 1296, 3, 6579, 3236, 1377, 116, 1, 2684, 3857, 1025, 1158, 150, 117, 3, 172, 7794, 2447, 88, 6579, 1456, 117, 9999, 9999, 5619, 107, 53, 206, 16, 2400, 1781, 12, 353, 31, 90, 301, 1057, 465, 1456, 16, 57, 179, 24, 3, 6579, 1269, 614, 214]</td>\n",
       "                  \n",
       "                </tr>\n",
       "                \n",
       "                <tr>\n",
       "                  \n",
       "                  <td>real weirdo starts another take psycho shower scene campus gets crazier several coeds doofy boyfriends head south spring break trouble starts drive redneck county ruled homicidal sheriff dean one college cuties wanders woods witnesses murder sheriff head blown open lets rip macon county line time dean stalks traps slaughters witless witnesses one one tony march target evil shotgun happy dean movie overall tone truly disturbing ending abrupt almost think director ran film also study despair shallow grave must misanthropes misogynists nihilists world</td>\n",
       "                  \n",
       "                  <td>[53, 9303, 382, 62, 88, 1935, 2820, 48, 6885, 105, 9999, 324, 9999, 9999, 9014, 290, 1061, 3423, 838, 957, 382, 1113, 6996, 6962, 7546, 7189, 1963, 2445, 3, 1006, 9999, 5730, 1245, 4537, 443, 1963, 290, 2496, 756, 1469, 1515, 9999, 6962, 224, 6, 2445, 8922, 7036, 9999, 9200, 4537, 3, 3, 955, 4019, 2218, 315, 7089, 504, 2445, 1, 319, 1000, 247, 1032, 162, 5271, 110, 25, 60, 1993, 2, 17, 1914, 4631, 1854, 2433, 100, 9999, 9999, 9999, 74]</td>\n",
       "                  \n",
       "                </tr>\n",
       "                \n",
       "                <tr>\n",
       "                  \n",
       "                  <td>watched movie preview matthew barney art exhibit certainly prepared almost skipped exhibit retrospect probably aside score great bjork photography rich colorful content mostly tedious predictable gee really needed see someone wearing pearls figure pearl divers film mostly silly mixture japanese cultural references industrial shots modern whaling technology used mock hunt harvest film peaks enough gratuitous shock art turn stomach point movie others might argue anti whaling piece one could equally argue somehow also justifies whaling personally think barney attempt flashing audience anal fecal self mutilation cannibalistic fetishes bottom line unless really get barney sense art bother seeing movie message obscure pace slow cultural references pretentious shock art better one many undead movies hunting old copy hustler taking fecal cartoon</td>\n",
       "                  \n",
       "                  <td>[178, 1, 4212, 3661, 7094, 359, 9402, 308, 2656, 110, 9612, 9402, 9633, 129, 1055, 463, 19, 9999, 1223, 863, 3037, 1344, 527, 2162, 582, 8545, 10, 740, 11, 166, 1498, 9999, 671, 4337, 9999, 2, 527, 566, 4018, 711, 2497, 1925, 5173, 522, 533, 9999, 1949, 222, 6935, 2131, 9999, 2, 8273, 90, 2012, 1290, 359, 338, 2712, 104, 1, 281, 125, 3778, 1046, 9999, 292, 3, 23, 1150, 3778, 675, 17, 9999, 9999, 1116, 25, 7094, 451, 7557, 185, 9999, 9999, 399, 9999, 9999, 9999, 1176, 224, 744, 10, 14, 7094, 168, 359, 1263, 199, 1, 601, 3552, 908, 413, 2497, 1925, 1789, 1290, 359, 44, 3, 32, 5819, 24, 3050, 57, 879, 8542, 514, 9999, 915]</td>\n",
       "                  \n",
       "                </tr>\n",
       "                \n",
       "                <tr>\n",
       "                  \n",
       "                  <td>sit never stand mother one title says son tells get rest widowed means resting woman age situation rest peace neglect mood resting yet also daughter reproaches every disasters life suddenly revelation comes sex passion figure muscular carpenter years younger daniel craig brand new james bond thought nobody would ever touch story makes reflect many things specially something woman supposed life husband dies look advanced aspects mean nobody surprised sean connery love affair movie catherine zeta jones would think otherwise old woman young guy nah ready movie intimist tones along length except sequences tones breaks comes explicit foul mouthed dialogs vulgar touches way son daughter find mother love affair pretty absurd know mean watch discordant elements mother rate</td>\n",
       "                  \n",
       "                  <td>[718, 36, 611, 296, 3, 300, 423, 339, 570, 14, 240, 7050, 669, 9999, 130, 417, 751, 240, 2269, 8876, 1149, 9999, 134, 17, 412, 9999, 73, 8684, 33, 924, 3227, 149, 257, 1638, 671, 8722, 2799, 58, 996, 2010, 3474, 3207, 63, 439, 1442, 92, 1104, 8, 42, 1058, 9, 67, 4395, 32, 79, 4680, 51, 130, 298, 33, 464, 1285, 68, 4476, 1253, 258, 1104, 625, 1829, 4347, 37, 1423, 1, 3074, 8398, 1226, 8, 25, 749, 57, 130, 81, 117, 9999, 1460, 1, 9999, 7323, 246, 1461, 414, 696, 7323, 1859, 149, 3551, 3780, 6511, 3088, 5035, 2253, 21, 339, 412, 69, 296, 37, 1423, 80, 1585, 41, 258, 28, 9999, 646, 296, 811]</td>\n",
       "                  \n",
       "                </tr>\n",
       "                \n",
       "                <tr>\n",
       "                  \n",
       "                  <td>yes another great magical muppet movie adore characters movies tv show episodes best comedy musical tv show ever artists behind rare fatal mistake surely talking weird ending think dangerous involve much american drama end love affair marriage poor viewers feel free maybe happy absence annoyance peevishness misery enjoy stories gather cute heroes couple love without legitimate bond like mickey mouse minnie superman lois lane dick tracy tess etc previous couples likes bet feel safe serenity peace therefore look makers movie already done mad made weak miserable creature kermit marry daily nightmare vexatious female ever miss piggy historical change measures american entertainment industry pretty normal negative impact upon audience refused bless believe satisfied sudden marriage even pathetic frog time proper opportunity think decide anything therefore wonder know movie failure one cinematic serious grossing millions vis vis millions earned first one muppet movie five years earlier simply movie took manhattan rest</td>\n",
       "                  \n",
       "                  <td>[293, 62, 19, 2368, 5308, 1, 6262, 26, 24, 132, 40, 528, 39, 101, 481, 132, 40, 42, 2519, 362, 1120, 3412, 1162, 1190, 515, 757, 162, 25, 1656, 4143, 13, 179, 325, 45, 37, 1423, 1192, 218, 644, 122, 727, 165, 504, 3644, 7912, 9999, 4407, 236, 401, 5043, 875, 1537, 250, 37, 99, 6694, 1442, 4, 3859, 2700, 9999, 1576, 5340, 2670, 1648, 2741, 7646, 388, 808, 4375, 1072, 1958, 122, 2090, 9999, 2269, 1466, 68, 1021, 1, 329, 113, 1001, 20, 668, 4110, 1444, 9547, 2103, 2760, 1533, 9999, 525, 42, 569, 9999, 1219, 509, 9820, 179, 571, 1429, 80, 1090, 1398, 1319, 580, 185, 5008, 8024, 147, 3918, 1929, 1192, 7, 1064, 6818, 6, 2072, 1270, 25, 1043, 123, 1466, 455, 41, 1, 1941, 3, 1201, 483, 9999, 2962, 9999, 9999, 2962, 4121, 18, 3, 5308, 1, 531, 58, 759, 211, 1, 426, 3498, 240]</td>\n",
       "                  \n",
       "                </tr>\n",
       "                \n",
       "                <tr>\n",
       "                  \n",
       "                  <td>youth pastor heard good things movie watched acting best forgivable message give jesus life everything change tackle better make amazing catches stop fumbling start making touchdown passes even make playoffs jesus magically turns horrible undersized weaklings american athletes laughed loud coach quoted scripture explain kicker missing field goals wait get brand new truck raise wife struggle infertility suddenly end pregnancy twice win state championship god helps weakling kick winning field goal yards ever kicked wind less god wanted make win state championship next year none good stuff would happened team chosen follow jesus hearts took away movie god anything wants whenever wants making lives better easier enjoyable chooses favorite team helps win games bible story based bet saint stephen wished known keys safe life stoned death someone made movie apostles killed following jesus would saved lot trouble</td>\n",
       "                  \n",
       "                  <td>[1739, 9999, 422, 5, 79, 1, 178, 35, 39, 9156, 601, 95, 1674, 33, 170, 509, 8001, 44, 22, 348, 3912, 432, 9999, 255, 120, 9999, 3932, 7, 22, 9999, 1674, 7354, 374, 393, 9999, 9999, 179, 9999, 1349, 1140, 4071, 9999, 9999, 1106, 9999, 858, 1666, 6393, 704, 14, 3207, 63, 2623, 2750, 195, 1492, 9999, 924, 45, 9999, 1283, 1015, 935, 4906, 391, 1369, 9999, 1819, 1413, 1666, 3163, 9999, 42, 4201, 1751, 208, 391, 341, 22, 1015, 935, 4906, 252, 161, 462, 5, 404, 8, 436, 605, 2047, 643, 1674, 3200, 426, 133, 1, 391, 123, 360, 1782, 360, 120, 327, 44, 3256, 594, 4703, 379, 605, 1369, 1015, 1443, 3219, 9, 321, 1958, 5112, 1495, 4286, 434, 6705, 2090, 33, 7837, 216, 166, 20, 1, 9999, 421, 892, 1674, 8, 1735, 72, 957]</td>\n",
       "                  \n",
       "                </tr>\n",
       "                \n",
       "                <tr>\n",
       "                  \n",
       "                  <td>kim novak witch prowl mortal lover james stewart choice scintillating comedy manners broadway stage shot james wong howe witch color performed sterling cast ernie kovacs wonderful perpetually dishevelled writer redlitch love movie though others seem kim alone makes winner book ha film</td>\n",
       "                  \n",
       "                  <td>[2235, 4657, 1518, 9999, 6680, 1254, 439, 1069, 947, 9999, 101, 6862, 1974, 710, 204, 439, 6167, 9999, 1518, 1241, 2387, 6952, 75, 7415, 9999, 265, 9999, 9999, 408, 9999, 37, 1, 55, 281, 191, 2235, 446, 67, 2048, 154, 2495, 2]</td>\n",
       "                  \n",
       "                </tr>\n",
       "                \n",
       "                <tr>\n",
       "                  \n",
       "                  <td>enjoyed movie kid came day still simple story involving search kidnapped girl adventurer literally straight paperback lore actors recognizable back day keep viewer giving whirl wayne crawford stars main character jake speed sure might bite certain elements romancing stone indiana jones movie done well enough keep cellar surprised many people know must overshadowed movies theaters back watched back cable tv might hard find since print vhs dvd managed get dvd ebay less bucks cool flick</td>\n",
       "                  \n",
       "                  <td>[376, 1, 394, 260, 135, 46, 467, 9, 1074, 1628, 3318, 128, 9999, 1067, 577, 9999, 9999, 59, 5475, 52, 135, 276, 369, 598, 9999, 2020, 4854, 256, 175, 27, 2817, 1923, 139, 125, 3696, 662, 646, 9999, 1386, 6405, 1226, 1, 113, 12, 90, 276, 9999, 625, 32, 16, 41, 100, 8108, 24, 2071, 52, 178, 52, 1719, 132, 125, 140, 69, 126, 2318, 1708, 163, 1164, 14, 163, 8397, 208, 3424, 500, 371]</td>\n",
       "                  \n",
       "                </tr>\n",
       "                \n",
       "                <tr>\n",
       "                  \n",
       "                  <td>remember watching disney version watching makes think somehow lost magic touch plenty renditions ever put aside cinderella fact lost touch throughout years found production flawless performance kathleen turner evil stepmother blown away phantasmagorical essence fantasy story cast spell since childhood know story cinderella young girl father died dominated wicked stepmother stepdaughters longs go ball one last chance freedom plot line takes different twist classic fairy tale causing cinderella whose real name zizola called cinderella family slavery trapped situation father still lives slowly losing dominant wife manipulates playing favorites wife step daughters tries poison thus zizola goes save father stopping stepmother finding another suitor ball distracting men come way bored prince valiant change heart dull life falls love mysterious lady strange dress forged water nymph named mab rose petals slippers drew film original take old fairy tale none compare weave web lies like cinderella stories ignore reason cinderella would want attend ball show shallow side prince disney version instead shows cinderella selfless heart production artwork simply stunning costumes beautifully made especially zizola sapphire blue ballgown match marcella plunkett fantastical beauty soft spirit like voice would highly suggest film anyone interested dream like sequence classic fairy tale interesting twist problem producers director make full collection fairy tales element fact film print</td>\n",
       "                  \n",
       "                  <td>[253, 54, 678, 194, 54, 67, 25, 675, 285, 1070, 1058, 805, 9999, 42, 159, 1055, 2044, 87, 285, 1058, 337, 58, 143, 242, 3395, 127, 6942, 3479, 315, 7883, 2496, 133, 9999, 3146, 779, 9, 75, 3174, 126, 1385, 41, 9, 2044, 81, 128, 197, 974, 6064, 3583, 7883, 9999, 9999, 50, 1670, 3, 124, 440, 1973, 34, 224, 187, 158, 845, 232, 2193, 636, 3875, 2044, 486, 53, 274, 9999, 320, 2044, 106, 7377, 2454, 751, 197, 46, 327, 1202, 2143, 9999, 195, 9999, 270, 2465, 195, 1320, 2626, 366, 5012, 1188, 9999, 153, 468, 197, 5392, 7883, 1378, 62, 9999, 1670, 3877, 215, 107, 21, 941, 1624, 9999, 509, 345, 610, 33, 587, 37, 1234, 591, 537, 2534, 9999, 913, 9999, 627, 9999, 1960, 9999, 9999, 1956, 2, 96, 88, 57, 2193, 636, 462, 1501, 9999, 3680, 1667, 4, 2044, 401, 2581, 169, 2044, 8, 78, 4797, 1670, 40, 1854, 365, 1624, 678, 194, 188, 171, 2044, 9999, 345, 242, 5888, 211, 1231, 1187, 1139, 20, 145, 9999, 9999, 1154, 9999, 862, 9999, 9999, 9999, 772, 1634, 918, 4, 407, 8, 410, 1311, 2, 141, 778, 758, 4, 574, 232, 2193, 636, 111, 845, 312, 1016, 60, 22, 244, 1434, 2193, 2725, 1274, 87, 2, 2318]</td>\n",
       "                  \n",
       "                </tr>\n",
       "                \n",
       "                <tr>\n",
       "                  \n",
       "                  <td>seen film long time greatly enjoyed kim novak playing role gil holroyd actual witch aunt named queenie holroyd also witch gillian also brother warlock named nick played jack lemmon gillian sets eyes shep henderson james stewart engaged girl going marry gillian performers magic spells cat changes mind intended bride becomes lust full falls love gillian story tells real witch cannot fall love blush cry begins prove big problem shep gillian nick aunt queenie decided something situation great film view great classic film</td>\n",
       "                  \n",
       "                  <td>[31, 2, 91, 6, 2887, 376, 2235, 4657, 270, 108, 9999, 9999, 633, 1518, 2647, 627, 9999, 9999, 17, 1518, 5288, 17, 425, 9999, 627, 1652, 142, 539, 3837, 5288, 585, 387, 9999, 8315, 439, 1069, 3785, 128, 70, 2103, 5288, 2952, 1070, 8401, 912, 1287, 210, 1281, 3186, 330, 3858, 244, 587, 37, 5288, 9, 570, 53, 1518, 429, 656, 37, 9999, 1246, 630, 1813, 89, 312, 9999, 5288, 1652, 2647, 9999, 721, 51, 751, 19, 2, 506, 19, 232, 2]</td>\n",
       "                  \n",
       "                </tr>\n",
       "                \n",
       "                <tr>\n",
       "                  \n",
       "                  <td>feeling submerged one better right must looking champagne money care final product voice gets repeatedly dubbed stranger sounds nothing like editing well grade amateurish nothing b c grade movie enough money hire couple talented cameramen ok sound designer like previous poster said problems seem appear post production voice dubbing etc bad cause plot actually ok sg flick never rent another sg flick unless emails asking forgiveness bad miss kelly lebrock jimbo</td>\n",
       "                  \n",
       "                  <td>[411, 9999, 3, 44, 98, 100, 150, 9999, 160, 328, 344, 2050, 407, 105, 3542, 2116, 2874, 782, 64, 4, 651, 12, 1081, 2176, 64, 350, 792, 1081, 1, 90, 160, 3298, 250, 865, 9999, 469, 349, 5105, 4, 808, 3527, 186, 567, 191, 825, 1037, 242, 407, 2899, 388, 15, 933, 34, 66, 469, 5919, 371, 36, 703, 62, 5919, 371, 744, 9999, 2081, 7441, 15, 569, 1158, 9999, 9999]</td>\n",
       "                  \n",
       "                </tr>\n",
       "                \n",
       "                <tr>\n",
       "                  \n",
       "                  <td>revolt zombies proves director revamp recycle idea necessarily make lightning strike twice halperin brothers responsible horror classic white zombie made trite piece garbage mere years later cash popularity even recycled close ups lugosi eyes previous film court battle white zombie film rights owners want halperins able use word zombie title word thing could help film everyone knows bad films make much money simply word zombie appear title knowing victor halperin capable years makes uninteresting film insulting seems never directed another horror film debacle zombies seem true walking dead simply hypnotism victims wanna create mind controlled army zombies ready crack eggs including lame plot man falls love scheming woman plays heart becomes engaged make friend loves jealous sends man spiral madness tries using zombie mind control techniques change things advantage attempt win woman worth spit includes one blatantly obvious plot developments ever seen blind stupid see ending coming acting even good movie makes racially insensitive king zombies appeared double bill dvd bought seems like atmospheric horror masterpiece comparison reminds us every black white film classic makes atomic age sci fi alien zombie cheese fest invisible invaders seem like serious drama one big ball cheese ridiculously melodramatic could probably make many korean film fan twitch south korean films often known use melodrama credits list ironically named company favorite films sure whose favorite film would obviously idiot recommended fans zombies romance classic films</td>\n",
       "                  \n",
       "                  <td>[6369, 964, 1379, 60, 9999, 9999, 205, 2547, 22, 6278, 3267, 1283, 9999, 898, 1749, 84, 232, 301, 686, 20, 2914, 292, 1088, 2528, 58, 184, 2019, 4790, 7, 5526, 358, 1810, 2360, 387, 808, 2, 2379, 831, 301, 686, 2, 2502, 5838, 78, 9999, 370, 239, 538, 686, 300, 538, 56, 23, 219, 2, 180, 553, 15, 30, 22, 13, 160, 211, 538, 686, 825, 300, 1115, 2015, 9999, 2082, 58, 67, 2340, 2, 3334, 82, 36, 392, 62, 84, 2, 9999, 964, 191, 167, 1130, 221, 211, 9999, 1309, 2839, 834, 210, 5230, 1097, 964, 1460, 3903, 9483, 450, 685, 34, 43, 587, 37, 7436, 130, 181, 345, 330, 3785, 22, 317, 1233, 3513, 3133, 43, 7717, 2786, 366, 624, 686, 210, 981, 3184, 509, 79, 2909, 451, 1015, 130, 173, 6098, 1522, 3, 5609, 441, 34, 8339, 42, 31, 1830, 254, 11, 162, 445, 35, 7, 5, 1, 67, 9999, 9999, 475, 964, 1328, 1250, 802, 163, 1089, 82, 4, 2989, 84, 835, 1905, 1633, 76, 73, 206, 301, 2, 232, 67, 8631, 417, 764, 762, 1323, 686, 2841, 3169, 2323, 9999, 191, 4, 483, 325, 3, 89, 1670, 2841, 3756, 3468, 23, 129, 22, 32, 3278, 2, 214, 9999, 1061, 3278, 30, 275, 434, 239, 2438, 746, 868, 3453, 627, 970, 379, 30, 139, 486, 379, 2, 8, 405, 2486, 1022, 323, 964, 731, 232, 30]</td>\n",
       "                  \n",
       "                </tr>\n",
       "                \n",
       "                <tr>\n",
       "                  \n",
       "                  <td>seen tons hk actioners one right top genre action scenes exciting kinetic anything ever seen action movie kung fu spectacular pyrotechnics eye popping stunt work heartstopping editing perfectly paced heightening tension complimenting fluid camera work film directed old pro corey yuen whose resume stuffed best work genre including jet li vehicle legend fong sai yuk one thing lacking film presence three dimensional character though martin male lead comes closest movie full archetypes rather characters sexy killer goofy thief bitchy girlfriend cackling villains said shannon lee terrific screen presence great fighting stunts guns onscreen hard take eyes good woman major star</td>\n",
       "                  \n",
       "                  <td>[31, 3222, 5237, 9999, 3, 98, 227, 373, 97, 49, 969, 9999, 123, 42, 31, 97, 1, 1967, 1698, 1932, 9999, 590, 5368, 3185, 61, 9999, 651, 795, 1614, 9999, 920, 9999, 6702, 245, 61, 2, 392, 57, 3076, 6864, 9999, 486, 7045, 7505, 39, 61, 373, 450, 3330, 3687, 2013, 1611, 9999, 9999, 9999, 3, 56, 1730, 2, 1208, 172, 1883, 27, 55, 1342, 755, 352, 149, 4326, 1, 244, 9999, 136, 26, 1117, 311, 2801, 2827, 8264, 796, 9999, 1724, 186, 7612, 614, 1147, 148, 1208, 19, 843, 3139, 1705, 9999, 140, 88, 387, 5, 130, 536, 201]</td>\n",
       "                  \n",
       "                </tr>\n",
       "                \n",
       "                <tr>\n",
       "                  \n",
       "                  <td>finished watching film found enjoyable quiet little film overwhelm special effects big performances simply takes lives people living small hamlet backwoods north carolina henry thomas gives good performance raymond toker young loner finds baby abandoned woods toker search baby parents takes journey profound impact life david srathairn plays truman lester slimy conman ulterior motive david plays bad guy perfection much film first meets eye filmed location north carolina wonderful sound track traditional music worth watching</td>\n",
       "                  \n",
       "                  <td>[1604, 54, 2, 143, 594, 1700, 38, 2, 9999, 198, 183, 89, 233, 211, 187, 327, 16, 444, 266, 3030, 8743, 2194, 9999, 1221, 1891, 283, 5, 127, 4405, 9999, 81, 7844, 520, 733, 2457, 1245, 9999, 1628, 733, 666, 187, 1127, 3137, 1319, 33, 466, 9999, 181, 5863, 5339, 5514, 9999, 9999, 5981, 466, 181, 15, 117, 3036, 13, 2, 18, 742, 590, 664, 1455, 2194, 9999, 265, 349, 1249, 1872, 115, 173, 54]</td>\n",
       "                  \n",
       "                </tr>\n",
       "                \n",
       "                <tr>\n",
       "                  \n",
       "                  <td>warning spoilers ahead short part one two expound upon brief portion matrix morpheus explains matrix came already know story plot surprise short much entertaining informative presented file historical archives visuals better average generally cold colors aid purpose short couple problems violence tale little gratuitous combined occasional dose political correctness un scenes detracts straight narrative short plus needs seen part two complete animatrix concept brilliant despite issues short still fulfills purpose would fit original movie style content flow perfect method reveal history bottom line good information could told little better still solid</td>\n",
       "                  \n",
       "                  <td>[1553, 885, 1259, 226, 71, 3, 29, 9999, 580, 1265, 3966, 2346, 9999, 2377, 2346, 260, 329, 41, 9, 34, 709, 226, 13, 318, 6854, 1199, 7473, 1219, 9999, 1894, 44, 701, 1068, 883, 2324, 3917, 1128, 226, 250, 567, 430, 636, 38, 2012, 2339, 2378, 5202, 842, 8205, 2411, 49, 9836, 577, 1168, 226, 781, 595, 31, 71, 29, 458, 9999, 959, 395, 335, 1186, 226, 46, 9999, 1128, 8, 1024, 96, 1, 277, 1344, 2793, 278, 4025, 2424, 343, 1176, 224, 5, 1464, 23, 442, 38, 44, 46, 995]</td>\n",
       "                  \n",
       "                </tr>\n",
       "                \n",
       "                <tr>\n",
       "                  \n",
       "                  <td>saw film taos film festival last year overwhelmed rich warm novel brought screen beautifully acted well directed anything reminded films david lean ability handle complex story knack creating powerful scenes affect several different levels best movie seen years</td>\n",
       "                  \n",
       "                  <td>[109, 2, 9999, 2, 1248, 124, 161, 8846, 863, 2093, 511, 689, 148, 1139, 765, 12, 392, 123, 1416, 30, 466, 5909, 1095, 2709, 1160, 9, 9009, 1697, 822, 49, 4357, 324, 158, 2026, 39, 1, 31, 58]</td>\n",
       "                  \n",
       "                </tr>\n",
       "                \n",
       "                <tr>\n",
       "                  \n",
       "                  <td>believe acting challenge richard harris uncomplicated plot yet interesting good movie watch want lot thinking want told simple story canadian scenery breathtaking beautiful fall shots alone made picture worth seeing</td>\n",
       "                  \n",
       "                  <td>[147, 35, 2735, 592, 1881, 9999, 34, 134, 111, 5, 1, 28, 78, 72, 402, 78, 442, 467, 9, 2099, 1222, 2690, 190, 656, 522, 446, 20, 304, 173, 199]</td>\n",
       "                  \n",
       "                </tr>\n",
       "                \n",
       "              </tbody>\n",
       "            </table>\n",
       "          </div>\n",
       "        </div>\n",
       "      </div>\n",
       "    </div>\n",
       "  </div>\n",
       "  \n",
       "  <script class=\"pd_save\">\n",
       "    $(function() {\n",
       "      var tableWrapper = $('.df-table-wrapper-b4b530f6');\n",
       "      var fixedHeader = $('.fixed-header', tableWrapper);\n",
       "      var tableContainer = $('.df-table-container', tableWrapper);\n",
       "      var table = $('.df-table', tableContainer);\n",
       "      var rows = $('tbody > tr', table);\n",
       "      var total = 100;\n",
       "  \n",
       "      fixedHeader\n",
       "        .css('width', table.width())\n",
       "        .find('.fixed-cell')\n",
       "        .each(function(i, e) {\n",
       "          $(this).css('width', $('.df-table-wrapper-b4b530f6 th:nth-child(' + (i+1) + ')').css('width'));\n",
       "        });\n",
       "  \n",
       "      tableContainer.scroll(function() {\n",
       "        fixedHeader.css({ left: table.position().left });\n",
       "      });\n",
       "  \n",
       "      rows.on(\"click\", function(e){\n",
       "          var txt = e.delegateTarget.innerText;\n",
       "          var splits = txt.split(\"\\t\");\n",
       "          var len = splits.length;\n",
       "          var hdrs = $(fixedHeader).find(\".fixed-cell\");\n",
       "          // Add all cells in the selected row as a map to be consumed by the target as needed\n",
       "          var payload = {type:\"select\", targetDivId: \"\" };\n",
       "          for (var i = 0; i < len; i++) {\n",
       "            payload[hdrs[i].innerHTML] = splits[i];\n",
       "          }\n",
       "  \n",
       "          //simple selection highlighting, client adds \"selected\" class\n",
       "          $(this).addClass(\"selected\").siblings().removeClass(\"selected\");\n",
       "          $(document).trigger('pd_event', payload);\n",
       "      });\n",
       "  \n",
       "      $('.df-table-search', tableWrapper).keyup(function() {\n",
       "        var val = '^(?=.*\\\\b' + $.trim($(this).val()).split(/\\s+/).join('\\\\b)(?=.*\\\\b') + ').*$';\n",
       "        var reg = RegExp(val, 'i');\n",
       "        var index = 0;\n",
       "        \n",
       "        rows.each(function(i, e) {\n",
       "          if (!reg.test($(this).text().replace(/\\s+/g, ' '))) {\n",
       "            $(this).attr('class', 'hidden');\n",
       "          }\n",
       "          else {\n",
       "            $(this).attr('class', (++index % 2 == 0 ? 'even' : 'odd'));\n",
       "          }\n",
       "        });\n",
       "        $('.df-table-search-count', tableWrapper).html('Showing ' + index + ' of ' + total + ' rows');\n",
       "      });\n",
       "    });\n",
       "  \n",
       "    $(\".df-table-wrapper td:contains('http://')\").each(function(){var tc = this.textContent; $(this).wrapInner(\"<a target='_blank' href='\" + tc + \"'></a>\");});\n",
       "    $(\".df-table-wrapper td:contains('https://')\").each(function(){var tc = this.textContent; $(this).wrapInner(\"<a target='_blank' href='\" + tc + \"'></a>\");});\n",
       "  </script>\n",
       "  \n",
       "        </div>"
      ],
      "text/plain": [
       "<IPython.core.display.HTML object>"
      ]
     },
     "metadata": {},
     "output_type": "display_data"
    }
   ],
   "source": [
    "display(train_df[['review', 'review_vec']])"
   ]
  },
  {
   "cell_type": "markdown",
   "metadata": {},
   "source": [
    "Протестим, правильно ли конвертировалаось в вектора"
   ]
  },
  {
   "cell_type": "code",
   "execution_count": 201,
   "metadata": {
    "pixiedust": {
     "displayParams": {
      "handlerId": "tableView",
      "table_nocount": "true",
      "table_noschema": "true",
      "table_nosearch": "true"
     }
    }
   },
   "outputs": [
    {
     "data": {
      "text/html": [
       "<style type=\"text/css\">.pd_warning{display:none;}</style><div class=\"pd_warning\"><em>Hey, there's something awesome here! To see it, open this notebook outside GitHub, in a viewer like Jupyter</em></div>\n",
       "        <div class=\"pd_save is-viewer-good\" style=\"padding-right:10px;text-align: center;line-height:initial !important;font-size: xx-large;font-weight: 500;color: coral;\">\n",
       "            \n",
       "        </div>\n",
       "    <div id=\"chartFiguref22b3fd2\" class=\"pd_save is-viewer-good\" style=\"overflow-x:auto\">\n",
       "            <style type=\"text/css\" class=\"pd_save\">\n",
       "    .df-table-wrapper .panel-heading {\n",
       "      border-radius: 0;\n",
       "      padding: 0px;\n",
       "    }\n",
       "    .df-table-wrapper .panel-heading:hover {\n",
       "      border-color: #008571;\n",
       "    }\n",
       "    .df-table-wrapper .panel-title a {\n",
       "      background-color: #f9f9fb;\n",
       "      color: #333333;\n",
       "      display: block;\n",
       "      outline: none;\n",
       "      padding: 10px 15px;\n",
       "      text-decoration: none;\n",
       "    }\n",
       "    .df-table-wrapper .panel-title a:hover {\n",
       "      background-color: #337ab7;\n",
       "      border-color: #2e6da4;\n",
       "      color: #ffffff;\n",
       "      display: block;\n",
       "      padding: 10px 15px;\n",
       "      text-decoration: none;\n",
       "    }\n",
       "    .df-table-wrapper {\n",
       "      font-size: small;\n",
       "      font-weight: 300;\n",
       "      letter-spacing: 0.5px;\n",
       "      line-height: normal;\n",
       "      height: inherit;\n",
       "      overflow: auto;\n",
       "    }\n",
       "    .df-table-search {\n",
       "      margin: 0 0 20px 0;\n",
       "    }\n",
       "    .df-table-search-count {\n",
       "      display: inline-block;\n",
       "      margin: 0 0 20px 0;\n",
       "    }\n",
       "    .df-table-container {\n",
       "      max-height: 50vh;\n",
       "      max-width: 100%;\n",
       "      overflow-x: auto;\n",
       "      position: relative;\n",
       "    }\n",
       "    .df-table-wrapper table {\n",
       "      border: 0 none #ffffff;\n",
       "      border-collapse: collapse;\n",
       "      margin: 0;\n",
       "      min-width: 100%;\n",
       "      padding: 0;\n",
       "      table-layout: fixed;\n",
       "      height: inherit;\n",
       "      overflow: auto;\n",
       "    }\n",
       "    .df-table-wrapper tr.hidden {\n",
       "      display: none;\n",
       "    }\n",
       "    .df-table-wrapper tr:nth-child(even) {\n",
       "      background-color: #f9f9fb;\n",
       "    }\n",
       "    .df-table-wrapper tr.even {\n",
       "      background-color: #f9f9fb;\n",
       "    }\n",
       "    .df-table-wrapper tr.odd {\n",
       "      background-color: #ffffff;\n",
       "    }\n",
       "    .df-table-wrapper td + td {\n",
       "      border-left: 1px solid #e0e0e0;\n",
       "    }\n",
       "  \n",
       "    .df-table-wrapper thead,\n",
       "    .fixed-header {\n",
       "      font-weight: 600;\n",
       "    }\n",
       "    .df-table-wrapper tr,\n",
       "    .fixed-row {\n",
       "      border: 0 none #ffffff;\n",
       "      margin: 0;\n",
       "      padding: 0;\n",
       "    }\n",
       "    .df-table-wrapper th,\n",
       "    .df-table-wrapper td,\n",
       "    .fixed-cell {\n",
       "      border: 0 none #ffffff;\n",
       "      margin: 0;\n",
       "      min-width: 50px;\n",
       "      padding: 5px 20px 5px 10px;\n",
       "      text-align: left;\n",
       "      word-wrap: break-word;\n",
       "    }\n",
       "    .df-table-wrapper th {\n",
       "      padding-bottom: 0;\n",
       "      padding-top: 0;\n",
       "    }\n",
       "    .df-table-wrapper th div {\n",
       "      max-height: 1px;\n",
       "      visibility: hidden;\n",
       "    }\n",
       "  \n",
       "    .df-schema-field {\n",
       "      margin-left: 10px;\n",
       "    }\n",
       "  \n",
       "    .fixed-header-container {\n",
       "      overflow: hidden;\n",
       "      position: relative;\n",
       "    }\n",
       "    .fixed-header {\n",
       "      border-bottom: 2px solid #000;\n",
       "      display: table;\n",
       "      position: relative;\n",
       "    }\n",
       "    .fixed-row {\n",
       "      display: table-row;\n",
       "    }\n",
       "    .fixed-cell {\n",
       "      display: table-cell;\n",
       "    }\n",
       "  </style>\n",
       "  \n",
       "  \n",
       "  <div class=\"df-table-wrapper df-table-wrapper-f22b3fd2 panel-group pd_save\">\n",
       "    <!-- dataframe schema -->\n",
       "    \n",
       "    <!-- dataframe table -->\n",
       "    <div class=\"panel panel-default\" style=\"border:none;\">\n",
       "      \n",
       "      <div id=\"df-table-f22b3fd2\" class=\"panel-collapse collapse in\">\n",
       "        <div class=\"panel-body\">\n",
       "          \n",
       "          <div>\n",
       "            \n",
       "          </div>\n",
       "          <!-- fixed header for when dataframe table scrolls -->\n",
       "          <div class=\"fixed-header-container\">\n",
       "            <div class=\"fixed-header\" style=\"width: 776px;\">\n",
       "              <div class=\"fixed-row\">\n",
       "                \n",
       "                <div class=\"fixed-cell\" style=\"width: 381px;\">Original Text</div>\n",
       "                \n",
       "                <div class=\"fixed-cell\" style=\"width: 395px;\">Text From Vector</div>\n",
       "                \n",
       "              </div>\n",
       "            </div>\n",
       "          </div>\n",
       "          <div class=\"df-table-container\">\n",
       "            <table class=\"df-table\">\n",
       "              <thead>\n",
       "                <tr>\n",
       "                  \n",
       "                  <th><div>Original Text</div></th>\n",
       "                  \n",
       "                  <th><div>Text From Vector</div></th>\n",
       "                  \n",
       "                </tr>\n",
       "              </thead>\n",
       "              <tbody>\n",
       "                \n",
       "                <tr>\n",
       "                  \n",
       "                  <td>sheeta high cartoon comedy ran time programs school life teachers years teaching profession lead believe sheeta high satire much closer reality teachers sheeta survive sheeta insightful students see right pathetic teachers sheeta sheeta whole situation remind schools knew students saw episode student repeatedly tried burn school immediately sheeta high classic line inspector sack one teachers student welcome sheeta high expect many adults age think sheeta high far fetched pity</td>\n",
       "                  \n",
       "                  <td>bromwell high cartoon comedy ran time programs school life teachers years teaching profession lead believe bromwell high satire much closer reality teachers scramble survive financially insightful students see right pathetic teachers pomp pettiness whole situation remind schools knew students saw episode student repeatedly tried burn school immediately recalled high classic line inspector sack one teachers student welcome bromwell high expect many adults age think bromwell high far fetched pity</td>\n",
       "                  \n",
       "                </tr>\n",
       "                \n",
       "              </tbody>\n",
       "            </table>\n",
       "          </div>\n",
       "        </div>\n",
       "      </div>\n",
       "    </div>\n",
       "  </div>\n",
       "  \n",
       "  <script class=\"pd_save\">\n",
       "    $(function() {\n",
       "      var tableWrapper = $('.df-table-wrapper-f22b3fd2');\n",
       "      var fixedHeader = $('.fixed-header', tableWrapper);\n",
       "      var tableContainer = $('.df-table-container', tableWrapper);\n",
       "      var table = $('.df-table', tableContainer);\n",
       "      var rows = $('tbody > tr', table);\n",
       "      var total = 1;\n",
       "  \n",
       "      fixedHeader\n",
       "        .css('width', table.width())\n",
       "        .find('.fixed-cell')\n",
       "        .each(function(i, e) {\n",
       "          $(this).css('width', $('.df-table-wrapper-f22b3fd2 th:nth-child(' + (i+1) + ')').css('width'));\n",
       "        });\n",
       "  \n",
       "      tableContainer.scroll(function() {\n",
       "        fixedHeader.css({ left: table.position().left });\n",
       "      });\n",
       "  \n",
       "      rows.on(\"click\", function(e){\n",
       "          var txt = e.delegateTarget.innerText;\n",
       "          var splits = txt.split(\"\\t\");\n",
       "          var len = splits.length;\n",
       "          var hdrs = $(fixedHeader).find(\".fixed-cell\");\n",
       "          // Add all cells in the selected row as a map to be consumed by the target as needed\n",
       "          var payload = {type:\"select\", targetDivId: \"\" };\n",
       "          for (var i = 0; i < len; i++) {\n",
       "            payload[hdrs[i].innerHTML] = splits[i];\n",
       "          }\n",
       "  \n",
       "          //simple selection highlighting, client adds \"selected\" class\n",
       "          $(this).addClass(\"selected\").siblings().removeClass(\"selected\");\n",
       "          $(document).trigger('pd_event', payload);\n",
       "      });\n",
       "  \n",
       "      $('.df-table-search', tableWrapper).keyup(function() {\n",
       "        var val = '^(?=.*\\\\b' + $.trim($(this).val()).split(/\\s+/).join('\\\\b)(?=.*\\\\b') + ').*$';\n",
       "        var reg = RegExp(val, 'i');\n",
       "        var index = 0;\n",
       "        \n",
       "        rows.each(function(i, e) {\n",
       "          if (!reg.test($(this).text().replace(/\\s+/g, ' '))) {\n",
       "            $(this).attr('class', 'hidden');\n",
       "          }\n",
       "          else {\n",
       "            $(this).attr('class', (++index % 2 == 0 ? 'even' : 'odd'));\n",
       "          }\n",
       "        });\n",
       "        $('.df-table-search-count', tableWrapper).html('Showing ' + index + ' of ' + total + ' rows');\n",
       "      });\n",
       "    });\n",
       "  \n",
       "    $(\".df-table-wrapper td:contains('http://')\").each(function(){var tc = this.textContent; $(this).wrapInner(\"<a target='_blank' href='\" + tc + \"'></a>\");});\n",
       "    $(\".df-table-wrapper td:contains('https://')\").each(function(){var tc = this.textContent; $(this).wrapInner(\"<a target='_blank' href='\" + tc + \"'></a>\");});\n",
       "  </script>\n",
       "  \n",
       "        </div>"
      ],
      "text/plain": [
       "<IPython.core.display.HTML object>"
      ]
     },
     "metadata": {},
     "output_type": "display_data"
    }
   ],
   "source": [
    "# Перевернем словарь, чтобы удобнее доставть слова по числам\n",
    "flipped_train_df_vocab = {v:k for k,v in train_df_vocab_by_popular.items()}\n",
    "sentence = []\n",
    "for vec in train_df['review_vec'][0]:\n",
    "    sentence.append(flipped_train_df_vocab[vec])\n",
    "sentence = ' '.join(sentence)\n",
    "display(pd.DataFrame({'Original Text': [sentence], \"Text From Vector\": [train_df['review'][0]]}))"
   ]
  },
  {
   "cell_type": "markdown",
   "metadata": {},
   "source": [
    "Все сконвертировалось успешно. Первое слово которое оказалось другим, просто не попало в словарь, и заменилось последним словом из словаря. Ну это говорит о том, что есть некоторое количество слов, которое очень редкое и не было извлечено из обучающего набора"
   ]
  },
  {
   "cell_type": "markdown",
   "metadata": {},
   "source": [
    "## Кросс-валидация и настройка гиперпараметров модели"
   ]
  },
  {
   "cell_type": "markdown",
   "metadata": {},
   "source": [
    "**Обучим модель на различных парметрах, посмотрим, какую наилучшую модель можно получить**"
   ]
  },
  {
   "cell_type": "markdown",
   "metadata": {},
   "source": [
    "**mldel_001**"
   ]
  },
  {
   "cell_type": "markdown",
   "metadata": {},
   "source": [
    "Простая модель"
   ]
  },
  {
   "cell_type": "code",
   "execution_count": 618,
   "metadata": {},
   "outputs": [],
   "source": [
    "def model_001(max_features, vector_dim, maxlen, x, y, verbose=0):\n",
    "    callbacks_list = [\n",
    "                    keras.callbacks.EarlyStopping(\n",
    "                    monitor='val_acc',\n",
    "                    patience=1)]\n",
    "    # Построим первую саму простую модель модель\n",
    "    model = Sequential()\n",
    "    model.add(Embedding(max_features, vector_dim, input_length=maxlen))\n",
    "    model.add(Flatten())\n",
    "    model.add(Dense(1, activation='sigmoid'))\n",
    "    model.compile(optimizer='rmsprop', loss='binary_crossentropy',\n",
    "                        metrics=['acc'])\n",
    "            # model.summary()\n",
    "            # Обучаем\n",
    "    history = model.fit(x, y, epochs=10,\n",
    "            batch_size=32,\n",
    "            validation_split=0.2,\n",
    "            callbacks=callbacks_list,  \n",
    "                        verbose=verbose)\n",
    "    return model, history"
   ]
  },
  {
   "cell_type": "code",
   "execution_count": 587,
   "metadata": {},
   "outputs": [],
   "source": [
    "def prepare_data_set(train_df, test_df, x_field_name, y_field_name):\n",
    "    #Перемешаем данные в выборках\n",
    "    train = train_df.sample(frac=1)\n",
    "    test = test_df.sample(frac=1)\n",
    "\n",
    "    # Отделим векторыне представления и метки в разные наборы\n",
    "    x_train = np.array(train[x_field_name])\n",
    "    y_train = np.array(train[y_field_name])\n",
    "    x_test = np.array(test[x_field_name])\n",
    "    y_test = np.array(test[y_field_name])\n",
    "    \n",
    "    return x_train, x_test, y_train, y_test"
   ]
  },
  {
   "cell_type": "code",
   "execution_count": 495,
   "metadata": {
    "code_folding": []
   },
   "outputs": [
    {
     "name": "stdout",
     "output_type": "stream",
     "text": [
      "Wall time: 0 ns\n"
     ]
    }
   ],
   "source": [
    "%%time\n",
    "# Зафиксируем seed для воспроизводимости результатов\n",
    "np.random.seed(18)\n",
    "\n",
    "# Количество слов в словаре. Всего словарь содержит 74065 слов. Попробуем менять длину словаря, и смотреть на результаты\n",
    "\n",
    "# Лучшие значения для каждого параметра\n",
    "best_params = {\n",
    "    'max_features_params': 5000, 'max_vocab': 100, 'output_vector_dimension': 8\n",
    "}\n",
    "# Текущее значение параметров\n",
    "current_param = {\n",
    "    'max_features_params': 5000, 'max_vocab': 100, 'output_vector_dimension' : 8\n",
    "}\n",
    "current_param_names = [\n",
    "    'max_features_params', 'max_vocab', 'output_vector_dimension'\n",
    "]\n",
    "# Обучающая выборка, валидационныая,тестовая выборка, параметры, количество эпох до наступления переобучения\n",
    "best_log_param = {\n",
    "    'max_features_params': [[], [], [], [], []],\n",
    "    'max_vocab' : [[], [], [], [], []],\n",
    "    'output_vector_dimension' : [[], [], [], [], []]\n",
    "}\n",
    "\n",
    "max_features_params = [5000, 10000, 20000, 30000, 40000] # Параметры для перебора количества слов в словаре\n",
    "max_vocab = [100, 200, 300, 400, 500, 600, 700, 800]\n",
    "output_vector_dimension = [8, 16, 32, 64, 128, 512]\n",
    "\n",
    "# Список всех значений параметров\n",
    "count_params = [\n",
    "    max_features_params,\n",
    "    max_vocab,\n",
    "    output_vector_dimension\n",
    "]\n",
    "\n",
    "def teach_network_001():    \n",
    "    for curr_par in range(len(count_params)): # Проходим по общему набору параметров\n",
    "        # Инициализируем сначала значения лучшими параметрами\n",
    "        current_param['max_features_params'] = best_params['max_features_params'] \n",
    "        current_param['max_vocab'] = best_params['max_vocab']\n",
    "        current_param['output_vector_dimension'] = best_params['output_vector_dimension']\n",
    "        \n",
    "        print('iter: {}/{}'.format(curr_par + 1, len(count_params)))        \n",
    "         # Максимальные значения правильности по всем эпохам по каждому значению параметра\n",
    "        current_best_param_summary = []        \n",
    "        for param in tqdm_notebook(count_params[curr_par]): # Проходим по конкретному параметру\n",
    "            \n",
    "             # Инициализируем текущими параметиами\n",
    "            if current_param_names[curr_par] == 'max_features_params':               \n",
    "                current_param[current_param_names[curr_par]] = param\n",
    "            if current_param_names[curr_par] == 'max_vocab':\n",
    "                current_param[current_param_names[curr_par]] = param\n",
    "            if current_param_names[curr_par] == 'output_vector_dimension':\n",
    "                current_param[current_param_names[curr_par]] = param\n",
    "            \n",
    "            \n",
    "            # Настроим параметры Embedding слоя для векторизации\n",
    "            max_features = current_param['max_features_params'] # Максимальное количесиво слов словаря\n",
    "            maxlen = current_param['max_vocab'] # Максимальная длина отзыва\n",
    "            vector_dim = current_param['output_vector_dimension'] # размерность выходного вектора\n",
    "\n",
    "            # Создадим вектороное представление            \n",
    "            #print('create vectors for train')\n",
    "            train_df['review_vec'] = data_hlp.create_vectors(train_df['review'], train_df_vocab_by_popular, max_features)\n",
    "            #print('create vectors for test')\n",
    "            test_df['review_vec'] = data_hlp.create_vectors(test_df['review'], train_df_vocab_by_popular, max_features)\n",
    "#             clear_output()            \n",
    "            print(\"Текущие параметры: \", current_param)\n",
    "            \n",
    "            # Подготовка данных\n",
    "            x_train, x_test, y_train, y_test =  prepare_data_set(train_df, test_df, 'review_vec', 'estimate')\n",
    "\n",
    "            # Преобразуем последовательность в двумерный тензор с формой (количество образцов, максимальная длина)\n",
    "            x_train = keras.preprocessing.sequence.pad_sequences(x_train, maxlen)\n",
    "            x_test = keras.preprocessing.sequence.pad_sequences(x_test, maxlen)\n",
    "            # Параметры прерывания обучения при наступлении переобучения\n",
    "            \n",
    "            # Создание и обучение модели\n",
    "            model, hstory = model_001(max_features, vector_dim, maxlen)\n",
    "            \n",
    "            # Сохраняем максимальное по всем эпохам            \n",
    "            current_best_param_summary.append(max(history.history['val_acc']))\n",
    "            print(\"Параметры val_acc: \", current_best_param_summary)\n",
    "             # Записываем логи параметров для построения графиков (acc на лучшем vall_acc)\n",
    "            best_log_param[current_param_names[curr_par]][0].append(max(history.history['acc']))\n",
    "            # (val_acc)\n",
    "            best_log_param[current_param_names[curr_par]][1].append(max(history.history['val_acc']))\n",
    "            # Тестовая выборка\n",
    "            best_log_param[current_param_names[curr_par]][2].append(model.evaluate(x_test, y_test, verbose=0)[1])            \n",
    "            # Какой параметр при этом использовался\n",
    "            best_log_param[current_param_names[curr_par]][3].append(param)\n",
    "            # Количество эпох до наступления переобучения\n",
    "            best_log_param[current_param_names[curr_par]][4].append(len(history.history['val_acc']))\n",
    "        \n",
    "        # Словать сответствий максимальных значений показателя правильности на валидационной выборке и\n",
    "        # позиции значения в массиве значений параметра\n",
    "        dct = dict(zip(current_best_param_summary, range(0, len(current_best_param_summary))))\n",
    "        best_position = dct[max(dct)] # Позиция лучшего параметра\n",
    "#         print(\"best: \", count_params[curr_par][best_position])\n",
    "        \n",
    "        # Сохраняем лучший парамет        \n",
    "        if current_param_names[curr_par] == 'max_features_params':      \n",
    "            best_params[current_param_names[curr_par]] = count_params[curr_par][best_position]\n",
    "        if current_param_names[curr_par] == 'max_vocab':\n",
    "            best_params[current_param_names[curr_par]] = count_params[curr_par][best_position]\n",
    "        if current_param_names[curr_par] == 'output_vector_dimension':\n",
    "            best_params[current_param_names[curr_par]] = count_params[curr_par][best_position]            \n",
    "            \n",
    "        print(\"Лог параметров: \", best_log_param)\n",
    "        print(\"Лучшие параметры: \", best_params)\n",
    "        #clear_output()"
   ]
  },
  {
   "cell_type": "markdown",
   "metadata": {},
   "source": [
    "Обучим самую простоую нейронную сеть, с перебором параметров. Полный перебор делать не будем, в виду экономии времени. Будм перебирать и настраивать по 1 параметру. Т.е., сначала будем менять размер словаря, выберем лучший, потом размер самого отзыва и тоже выберем лучший, а потом размер выходного вектора"
   ]
  },
  {
   "cell_type": "code",
   "execution_count": 496,
   "metadata": {
    "scrolled": true
   },
   "outputs": [
    {
     "name": "stdout",
     "output_type": "stream",
     "text": [
      "iter: 1/3\n"
     ]
    },
    {
     "data": {
      "application/vnd.jupyter.widget-view+json": {
       "model_id": "6166651d8fe943aab5d749b23cfd5f06",
       "version_major": 2,
       "version_minor": 0
      },
      "text/html": [
       "<p>Failed to display Jupyter Widget of type <code>HBox</code>.</p>\n",
       "<p>\n",
       "  If you're reading this message in the Jupyter Notebook or JupyterLab Notebook, it may mean\n",
       "  that the widgets JavaScript is still loading. If this message persists, it\n",
       "  likely means that the widgets JavaScript library is either not installed or\n",
       "  not enabled. See the <a href=\"https://ipywidgets.readthedocs.io/en/stable/user_install.html\">Jupyter\n",
       "  Widgets Documentation</a> for setup instructions.\n",
       "</p>\n",
       "<p>\n",
       "  If you're reading this message in another frontend (for example, a static\n",
       "  rendering on GitHub or <a href=\"https://nbviewer.jupyter.org/\">NBViewer</a>),\n",
       "  it may mean that your frontend doesn't currently support widgets.\n",
       "</p>\n"
      ],
      "text/plain": [
       "HBox(children=(IntProgress(value=0, max=5), HTML(value='')))"
      ]
     },
     "metadata": {},
     "output_type": "display_data"
    },
    {
     "name": "stdout",
     "output_type": "stream",
     "text": [
      "Текущие параметры:  {'max_features_params': 5000, 'max_vocab': 100, 'output_vector_dimension': 8}\n",
      "Параметры val_acc:  [0.8784]\n",
      "Текущие параметры:  {'max_features_params': 10000, 'max_vocab': 100, 'output_vector_dimension': 8}\n",
      "Параметры val_acc:  [0.8784, 0.8798]\n",
      "Текущие параметры:  {'max_features_params': 20000, 'max_vocab': 100, 'output_vector_dimension': 8}\n",
      "Параметры val_acc:  [0.8784, 0.8798, 0.8888]\n",
      "Текущие параметры:  {'max_features_params': 30000, 'max_vocab': 100, 'output_vector_dimension': 8}\n",
      "Параметры val_acc:  [0.8784, 0.8798, 0.8888, 0.8848]\n",
      "Текущие параметры:  {'max_features_params': 40000, 'max_vocab': 100, 'output_vector_dimension': 8}\n",
      "Параметры val_acc:  [0.8784, 0.8798, 0.8888, 0.8848, 0.8852]\n",
      "\n",
      "Лог параметров:  {'max_features_params': [[0.9203, 0.92885, 0.94075, 0.93435, 0.94825], [0.8784, 0.8798, 0.8888, 0.8848, 0.8852], [0.86688, 0.87256, 0.87172, 0.87364, 0.86996], [5000, 10000, 20000, 30000, 40000], [5, 5, 5, 4, 6]], 'max_vocab': [[], [], [], [], []], 'output_vector_dimension': [[], [], [], [], []]}\n",
      "Лучшие параметры:  {'max_features_params': 20000, 'max_vocab': 100, 'output_vector_dimension': 8}\n",
      "iter: 2/3\n"
     ]
    },
    {
     "data": {
      "application/vnd.jupyter.widget-view+json": {
       "model_id": "e669d85b52cd4a5f851d4362651ebb7e",
       "version_major": 2,
       "version_minor": 0
      },
      "text/html": [
       "<p>Failed to display Jupyter Widget of type <code>HBox</code>.</p>\n",
       "<p>\n",
       "  If you're reading this message in the Jupyter Notebook or JupyterLab Notebook, it may mean\n",
       "  that the widgets JavaScript is still loading. If this message persists, it\n",
       "  likely means that the widgets JavaScript library is either not installed or\n",
       "  not enabled. See the <a href=\"https://ipywidgets.readthedocs.io/en/stable/user_install.html\">Jupyter\n",
       "  Widgets Documentation</a> for setup instructions.\n",
       "</p>\n",
       "<p>\n",
       "  If you're reading this message in another frontend (for example, a static\n",
       "  rendering on GitHub or <a href=\"https://nbviewer.jupyter.org/\">NBViewer</a>),\n",
       "  it may mean that your frontend doesn't currently support widgets.\n",
       "</p>\n"
      ],
      "text/plain": [
       "HBox(children=(IntProgress(value=0, max=8), HTML(value='')))"
      ]
     },
     "metadata": {},
     "output_type": "display_data"
    },
    {
     "name": "stdout",
     "output_type": "stream",
     "text": [
      "Текущие параметры:  {'max_features_params': 20000, 'max_vocab': 100, 'output_vector_dimension': 8}\n",
      "Параметры val_acc:  [0.8882]\n",
      "Текущие параметры:  {'max_features_params': 20000, 'max_vocab': 200, 'output_vector_dimension': 8}\n",
      "Параметры val_acc:  [0.8882, 0.8976]\n",
      "Текущие параметры:  {'max_features_params': 20000, 'max_vocab': 300, 'output_vector_dimension': 8}\n",
      "Параметры val_acc:  [0.8882, 0.8976, 0.8968]\n",
      "Текущие параметры:  {'max_features_params': 20000, 'max_vocab': 400, 'output_vector_dimension': 8}\n",
      "Параметры val_acc:  [0.8882, 0.8976, 0.8968, 0.8966]\n",
      "Текущие параметры:  {'max_features_params': 20000, 'max_vocab': 500, 'output_vector_dimension': 8}\n",
      "Параметры val_acc:  [0.8882, 0.8976, 0.8968, 0.8966, 0.8968]\n",
      "Текущие параметры:  {'max_features_params': 20000, 'max_vocab': 600, 'output_vector_dimension': 8}\n",
      "Параметры val_acc:  [0.8882, 0.8976, 0.8968, 0.8966, 0.8968, 0.8934]\n",
      "Текущие параметры:  {'max_features_params': 20000, 'max_vocab': 700, 'output_vector_dimension': 8}\n",
      "Параметры val_acc:  [0.8882, 0.8976, 0.8968, 0.8966, 0.8968, 0.8934, 0.8952]\n",
      "Текущие параметры:  {'max_features_params': 20000, 'max_vocab': 800, 'output_vector_dimension': 8}\n",
      "Параметры val_acc:  [0.8882, 0.8976, 0.8968, 0.8966, 0.8968, 0.8934, 0.8952, 0.895]\n",
      "\n",
      "Лог параметров:  {'max_features_params': [[0.9203, 0.92885, 0.94075, 0.93435, 0.94825], [0.8784, 0.8798, 0.8888, 0.8848, 0.8852], [0.86688, 0.87256, 0.87172, 0.87364, 0.86996], [5000, 10000, 20000, 30000, 40000], [5, 5, 5, 4, 6]], 'max_vocab': [[0.9391, 0.9488, 0.9353, 0.93165, 0.94695, 0.9427, 0.93395, 0.9442], [0.8882, 0.8976, 0.8968, 0.8966, 0.8968, 0.8934, 0.8952, 0.895], [0.87332, 0.87616, 0.88188, 0.88088, 0.88116, 0.87944, 0.8804, 0.87932], [100, 200, 300, 400, 500, 600, 700, 800], [5, 6, 4, 4, 5, 5, 4, 5]], 'output_vector_dimension': [[], [], [], [], []]}\n",
      "Лучшие параметры:  {'max_features_params': 20000, 'max_vocab': 200, 'output_vector_dimension': 8}\n",
      "iter: 3/3\n"
     ]
    },
    {
     "data": {
      "application/vnd.jupyter.widget-view+json": {
       "model_id": "27709ff62def4b99be1939dd91372d17",
       "version_major": 2,
       "version_minor": 0
      },
      "text/html": [
       "<p>Failed to display Jupyter Widget of type <code>HBox</code>.</p>\n",
       "<p>\n",
       "  If you're reading this message in the Jupyter Notebook or JupyterLab Notebook, it may mean\n",
       "  that the widgets JavaScript is still loading. If this message persists, it\n",
       "  likely means that the widgets JavaScript library is either not installed or\n",
       "  not enabled. See the <a href=\"https://ipywidgets.readthedocs.io/en/stable/user_install.html\">Jupyter\n",
       "  Widgets Documentation</a> for setup instructions.\n",
       "</p>\n",
       "<p>\n",
       "  If you're reading this message in another frontend (for example, a static\n",
       "  rendering on GitHub or <a href=\"https://nbviewer.jupyter.org/\">NBViewer</a>),\n",
       "  it may mean that your frontend doesn't currently support widgets.\n",
       "</p>\n"
      ],
      "text/plain": [
       "HBox(children=(IntProgress(value=0, max=6), HTML(value='')))"
      ]
     },
     "metadata": {},
     "output_type": "display_data"
    },
    {
     "name": "stdout",
     "output_type": "stream",
     "text": [
      "Текущие параметры:  {'max_features_params': 20000, 'max_vocab': 200, 'output_vector_dimension': 8}\n",
      "Параметры val_acc:  [0.8894]\n",
      "Текущие параметры:  {'max_features_params': 20000, 'max_vocab': 200, 'output_vector_dimension': 16}\n",
      "Параметры val_acc:  [0.8894, 0.8878]\n",
      "Текущие параметры:  {'max_features_params': 20000, 'max_vocab': 200, 'output_vector_dimension': 32}\n",
      "Параметры val_acc:  [0.8894, 0.8878, 0.8884]\n",
      "Текущие параметры:  {'max_features_params': 20000, 'max_vocab': 200, 'output_vector_dimension': 64}\n",
      "Параметры val_acc:  [0.8894, 0.8878, 0.8884, 0.8964]\n",
      "Текущие параметры:  {'max_features_params': 20000, 'max_vocab': 200, 'output_vector_dimension': 128}\n",
      "Параметры val_acc:  [0.8894, 0.8878, 0.8884, 0.8964, 0.8898]\n",
      "Текущие параметры:  {'max_features_params': 20000, 'max_vocab': 200, 'output_vector_dimension': 512}\n",
      "Параметры val_acc:  [0.8894, 0.8878, 0.8884, 0.8964, 0.8898, 0.875]\n",
      "\n",
      "Лог параметров:  {'max_features_params': [[0.9203, 0.92885, 0.94075, 0.93435, 0.94825], [0.8784, 0.8798, 0.8888, 0.8848, 0.8852], [0.86688, 0.87256, 0.87172, 0.87364, 0.86996], [5000, 10000, 20000, 30000, 40000], [5, 5, 5, 4, 6]], 'max_vocab': [[0.9391, 0.9488, 0.9353, 0.93165, 0.94695, 0.9427, 0.93395, 0.9442], [0.8882, 0.8976, 0.8968, 0.8966, 0.8968, 0.8934, 0.8952, 0.895], [0.87332, 0.87616, 0.88188, 0.88088, 0.88116, 0.87944, 0.8804, 0.87932], [100, 200, 300, 400, 500, 600, 700, 800], [5, 6, 4, 4, 5, 5, 4, 5]], 'output_vector_dimension': [[0.93285, 0.93075, 0.94, 0.95425, 0.9756, 0.97255], [0.8894, 0.8878, 0.8884, 0.8964, 0.8898, 0.875], [0.87508, 0.88204, 0.87844, 0.8706, 0.8712, 0.85948], [8, 16, 32, 64, 128, 512], [4, 3, 3, 3, 3, 2]]}\n",
      "Лучшие параметры:  {'max_features_params': 20000, 'max_vocab': 200, 'output_vector_dimension': 64}\n",
      "Wall time: 14min 37s\n"
     ]
    }
   ],
   "source": [
    "%%time\n",
    "teach_network_001()"
   ]
  },
  {
   "cell_type": "markdown",
   "metadata": {},
   "source": [
    "Посмотрим на изменение правильности в зависимости от роста параметра"
   ]
  },
  {
   "cell_type": "code",
   "execution_count": 499,
   "metadata": {},
   "outputs": [
    {
     "data": {
      "image/png": "[encoded data removed]",
      "text/plain": [
       "<Figure size 1360x320 with 3 Axes>"
      ]
     },
     "metadata": {},
     "output_type": "display_data"
    }
   ],
   "source": [
    "plt.style.use('seaborn')\n",
    "x_labels_names = ['количество слов в словаре', 'длина отзыва', 'размерность выходного вектора']\n",
    "title_labels_names = ['количества слов в словаре', 'длины отзыва', 'размерности выходного вектора']\n",
    "fig, ax = plt.subplots(1, 3, figsize=(17, 4));\n",
    "index = 0\n",
    "for axis in ax:\n",
    "    axis.plot(best_log_param[current_param_names[index]][3], \n",
    "              best_log_param[current_param_names[index]][0],\n",
    "              'r', label='обучение')\n",
    "    axis.plot(best_log_param[current_param_names[index]][3],\n",
    "              best_log_param[current_param_names[index]][1], \n",
    "              'g', label='валидация')\n",
    "    axis.plot(best_log_param[current_param_names[index]][3],\n",
    "              best_log_param[current_param_names[index]][2], \n",
    "              'b', label='тест')\n",
    "    axis.set_xlabel(x_labels_names[index])\n",
    "    axis.set_ylabel('правильность')\n",
    "    axis.set_title(\"Зависимость правильности\\n\\\n",
    "    на обучении и валидации от\\n{}\".format(title_labels_names[index]))\n",
    "    axis.legend(loc='best')\n",
    "    index = index + 1\n",
    "fig.tight_layout()"
   ]
  },
  {
   "cell_type": "markdown",
   "metadata": {},
   "source": [
    "Посмотрим какой параметр в среднем больше влияет на модель"
   ]
  },
  {
   "cell_type": "code",
   "execution_count": 561,
   "metadata": {
    "pixiedust": {
     "displayParams": {
      "handlerId": "tableView",
      "table_nocount": "true",
      "table_noschema": "true",
      "table_nosearch": "true"
     }
    }
   },
   "outputs": [
    {
     "data": {
      "text/html": [
       "<style type=\"text/css\">.pd_warning{display:none;}</style><div class=\"pd_warning\"><em>Hey, there's something awesome here! To see it, open this notebook outside GitHub, in a viewer like Jupyter</em></div>\n",
       "        <div class=\"pd_save is-viewer-good\" style=\"padding-right:10px;text-align: center;line-height:initial !important;font-size: xx-large;font-weight: 500;color: coral;\">\n",
       "            \n",
       "        </div>\n",
       "    <div id=\"chartFigure972b4915\" class=\"pd_save is-viewer-good\" style=\"overflow-x:auto\">\n",
       "            <style type=\"text/css\" class=\"pd_save\">\n",
       "    .df-table-wrapper .panel-heading {\n",
       "      border-radius: 0;\n",
       "      padding: 0px;\n",
       "    }\n",
       "    .df-table-wrapper .panel-heading:hover {\n",
       "      border-color: #008571;\n",
       "    }\n",
       "    .df-table-wrapper .panel-title a {\n",
       "      background-color: #f9f9fb;\n",
       "      color: #333333;\n",
       "      display: block;\n",
       "      outline: none;\n",
       "      padding: 10px 15px;\n",
       "      text-decoration: none;\n",
       "    }\n",
       "    .df-table-wrapper .panel-title a:hover {\n",
       "      background-color: #337ab7;\n",
       "      border-color: #2e6da4;\n",
       "      color: #ffffff;\n",
       "      display: block;\n",
       "      padding: 10px 15px;\n",
       "      text-decoration: none;\n",
       "    }\n",
       "    .df-table-wrapper {\n",
       "      font-size: small;\n",
       "      font-weight: 300;\n",
       "      letter-spacing: 0.5px;\n",
       "      line-height: normal;\n",
       "      height: inherit;\n",
       "      overflow: auto;\n",
       "    }\n",
       "    .df-table-search {\n",
       "      margin: 0 0 20px 0;\n",
       "    }\n",
       "    .df-table-search-count {\n",
       "      display: inline-block;\n",
       "      margin: 0 0 20px 0;\n",
       "    }\n",
       "    .df-table-container {\n",
       "      max-height: 50vh;\n",
       "      max-width: 100%;\n",
       "      overflow-x: auto;\n",
       "      position: relative;\n",
       "    }\n",
       "    .df-table-wrapper table {\n",
       "      border: 0 none #ffffff;\n",
       "      border-collapse: collapse;\n",
       "      margin: 0;\n",
       "      min-width: 100%;\n",
       "      padding: 0;\n",
       "      table-layout: fixed;\n",
       "      height: inherit;\n",
       "      overflow: auto;\n",
       "    }\n",
       "    .df-table-wrapper tr.hidden {\n",
       "      display: none;\n",
       "    }\n",
       "    .df-table-wrapper tr:nth-child(even) {\n",
       "      background-color: #f9f9fb;\n",
       "    }\n",
       "    .df-table-wrapper tr.even {\n",
       "      background-color: #f9f9fb;\n",
       "    }\n",
       "    .df-table-wrapper tr.odd {\n",
       "      background-color: #ffffff;\n",
       "    }\n",
       "    .df-table-wrapper td + td {\n",
       "      border-left: 1px solid #e0e0e0;\n",
       "    }\n",
       "  \n",
       "    .df-table-wrapper thead,\n",
       "    .fixed-header {\n",
       "      font-weight: 600;\n",
       "    }\n",
       "    .df-table-wrapper tr,\n",
       "    .fixed-row {\n",
       "      border: 0 none #ffffff;\n",
       "      margin: 0;\n",
       "      padding: 0;\n",
       "    }\n",
       "    .df-table-wrapper th,\n",
       "    .df-table-wrapper td,\n",
       "    .fixed-cell {\n",
       "      border: 0 none #ffffff;\n",
       "      margin: 0;\n",
       "      min-width: 50px;\n",
       "      padding: 5px 20px 5px 10px;\n",
       "      text-align: left;\n",
       "      word-wrap: break-word;\n",
       "    }\n",
       "    .df-table-wrapper th {\n",
       "      padding-bottom: 0;\n",
       "      padding-top: 0;\n",
       "    }\n",
       "    .df-table-wrapper th div {\n",
       "      max-height: 1px;\n",
       "      visibility: hidden;\n",
       "    }\n",
       "  \n",
       "    .df-schema-field {\n",
       "      margin-left: 10px;\n",
       "    }\n",
       "  \n",
       "    .fixed-header-container {\n",
       "      overflow: hidden;\n",
       "      position: relative;\n",
       "    }\n",
       "    .fixed-header {\n",
       "      border-bottom: 2px solid #000;\n",
       "      display: table;\n",
       "      position: relative;\n",
       "    }\n",
       "    .fixed-row {\n",
       "      display: table-row;\n",
       "    }\n",
       "    .fixed-cell {\n",
       "      display: table-cell;\n",
       "    }\n",
       "  </style>\n",
       "  \n",
       "  \n",
       "  <div class=\"df-table-wrapper df-table-wrapper-972b4915 panel-group pd_save\">\n",
       "    <!-- dataframe schema -->\n",
       "    \n",
       "    <!-- dataframe table -->\n",
       "    <div class=\"panel panel-default\" style=\"border:none;\">\n",
       "      \n",
       "      <div id=\"df-table-972b4915\" class=\"panel-collapse collapse in\">\n",
       "        <div class=\"panel-body\">\n",
       "          \n",
       "          <div>\n",
       "            \n",
       "          </div>\n",
       "          <!-- fixed header for when dataframe table scrolls -->\n",
       "          <div class=\"fixed-header-container\">\n",
       "            <div class=\"fixed-header\" style=\"width: 776px;\">\n",
       "              <div class=\"fixed-row\">\n",
       "                \n",
       "                <div class=\"fixed-cell\" style=\"width: 185px;\">размер словаря</div>\n",
       "                \n",
       "                <div class=\"fixed-cell\" style=\"width: 187px;\">длина отзыва</div>\n",
       "                \n",
       "                <div class=\"fixed-cell\" style=\"width: 243px;\">размер выходного вектора</div>\n",
       "                \n",
       "                <div class=\"fixed-cell\" style=\"width: 161px;\">выборка</div>\n",
       "                \n",
       "              </div>\n",
       "            </div>\n",
       "          </div>\n",
       "          <div class=\"df-table-container\">\n",
       "            <table class=\"df-table\">\n",
       "              <thead>\n",
       "                <tr>\n",
       "                  \n",
       "                  <th><div>размер словаря</div></th>\n",
       "                  \n",
       "                  <th><div>длина отзыва</div></th>\n",
       "                  \n",
       "                  <th><div>размер выходного вектора</div></th>\n",
       "                  \n",
       "                  <th><div>выборка</div></th>\n",
       "                  \n",
       "                </tr>\n",
       "              </thead>\n",
       "              <tbody>\n",
       "                \n",
       "                <tr>\n",
       "                  \n",
       "                  <td>0.9344999999999999</td>\n",
       "                  \n",
       "                  <td>0.9403312500000001</td>\n",
       "                  \n",
       "                  <td>0.951</td>\n",
       "                  \n",
       "                  <td>обучающая</td>\n",
       "                  \n",
       "                </tr>\n",
       "                \n",
       "                <tr>\n",
       "                  \n",
       "                  <td>0.8834000000000002</td>\n",
       "                  \n",
       "                  <td>0.89495</td>\n",
       "                  \n",
       "                  <td>0.8877999999999999</td>\n",
       "                  \n",
       "                  <td>валидационныая</td>\n",
       "                  \n",
       "                </tr>\n",
       "                \n",
       "                <tr>\n",
       "                  \n",
       "                  <td>0.870952</td>\n",
       "                  \n",
       "                  <td>0.87907</td>\n",
       "                  \n",
       "                  <td>0.8728066666666665</td>\n",
       "                  \n",
       "                  <td>тестовая</td>\n",
       "                  \n",
       "                </tr>\n",
       "                \n",
       "                <tr>\n",
       "                  \n",
       "                  <td>5.0</td>\n",
       "                  \n",
       "                  <td>4.75</td>\n",
       "                  \n",
       "                  <td>3.0</td>\n",
       "                  \n",
       "                  <td>количество</td>\n",
       "                  \n",
       "                </tr>\n",
       "                \n",
       "              </tbody>\n",
       "            </table>\n",
       "          </div>\n",
       "        </div>\n",
       "      </div>\n",
       "    </div>\n",
       "  </div>\n",
       "  \n",
       "  <script class=\"pd_save\">\n",
       "    $(function() {\n",
       "      var tableWrapper = $('.df-table-wrapper-972b4915');\n",
       "      var fixedHeader = $('.fixed-header', tableWrapper);\n",
       "      var tableContainer = $('.df-table-container', tableWrapper);\n",
       "      var table = $('.df-table', tableContainer);\n",
       "      var rows = $('tbody > tr', table);\n",
       "      var total = 4;\n",
       "  \n",
       "      fixedHeader\n",
       "        .css('width', table.width())\n",
       "        .find('.fixed-cell')\n",
       "        .each(function(i, e) {\n",
       "          $(this).css('width', $('.df-table-wrapper-972b4915 th:nth-child(' + (i+1) + ')').css('width'));\n",
       "        });\n",
       "  \n",
       "      tableContainer.scroll(function() {\n",
       "        fixedHeader.css({ left: table.position().left });\n",
       "      });\n",
       "  \n",
       "      rows.on(\"click\", function(e){\n",
       "          var txt = e.delegateTarget.innerText;\n",
       "          var splits = txt.split(\"\\t\");\n",
       "          var len = splits.length;\n",
       "          var hdrs = $(fixedHeader).find(\".fixed-cell\");\n",
       "          // Add all cells in the selected row as a map to be consumed by the target as needed\n",
       "          var payload = {type:\"select\", targetDivId: \"\" };\n",
       "          for (var i = 0; i < len; i++) {\n",
       "            payload[hdrs[i].innerHTML] = splits[i];\n",
       "          }\n",
       "  \n",
       "          //simple selection highlighting, client adds \"selected\" class\n",
       "          $(this).addClass(\"selected\").siblings().removeClass(\"selected\");\n",
       "          $(document).trigger('pd_event', payload);\n",
       "      });\n",
       "  \n",
       "      $('.df-table-search', tableWrapper).keyup(function() {\n",
       "        var val = '^(?=.*\\\\b' + $.trim($(this).val()).split(/\\s+/).join('\\\\b)(?=.*\\\\b') + ').*$';\n",
       "        var reg = RegExp(val, 'i');\n",
       "        var index = 0;\n",
       "        \n",
       "        rows.each(function(i, e) {\n",
       "          if (!reg.test($(this).text().replace(/\\s+/g, ' '))) {\n",
       "            $(this).attr('class', 'hidden');\n",
       "          }\n",
       "          else {\n",
       "            $(this).attr('class', (++index % 2 == 0 ? 'even' : 'odd'));\n",
       "          }\n",
       "        });\n",
       "        $('.df-table-search-count', tableWrapper).html('Showing ' + index + ' of ' + total + ' rows');\n",
       "      });\n",
       "    });\n",
       "  \n",
       "    $(\".df-table-wrapper td:contains('http://')\").each(function(){var tc = this.textContent; $(this).wrapInner(\"<a target='_blank' href='\" + tc + \"'></a>\");});\n",
       "    $(\".df-table-wrapper td:contains('https://')\").each(function(){var tc = this.textContent; $(this).wrapInner(\"<a target='_blank' href='\" + tc + \"'></a>\");});\n",
       "  </script>\n",
       "  \n",
       "        </div>"
      ],
      "text/plain": [
       "<IPython.core.display.HTML object>"
      ]
     },
     "metadata": {},
     "output_type": "display_data"
    }
   ],
   "source": [
    "res = []\n",
    "res_full = []\n",
    "result = {}\n",
    "for x in range(len(best_log_param)):\n",
    "    for y in best_log_param[current_param_names[x]]:\n",
    "        tmp = []\n",
    "        for z in y:\n",
    "            tmp.append(z)\n",
    "        res.append(tmp)\n",
    "        \n",
    "index = 0\n",
    "for f in [Enumerable(res).take(5).to_list(), \n",
    "          Enumerable(res).skip(5).take(5).to_list(), \n",
    "          Enumerable(res).skip(10).take(5).to_list()]:\n",
    "    tmp_par = []\n",
    "    for d in f:\n",
    "        tmp_par.append(np.mean(d))\n",
    "    result[current_param_names[index]] = tmp_par\n",
    "    index = index + 1\n",
    "main_df = pd.DataFrame(result, index=['обучающая','валидационныая', 'тестовая', 'параметры', 'количество'])\n",
    "main_df.columns=['размер словаря', 'длина отзыва', 'размер выходного вектора']\n",
    "main_df['выборка'] = main_df.index\n",
    "display(main_df.iloc[[0,1,2,4]])"
   ]
  },
  {
   "cell_type": "markdown",
   "metadata": {},
   "source": [
    "Можно заметить, что наибольшее влияние на модель на тестовой выблоке и валидационной оказывает длина отзыва, но это так же стльно увеличивает переобучение модели. Наиболее полезный результат можно увидеть при изменении параметра: размер словаря, где наблюдается наименьший эффект переобучения А так же он в среднем наступает гораздо позже, только на 5 эпохе, это говорит о том, что модель в принципе обучается лучше и больше устойчива. Но в целом все варианты переобучаются. Стоит увеличить сложность модели, и посмотреть результат"
   ]
  },
  {
   "cell_type": "markdown",
   "metadata": {},
   "source": [
    "Лучшие параметры"
   ]
  },
  {
   "cell_type": "code",
   "execution_count": 563,
   "metadata": {},
   "outputs": [
    {
     "data": {
      "text/plain": [
       "max_features_params        20000\n",
       "max_vocab                    200\n",
       "output_vector_dimension       64\n",
       "dtype: int64"
      ]
     },
     "execution_count": 563,
     "metadata": {},
     "output_type": "execute_result"
    }
   ],
   "source": [
    "pd.Series(best_params)"
   ]
  },
  {
   "cell_type": "markdown",
   "metadata": {},
   "source": [
    "Сделаем модель с лучшими параметрами"
   ]
  },
  {
   "cell_type": "markdown",
   "metadata": {},
   "source": [
    "Подготовим параметры"
   ]
  },
  {
   "cell_type": "code",
   "execution_count": 589,
   "metadata": {},
   "outputs": [],
   "source": [
    "max_features = 20000\n",
    "maxlen = 200\n",
    "output_vector_dimension = 64"
   ]
  },
  {
   "cell_type": "markdown",
   "metadata": {},
   "source": [
    "Подготовим данные"
   ]
  },
  {
   "cell_type": "code",
   "execution_count": 590,
   "metadata": {},
   "outputs": [],
   "source": [
    "x_train, x_test, y_train, y_test = prepare_data_set(train_df, test_df, 'review_vec', 'estimate')\n",
    "x_train = keras.preprocessing.sequence.pad_sequences(x_train, maxlen)\n",
    "x_test = keras.preprocessing.sequence.pad_sequences(x_test, maxlen)"
   ]
  },
  {
   "cell_type": "markdown",
   "metadata": {},
   "source": [
    "Обучим модель"
   ]
  },
  {
   "cell_type": "code",
   "execution_count": 596,
   "metadata": {
    "scrolled": true
   },
   "outputs": [
    {
     "name": "stdout",
     "output_type": "stream",
     "text": [
      "Wall time: 1min 10s\n"
     ]
    }
   ],
   "source": [
    "%%time\n",
    "model_001, hstory_001 = model_001(max_features=max_features, \n",
    "                                  vector_dim=output_vector_dimension, \n",
    "                                  maxlen=maxlen, x=x_train, y=y_train, verbose=1)\n",
    "clear_output()"
   ]
  },
  {
   "cell_type": "code",
   "execution_count": 606,
   "metadata": {},
   "outputs": [
    {
     "name": "stdout",
     "output_type": "stream",
     "text": [
      "Правильность на обучающей выборке: 0.9553\n",
      "Правильность на валидационной выборке: 0.8908\n",
      "Правильность на тестовой выборке: 0.8758\n"
     ]
    }
   ],
   "source": [
    "print(\"Правильность на обучающей выборке: {}\\n\\\n",
    "Правильность на валидационной выборке: {}\\n\\\n",
    "Правильность на тестовой выборке: {}\".format(\n",
    "    np.max(hstory_001.history['acc']), np.max(hstory_001.history['val_acc']), \n",
    "    model_001.evaluate(x_test, y_test, verbose=0)[1]))"
   ]
  },
  {
   "cell_type": "markdown",
   "metadata": {},
   "source": [
    "## 10. Создание новых признаков и описание этого процесса"
   ]
  },
  {
   "cell_type": "markdown",
   "metadata": {},
   "source": [
    "Попробуем учучшить простую модель, так как размер словаря наиболее интересная фича, можно попробовать его сократить, сделаем сначала лемматизацию признаков и посмотрим как это повлияет на результат"
   ]
  },
  {
   "cell_type": "markdown",
   "metadata": {},
   "source": [
    "**Лемматизация**"
   ]
  },
  {
   "cell_type": "code",
   "execution_count": 608,
   "metadata": {},
   "outputs": [
    {
     "name": "stdout",
     "output_type": "stream",
     "text": [
      "Wall time: 48.2 s\n"
     ]
    }
   ],
   "source": [
    "%%time\n",
    "print('iter: 1/2')\n",
    "train_df['rewiew_lemmatize'] = data_hlp.lemmatization(train_df['review'])\n",
    "clear_output()\n",
    "print('iter: 2/2')\n",
    "test_df['rewiew_lemmatize'] = data_hlp.lemmatization(test_df['review'])\n",
    "clear_output()"
   ]
  },
  {
   "cell_type": "markdown",
   "metadata": {},
   "source": [
    "**Создадим словарь**"
   ]
  },
  {
   "cell_type": "code",
   "execution_count": 609,
   "metadata": {},
   "outputs": [
    {
     "name": "stdout",
     "output_type": "stream",
     "text": [
      "Wall time: 1.39 s\n"
     ]
    }
   ],
   "source": [
    "%%time\n",
    "tarin_df_lemm_vocab_by_count, train_df_lemm_vocab_by_popular = data_hlp.create_vocab(train_df['rewiew_lemmatize'])\n",
    "clear_output()"
   ]
  },
  {
   "cell_type": "markdown",
   "metadata": {},
   "source": [
    "Словарь уменьшился"
   ]
  },
  {
   "cell_type": "code",
   "execution_count": 610,
   "metadata": {},
   "outputs": [
    {
     "data": {
      "text/plain": [
       "7597"
      ]
     },
     "execution_count": 610,
     "metadata": {},
     "output_type": "execute_result"
    }
   ],
   "source": [
    "len(train_df_vocab_by_popular) - len(tarin_df_lemm_vocab_by_count)"
   ]
  },
  {
   "cell_type": "markdown",
   "metadata": {},
   "source": [
    "Слов в словаре стало меньше на 7597. Посмотрим, сможет ли это помочь модели"
   ]
  },
  {
   "cell_type": "markdown",
   "metadata": {},
   "source": [
    "**Создание вектороного представления**"
   ]
  },
  {
   "cell_type": "markdown",
   "metadata": {},
   "source": [
    "Подготовим параметры"
   ]
  },
  {
   "cell_type": "code",
   "execution_count": 628,
   "metadata": {},
   "outputs": [],
   "source": [
    "max_features = 20000\n",
    "maxlen = 200\n",
    "output_vector_dimension = 64"
   ]
  },
  {
   "cell_type": "markdown",
   "metadata": {},
   "source": [
    "Подготовим данные"
   ]
  },
  {
   "cell_type": "code",
   "execution_count": 629,
   "metadata": {},
   "outputs": [],
   "source": [
    "#time\n",
    "print(\"iter: 1/2\")\n",
    "train_df['review_lemm_vec'] = data_hlp.create_vectors(train_df['rewiew_lemmatize'], \n",
    "                                                      tarin_df_lemm_vocab_by_count, max_features)\n",
    "clear_output()\n",
    "print(\"iter: 1/2\")\n",
    "test_df['review_lemm_vec'] = data_hlp.create_vectors(test_df['rewiew_lemmatize'], \n",
    "                                                     tarin_df_lemm_vocab_by_count, max_features)\n",
    "clear_output()"
   ]
  },
  {
   "cell_type": "code",
   "execution_count": 630,
   "metadata": {},
   "outputs": [],
   "source": [
    "x_train_lemm, x_test_lemm, y_train_lemm, y_test_lemm = prepare_data_set(train_df, test_df, 'review_lemm_vec', 'estimate')\n",
    "x_train_lemm = keras.preprocessing.sequence.pad_sequences(x_train_lemm, maxlen)\n",
    "x_test_lemm = keras.preprocessing.sequence.pad_sequences(x_test_lemm, maxlen)"
   ]
  },
  {
   "cell_type": "markdown",
   "metadata": {},
   "source": [
    "Обучим модель"
   ]
  },
  {
   "cell_type": "code",
   "execution_count": 631,
   "metadata": {},
   "outputs": [
    {
     "name": "stdout",
     "output_type": "stream",
     "text": [
      "Wall time: 46.2 s\n"
     ]
    }
   ],
   "source": [
    "%%time\n",
    "model_001_lemm, hstory_001_lemm = model_001(max_features=max_features, \n",
    "                                  vector_dim=output_vector_dimension, \n",
    "                                  maxlen=maxlen, x=x_train_lemm, y=y_train_lemm, verbose=1)\n",
    "clear_output()"
   ]
  },
  {
   "cell_type": "code",
   "execution_count": 646,
   "metadata": {},
   "outputs": [
    {
     "name": "stdout",
     "output_type": "stream",
     "text": [
      "Правильность на обучающей выборке: [0.7646, 0.86445]\n",
      "Правильность на валидационной выборке: [0.8452, 0.8376]\n",
      "Правильность на тестовой выборке: 0.84124\n"
     ]
    }
   ],
   "source": [
    "print(\"Правильность на обучающей выборке: {}\\n\\\n",
    "Правильность на валидационной выборке: {}\\n\\\n",
    "Правильность на тестовой выборке: {}\".format(\n",
    "    hstory_001_lemm.history['acc'], hstory_001_lemm.history['val_acc'], \n",
    "    model_001_lemm.evaluate(x_test_lemm, y_test_lemm, verbose=0)[1]))"
   ]
  },
  {
   "cell_type": "markdown",
   "metadata": {},
   "source": [
    "Лемматизация не помогла, правильность работы алгоритма снизилась. Судя по всему разные формы слов имеют некую силу в определении тональности реценизии. И лемматизация эту нотку притупляет. Гипотеза об улучшении прогнозной силы с пременением лемматизации в данном случае не подтвердилась"
   ]
  },
  {
   "cell_type": "markdown",
   "metadata": {},
   "source": [
    "В итоге мы остановились на том, что модель слишком проста, рано переобучается. Необходимо повысить сложность модели. Попробуем обучить Word2Vec"
   ]
  },
  {
   "cell_type": "markdown",
   "metadata": {},
   "source": [
    "**Обучение Word2Vec**"
   ]
  },
  {
   "cell_type": "code",
   "execution_count": 21,
   "metadata": {},
   "outputs": [],
   "source": [
    "np.random.seed(18)"
   ]
  },
  {
   "cell_type": "code",
   "execution_count": 5,
   "metadata": {},
   "outputs": [],
   "source": [
    "from keras.preprocessing.text import Tokenizer\n",
    "from keras.preprocessing.sequence import pad_sequences"
   ]
  },
  {
   "cell_type": "code",
   "execution_count": 23,
   "metadata": {},
   "outputs": [],
   "source": [
    "maxlen = 100 # Длина отзыва\n",
    "training_samples = 200 # Количество выборок\n",
    "validation_samples = 10000 # Проверка на выборке из 10000 образцов\n",
    "max_words = 10000 # Рассмотрение только 10 000 самых используемых слов\n",
    "embedding_dim = 300"
   ]
  },
  {
   "cell_type": "code",
   "execution_count": 7,
   "metadata": {},
   "outputs": [],
   "source": [
    "train_df_frac = train_df.sample(frac=1)\n",
    "test_df_frac = test_df.sample(frac=1)"
   ]
  },
  {
   "cell_type": "code",
   "execution_count": 8,
   "metadata": {},
   "outputs": [],
   "source": [
    "tokenizer = Tokenizer(num_words=max_words)\n",
    "tokenizer.fit_on_texts(train_df_frac['review'])"
   ]
  },
  {
   "cell_type": "code",
   "execution_count": 9,
   "metadata": {},
   "outputs": [],
   "source": [
    "sequences_train = tokenizer.texts_to_sequences(train_df_frac['review'])\n",
    "sequences_test = tokenizer.texts_to_sequences(test_df_frac['review'])"
   ]
  },
  {
   "cell_type": "markdown",
   "metadata": {},
   "source": [
    "Сериализуем токенайзер, чтобы использовать в приложении"
   ]
  },
  {
   "cell_type": "code",
   "execution_count": 57,
   "metadata": {},
   "outputs": [
    {
     "name": "stdout",
     "output_type": "stream",
     "text": [
      "saving success!\n"
     ]
    }
   ],
   "source": [
    "data_hlp.safe_to_file(tokenizer, 'tokenizer.pickle')"
   ]
  },
  {
   "cell_type": "code",
   "execution_count": 56,
   "metadata": {},
   "outputs": [
    {
     "data": {
      "text/plain": [
       "[[4469, 74]]"
      ]
     },
     "execution_count": 56,
     "metadata": {},
     "output_type": "execute_result"
    }
   ],
   "source": [
    "tokenizer.texts_to_sequences(['hello  world'])"
   ]
  },
  {
   "cell_type": "code",
   "execution_count": 11,
   "metadata": {},
   "outputs": [],
   "source": [
    "word_index = tokenizer.word_index"
   ]
  },
  {
   "cell_type": "code",
   "execution_count": 12,
   "metadata": {},
   "outputs": [
    {
     "data": {
      "text/plain": [
       "74065"
      ]
     },
     "execution_count": 12,
     "metadata": {},
     "output_type": "execute_result"
    }
   ],
   "source": [
    "len(word_index)"
   ]
  },
  {
   "cell_type": "code",
   "execution_count": 13,
   "metadata": {},
   "outputs": [],
   "source": [
    "data_train = pad_sequences(sequences_train, maxlen=maxlen)\n",
    "data_test = pad_sequences(sequences_test, maxlen=maxlen)\n",
    "label_train = np.array(train_df_frac['estimate'])\n",
    "label_test = np.array(test_df_frac['estimate'])"
   ]
  },
  {
   "cell_type": "code",
   "execution_count": 14,
   "metadata": {},
   "outputs": [],
   "source": [
    "sentence_stream = [doc.split(\" \") for doc in train_df_frac['review']]"
   ]
  },
  {
   "cell_type": "code",
   "execution_count": 16,
   "metadata": {},
   "outputs": [],
   "source": [
    "from gensim.models.word2vec import Word2Vec\n",
    "model = Word2Vec(size=300, window=7, min_count=10, workers=10)\n",
    "model.build_vocab(sentence_stream)"
   ]
  },
  {
   "cell_type": "code",
   "execution_count": 17,
   "metadata": {},
   "outputs": [
    {
     "data": {
      "text/plain": [
       "(27333137, 29880890)"
      ]
     },
     "execution_count": 17,
     "metadata": {},
     "output_type": "execute_result"
    }
   ],
   "source": [
    "model.train(sentence_stream, epochs=10, total_examples=model.corpus_count)"
   ]
  },
  {
   "cell_type": "markdown",
   "metadata": {},
   "source": [
    "Создадим словарь"
   ]
  },
  {
   "cell_type": "code",
   "execution_count": 25,
   "metadata": {},
   "outputs": [],
   "source": [
    "embedding_matrix = np.zeros((max_words, embedding_dim))\n",
    "for word, i in word_index.items():\n",
    "    if i < max_words:\n",
    "        try:\n",
    "            embedding_vector = model.wv.get_vector(word)\n",
    "        except:\n",
    "            embedding_vector = 0\n",
    "        if embedding_vector is not None:\n",
    "            embedding_matrix[i] = embedding_vector"
   ]
  },
  {
   "cell_type": "code",
   "execution_count": 30,
   "metadata": {},
   "outputs": [],
   "source": []
  },
  {
   "cell_type": "code",
   "execution_count": 39,
   "metadata": {},
   "outputs": [
    {
     "name": "stdout",
     "output_type": "stream",
     "text": [
      "Правильность на обучающей выборке: [0.7742, 0.8192, 0.833, 0.84145]\n",
      "Правильность на валидационной выборке: [0.8046, 0.8132, 0.8346, 0.8208]\n",
      "Правильность на тестовой выборке: 0.82964\n"
     ]
    }
   ],
   "source": [
    "from keras.models import Sequential\n",
    "from keras.layers import Embedding, Flatten, Dense, SimpleRNN, LSTM\n",
    "model = Sequential()\n",
    "model.add(Embedding(max_words, embedding_dim, input_length=maxlen))\n",
    "model.add(SimpleRNN(32, return_sequences=True))\n",
    "model.add(SimpleRNN(32, return_sequences=True))\n",
    "model.add(SimpleRNN(32))\n",
    "model.add(Dense(32, activation='relu'))\n",
    "model.add(Dense(1, activation='sigmoid'))\n",
    "\n",
    "# Заморозим первый слой, чтобы он не обучался\n",
    "model.layers[0].set_weights([embedding_matrix])\n",
    "model.layers[0].trainable = False\n",
    "\n",
    "model.compile(optimizer='rmsprop',\n",
    "    loss='binary_crossentropy',\n",
    "    metrics=['acc'])\n",
    "\n",
    "callbacks_list = [\n",
    "                    keras.callbacks.EarlyStopping(\n",
    "                    monitor='val_acc',\n",
    "                    patience=1)]\n",
    "\n",
    "history = model.fit(data_train, label_train,\n",
    "    epochs=10,\n",
    "    batch_size=32,\n",
    "    validation_split=0.2,\n",
    "                   callbacks=callbacks_list)\n",
    "clear_output()\n",
    "\n",
    "print(\"Правильность на обучающей выборке: {}\\n\\\n",
    "Правильность на валидационной выборке: {}\\n\\\n",
    "Правильность на тестовой выборке: {}\".format(\n",
    "history.history['acc'], history.history['val_acc'], \n",
    "model.evaluate(data_test, label_test, verbose=0)[1]))"
   ]
  },
  {
   "cell_type": "markdown",
   "metadata": {},
   "source": [
    "Снизить переобучение удалось используя Word2Vec, но правильность модели заметно упала. Попробуем обучить такую-же есть, но не используя Word2Vec"
   ]
  },
  {
   "cell_type": "code",
   "execution_count": 40,
   "metadata": {},
   "outputs": [
    {
     "name": "stdout",
     "output_type": "stream",
     "text": [
      "Правильность на обучающей выборке: [0.77365, 0.88985, 0.9321]\n",
      "Правильность на валидационной выборке: [0.8454, 0.857, 0.8372]\n",
      "Правильность на тестовой выборке: 0.82536\n"
     ]
    }
   ],
   "source": [
    "from keras.models import Sequential\n",
    "from keras.layers import Embedding, Flatten, Dense, SimpleRNN, LSTM\n",
    "model = Sequential()\n",
    "model.add(Embedding(max_words, embedding_dim, input_length=maxlen))\n",
    "model.add(SimpleRNN(32, return_sequences=True))\n",
    "model.add(SimpleRNN(32, return_sequences=True))\n",
    "model.add(SimpleRNN(32))\n",
    "model.add(Dense(32, activation='relu'))\n",
    "model.add(Dense(1, activation='sigmoid'))\n",
    "\n",
    "model.compile(optimizer='rmsprop',\n",
    "    loss='binary_crossentropy',\n",
    "    metrics=['acc'])\n",
    "\n",
    "callbacks_list = [\n",
    "                    keras.callbacks.EarlyStopping(\n",
    "                    monitor='val_acc',\n",
    "                    patience=1)]\n",
    "\n",
    "history = model.fit(data_train, label_train,\n",
    "    epochs=10,\n",
    "    batch_size=32,\n",
    "    validation_split=0.2,\n",
    "                   callbacks=callbacks_list)\n",
    "clear_output()\n",
    "\n",
    "print(\"Правильность на обучающей выборке: {}\\n\\\n",
    "Правильность на валидационной выборке: {}\\n\\\n",
    "Правильность на тестовой выборке: {}\".format(\n",
    "history.history['acc'], history.history['val_acc'], \n",
    "model.evaluate(data_test, label_test, verbose=0)[1]))"
   ]
  },
  {
   "cell_type": "markdown",
   "metadata": {},
   "source": [
    "Повысилось переобучение, а тестовая и валидационная выборка остались почти на том же уровне"
   ]
  },
  {
   "cell_type": "code",
   "execution_count": 43,
   "metadata": {},
   "outputs": [
    {
     "name": "stdout",
     "output_type": "stream",
     "text": [
      "Правильность на обучающей выборке: [0.83385, 0.8737]\n",
      "Правильность на валидационной выборке: [0.8638, 0.8578]\n",
      "Правильность на тестовой выборке: 0.86372\n"
     ]
    }
   ],
   "source": [
    "from keras.models import Sequential\n",
    "from keras.layers import Embedding, Flatten, Dense, SimpleRNN, LSTM\n",
    "model = Sequential()\n",
    "model.add(Embedding(max_words, embedding_dim, input_length=maxlen))\n",
    "model.add(LSTM(32))\n",
    "model.add(Dense(32, activation='relu'))\n",
    "model.add(Dense(1, activation='sigmoid'))\n",
    "\n",
    "# Заморозим первый слой, чтобы он не обучался\n",
    "model.layers[0].set_weights([embedding_matrix])\n",
    "model.layers[0].trainable = False\n",
    "\n",
    "model.compile(optimizer='rmsprop',\n",
    "    loss='binary_crossentropy',\n",
    "    metrics=['acc'])\n",
    "\n",
    "callbacks_list = [\n",
    "                    keras.callbacks.EarlyStopping(\n",
    "                    monitor='val_acc',\n",
    "                    patience=1)]\n",
    "\n",
    "history = model.fit(data_train, label_train,\n",
    "    epochs=10,\n",
    "    batch_size=32,\n",
    "    validation_split=0.2,\n",
    "                   callbacks=callbacks_list)\n",
    "clear_output()\n",
    "\n",
    "print(\"Правильность на обучающей выборке: {}\\n\\\n",
    "Правильность на валидационной выборке: {}\\n\\\n",
    "Правильность на тестовой выборке: {}\".format(\n",
    "history.history['acc'], history.history['val_acc'], \n",
    "model.evaluate(data_test, label_test, verbose=0)[1]))"
   ]
  },
  {
   "cell_type": "markdown",
   "metadata": {},
   "source": [
    "Лучшая модель которую удалось получить с помощью нейронных сетей, причем с импользованием Word2Vec, если конечно покрутить параметры у векторизатора а так же со слоями сети, то можно улучшить результат. В этой модели практически на всех трех выборках результаты рядом, модель наиболее устойчива. Сохраним ее"
   ]
  },
  {
   "cell_type": "markdown",
   "metadata": {},
   "source": [
    "**Сохраним модель**"
   ]
  },
  {
   "cell_type": "code",
   "execution_count": 44,
   "metadata": {},
   "outputs": [
    {
     "name": "stdout",
     "output_type": "stream",
     "text": [
      "Saved model to disk\n"
     ]
    }
   ],
   "source": [
    "# serialize model to JSON\n",
    "model_json = model.to_json()\n",
    "with open(\"model_best_neuro.json\", \"w\") as json_file:\n",
    "    json_file.write(model_json)\n",
    "# serialize weights to HDF5\n",
    "model.save_weights(\"model_best_neuro.h5\")\n",
    "print(\"Saved model to disk\")"
   ]
  },
  {
   "cell_type": "markdown",
   "metadata": {},
   "source": [
    "**Загрузка модели**"
   ]
  },
  {
   "cell_type": "code",
   "execution_count": null,
   "metadata": {},
   "outputs": [],
   "source": [
    "# # load json and create model\n",
    "# json_file = open('model.json', 'r')\n",
    "# loaded_model_json = json_file.read()\n",
    "# json_file.close()\n",
    "# loaded_model = model_from_json(loaded_model_json)\n",
    "# # load weights into new model\n",
    "# loaded_model.load_weights(\"model.h5\")\n",
    "# print(\"Loaded model from disk\")"
   ]
  },
  {
   "cell_type": "markdown",
   "metadata": {},
   "source": [
    "Попробуем традиционные модели мвшинного обучения и старый добрый Tf-idf векторайзер. Посмотрим, стоила ли игра свеч"
   ]
  },
  {
   "cell_type": "markdown",
   "metadata": {},
   "source": [
    "**TF-IDF**"
   ]
  },
  {
   "cell_type": "markdown",
   "metadata": {},
   "source": [
    "Опять перемешаем выборки"
   ]
  },
  {
   "cell_type": "code",
   "execution_count": 220,
   "metadata": {},
   "outputs": [],
   "source": [
    "train_df_frac = train_df.sample(frac=1)\n",
    "test_df_frac = test_df.sample(frac=1)"
   ]
  },
  {
   "cell_type": "markdown",
   "metadata": {},
   "source": [
    "Обучим TF-IDF"
   ]
  },
  {
   "cell_type": "code",
   "execution_count": 223,
   "metadata": {},
   "outputs": [
    {
     "name": "stdout",
     "output_type": "stream",
     "text": [
      "Правильность на обучающей выборке: 0.91768\n",
      "Правильность на валидационной выборке: 0.88464\n",
      "Правильность на тестовой выборке: 0.88456\n"
     ]
    }
   ],
   "source": [
    "tfidf = TfidfVectorizer(ngram_range=(1, 2), max_features=5000)\n",
    "transformed_features = tfidf.fit_transform(train_df_frac['review'])\n",
    "test_transformed = tfidf.transform(test_df_frac['review'])\n",
    "logreg = LogisticRegression()\n",
    "param_grid = {'C': [1]}\n",
    "gscv = GridSearchCV(estimator=logreg, param_grid=param_grid, cv=5)\n",
    "gscv.fit(transformed_features, train_df_frac['estimate'])\n",
    "print(\"Правильность на обучающей выборке: {}\\n\\\n",
    "Правильность на валидационной выборке: {}\\n\\\n",
    "Правильность на тестовой выборке: {}\".format(\n",
    "    gscv.score(transformed_features, train_df_frac['estimate']),\n",
    "    gscv.best_score_, \n",
    "    gscv.score(test_transformed, test_df_frac['estimate'])))"
   ]
  },
  {
   "cell_type": "markdown",
   "metadata": {},
   "source": [
    "## Выводы"
   ]
  },
  {
   "cell_type": "markdown",
   "metadata": {},
   "source": [
    "В итоге мы видим, что без лишних телодвижений и сложных операций простая логистическая регрессия справилась с зедечей лучше чем нейронные сети. Конечно выводы делать рано, и все зависит от качества подбора параметров, и были испробованы только некоторые подходы и гипотрезы которые можно применить к данным. В данной задаче еще много чего можно поисследовать и улучшать модель можно до бесконечности. Но для первого подхода весьма неплохой результат."
   ]
  }
 ],
 "metadata": {
  "kernelspec": {
   "display_name": "Python 3",
   "language": "python",
   "name": "python3"
  },
  "language_info": {
   "codemirror_mode": {
    "name": "ipython",
    "version": 3
   },
   "file_extension": ".py",
   "mimetype": "text/x-python",
   "name": "python",
   "nbconvert_exporter": "python",
   "pygments_lexer": "ipython3",
   "version": "3.6.4"
  },
  "varInspector": {
   "cols": {
    "lenName": 16,
    "lenType": 16,
    "lenVar": 40
   },
   "kernels_config": {
    "python": {
     "delete_cmd_postfix": "",
     "delete_cmd_prefix": "del ",
     "library": "var_list.py",
     "varRefreshCmd": "print(var_dic_list())"
    },
    "r": {
     "delete_cmd_postfix": ") ",
     "delete_cmd_prefix": "rm(",
     "library": "var_list.r",
     "varRefreshCmd": "cat(var_dic_list()) "
    }
   },
   "position": {
    "height": "355px",
    "left": "795px",
    "right": "20px",
    "top": "101px",
    "width": "593px"
   },
   "types_to_exclude": [
    "module",
    "function",
    "builtin_function_or_method",
    "instance",
    "_Feature"
   ],
   "window_display": false
  }
 },
 "nbformat": 4,
 "nbformat_minor": 2
}
